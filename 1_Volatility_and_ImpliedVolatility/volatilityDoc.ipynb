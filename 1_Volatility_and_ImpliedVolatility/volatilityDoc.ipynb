{
 "cells": [
  {
   "cell_type": "code",
   "execution_count": 53,
   "metadata": {},
   "outputs": [],
   "source": [
    "from docx import Document\n",
    "from docx.shared import Inches\n",
    "import pandas as pd\n",
    "from docx.enum.style import WD_STYLE_TYPE"
   ]
  },
  {
   "cell_type": "code",
   "execution_count": 93,
   "metadata": {},
   "outputs": [],
   "source": [
    "document = Document()\n",
    "styles = document.styles\n",
    "# table_styles = [s for s in styles if s.type == WD_STYLE_TYPE.TABLE]\n",
    "# for style in table_styles:\n",
    "#     print(style.name)\n",
    "document.add_heading('Weekly Report of DcBot', 0)\n",
    "\n",
    "# p = document.add_paragraph('A plain paragraph having some ')\n",
    "# p.add_run('bold').bold = True\n",
    "# p.add_run(' and some ')\n",
    "# p.add_run('italic.').italic = True\n",
    "def creatTableFromDataFrame(df, table):\n",
    "    for j in range(df.shape[-1]):\n",
    "        table.cell(0,j).text = df.columns[j]\n",
    "        if j == 0:\n",
    "            table.cell(0,j).width = Inches(4)\n",
    "        else:\n",
    "            table.cell(0,j).width = Inches(1)\n",
    "    # add the rest of the data frame\n",
    "    for i in range(df.shape[0]):\n",
    "        for j in range(df.shape[-1]):\n",
    "            table.cell(i+1,j).text = str(df.values[i,j])\n",
    "\n",
    "pVolatility = document.add_paragraph()\n",
    "pVolatility.add_run('1_历史波动率与隐含波动率').bold = True\n",
    "document.add_paragraph('波动率过小会导致盈利空间不足带来的磨损，而波动率过大风险也会随之放大，对策略最佳的波动率处于适中状态。以下是2022日历史波动率的统计：')\n",
    "document.add_picture('histVolDistribution.png', width=Inches(6.2), height=Inches(3.5))\n",
    "hvStatistic2022 = pd.read_excel('hvStatistic2022.xlsx')\n",
    "hvStatistic2022Df = hvStatistic2022.rename(columns={'Unnamed: 0': 'Historical Volatility Statistic 2022'})\n",
    "\n",
    "def creatTableFromDataFrame(df, table):\n",
    "    for j in range(df.shape[-1]):\n",
    "        table.cell(0,j).text = df.columns[j]\n",
    "        if j == 0:\n",
    "            table.cell(0,j).width = Inches(4)\n",
    "        else:\n",
    "            table.cell(0,j).width = Inches(1)\n",
    "    # add the rest of the data frame\n",
    "    for i in range(df.shape[0]):\n",
    "        for j in range(df.shape[-1]):\n",
    "            table.cell(i+1,j).text = str(df.values[i,j])\n",
    "\n",
    "tableHv2022 = document.add_table(hvStatistic2022Df.shape[0]+1,hvStatistic2022Df.shape[1],style = 'Light Grid Accent 1')\n",
    "creatTableFromDataFrame(hvStatistic2022Df, tableHv2022)\n",
    "\n",
    "document.add_paragraph('')\n",
    "\n",
    "document.add_paragraph('隐含波动率（Implied Volatility）是通过期权定价模型计算得到的的波动率值,又称未来已实现波动率（Future Volatility）或者未来波动率，是预期未来时间段内的标的资产价格变化的幅度。以下是2022年日级别隐含波动率的统计：')\n",
    "document.add_paragraph('数据来源： https://t3index.com/indexes/bit-vol/')\n",
    "document.add_picture('impliedVolDistribution.png', width=Inches(6.2), height=Inches(3.5))\n",
    "ivStatistic2022 = pd.read_excel('ivStatistic2022.xlsx')\n",
    "ivStatistic2022Df = hvStatistic2022.rename(columns={'Unnamed: 0': 'Implied Volatility Statistic 2022'})\n",
    "tableIv2022 = document.add_table(ivStatistic2022Df.shape[0]+1,ivStatistic2022Df.shape[1],style = 'Light Grid Accent 1')\n",
    "creatTableFromDataFrame(ivStatistic2022Df, tableIv2022)\n",
    "\n",
    "weeklyVolatility = document.add_paragraph()\n",
    "weeklyVolatility.add_run('本周的历史波动率与隐含波动率的统计').bold = True\n",
    "document.add_picture('weeklyVol.png', width=Inches(6.2), height=Inches(3.5))\n",
    "\n",
    "histVolExcel = pd.read_excel('histVolTable.xlsx')\n",
    "histVolTable = document.add_table(histVolExcel.shape[0]+1,histVolExcel.shape[1],style = 'Light Grid Accent 1')\n",
    "creatTableFromDataFrame(histVolExcel, histVolTable)\n",
    "document.add_paragraph('')\n",
    "impliedVolExcel = pd.read_excel('impliedVolTable.xlsx')\n",
    "impliedVolTable = document.add_table(impliedVolExcel.shape[0]+1,impliedVolExcel.shape[1],style = 'Light Grid Accent 1')\n",
    "creatTableFromDataFrame(impliedVolExcel, impliedVolTable)\n",
    "\n",
    "# document.add_paragraph('Intense quote', style='Intense Quote')\n",
    "# document.add_paragraph(\n",
    "#     'first item in unordered list', style='List Bullet'\n",
    "# )\n",
    "# document.add_paragraph(\n",
    "#     'first item in ordered list', style='List Number'\n",
    "# )\n",
    "\n",
    "document.add_page_break()\n",
    "\n",
    "document.save('demo1.docx')"
   ]
  },
  {
   "cell_type": "code",
   "execution_count": 84,
   "metadata": {},
   "outputs": [],
   "source": [
    "histVolTable = pd.read_excel('histVolTable.xlsx')"
   ]
  },
  {
   "cell_type": "code",
   "execution_count": 85,
   "metadata": {},
   "outputs": [
    {
     "data": {
      "text/html": [
       "<div>\n",
       "<style scoped>\n",
       "    .dataframe tbody tr th:only-of-type {\n",
       "        vertical-align: middle;\n",
       "    }\n",
       "\n",
       "    .dataframe tbody tr th {\n",
       "        vertical-align: top;\n",
       "    }\n",
       "\n",
       "    .dataframe thead th {\n",
       "        text-align: right;\n",
       "    }\n",
       "</style>\n",
       "<table border=\"1\" class=\"dataframe\">\n",
       "  <thead>\n",
       "    <tr style=\"text-align: right;\">\n",
       "      <th></th>\n",
       "      <th>2023-01-06~2023-01-13</th>\n",
       "      <th>BTC</th>\n",
       "      <th>ETH</th>\n",
       "    </tr>\n",
       "  </thead>\n",
       "  <tbody>\n",
       "    <tr>\n",
       "      <th>0</th>\n",
       "      <td>Current Historical Volatility</td>\n",
       "      <td>3.44%</td>\n",
       "      <td>4.23%</td>\n",
       "    </tr>\n",
       "    <tr>\n",
       "      <th>1</th>\n",
       "      <td>Current Historical Volatility Quantile</td>\n",
       "      <td>74.02%</td>\n",
       "      <td>65.71%</td>\n",
       "    </tr>\n",
       "    <tr>\n",
       "      <th>2</th>\n",
       "      <td>Weekly Mean of Historical Volatility</td>\n",
       "      <td>1.23%</td>\n",
       "      <td>1.82%</td>\n",
       "    </tr>\n",
       "    <tr>\n",
       "      <th>3</th>\n",
       "      <td>Weekly Pct_Change of Historical Volatility</td>\n",
       "      <td>328.49%</td>\n",
       "      <td>178.58%</td>\n",
       "    </tr>\n",
       "  </tbody>\n",
       "</table>\n",
       "</div>"
      ],
      "text/plain": [
       "                        2023-01-06~2023-01-13      BTC      ETH\n",
       "0               Current Historical Volatility    3.44%    4.23%\n",
       "1      Current Historical Volatility Quantile   74.02%   65.71%\n",
       "2        Weekly Mean of Historical Volatility    1.23%    1.82%\n",
       "3  Weekly Pct_Change of Historical Volatility  328.49%  178.58%"
      ]
     },
     "execution_count": 85,
     "metadata": {},
     "output_type": "execute_result"
    }
   ],
   "source": [
    "histVolTable"
   ]
  },
  {
   "cell_type": "code",
   "execution_count": 24,
   "metadata": {},
   "outputs": [
    {
     "data": {
      "text/plain": [
       "{'BTC': {'Current Historical Volatility': '3.44%',\n",
       "  'Current Historical Volatility Quantile': '74.02%',\n",
       "  'Weekly Mean of Historical Volatility': '1.23%',\n",
       "  'Weekly Pct_Change of Historical Volatility': '328.49%'},\n",
       " 'ETH': {'Current Historical Volatility': '4.23%',\n",
       "  'Current Historical Volatility Quantile': '65.71%',\n",
       "  'Weekly Mean of Historical Volatility': '1.82%',\n",
       "  'Weekly Pct_Change of Historical Volatility': '178.58%'}}"
      ]
     },
     "execution_count": 24,
     "metadata": {},
     "output_type": "execute_result"
    }
   ],
   "source": []
  },
  {
   "cell_type": "code",
   "execution_count": 19,
   "metadata": {},
   "outputs": [
    {
     "name": "stdout",
     "output_type": "stream",
     "text": [
      "i: BTC\n",
      "v: 3.44%\n",
      "v: 74.02%\n",
      "v: 1.23%\n",
      "v: 328.49%\n",
      "i: ETH\n",
      "v: 4.23%\n",
      "v: 65.71%\n",
      "v: 1.82%\n",
      "v: 178.58%\n"
     ]
    }
   ],
   "source": [
    "for i, v in tableExcelDf.items():\n",
    "    print('i:', i)\n",
    "    for name, value in v.items():\n",
    "        print('v:',value)"
   ]
  },
  {
   "cell_type": "code",
   "execution_count": null,
   "metadata": {},
   "outputs": [],
   "source": [
    "tableExcel = pd.read_excel('histVolTable.xlsx')\n",
    "tableExcel = tableExcel.rename(columns={'Unnamed: 0': 'Historical Volatility Status'})\n",
    "tableExcelDf = tableExcel.set_index('Historical Volatility Status')"
   ]
  }
 ],
 "metadata": {
  "kernelspec": {
   "display_name": "Python 3",
   "language": "python",
   "name": "python3"
  },
  "language_info": {
   "codemirror_mode": {
    "name": "ipython",
    "version": 3
   },
   "file_extension": ".py",
   "mimetype": "text/x-python",
   "name": "python",
   "nbconvert_exporter": "python",
   "pygments_lexer": "ipython3",
   "version": "3.7.4"
  }
 },
 "nbformat": 4,
 "nbformat_minor": 2
}
