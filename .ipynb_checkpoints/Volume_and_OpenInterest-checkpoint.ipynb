{
 "cells": [
  {
   "cell_type": "markdown",
   "metadata": {},
   "source": [
    "## 成交量与未平仓量\n"
   ]
  },
  {
   "cell_type": "code",
   "execution_count": 1,
   "metadata": {},
   "outputs": [],
   "source": [
    "import warnings\n",
    "warnings.filterwarnings(\"ignore\")"
   ]
  },
  {
   "cell_type": "code",
   "execution_count": 106,
   "metadata": {},
   "outputs": [],
   "source": [
    "import pymongo\n",
    "import pandas as pd\n",
    "from datetime import datetime, timedelta"
   ]
  },
  {
   "cell_type": "code",
   "execution_count": 3,
   "metadata": {},
   "outputs": [],
   "source": [
    "symbolList = ['btc_usdt.spot:binance', 'eth_usdt.spot:binance']\n",
    "\n",
    "client = pymongo.MongoClient('172.16.20.81', 27017)"
   ]
  },
  {
   "cell_type": "code",
   "execution_count": 4,
   "metadata": {},
   "outputs": [],
   "source": [
    "def readDb(collection, start, end):\n",
    "    return pd.DataFrame(\n",
    "        list(collection.find({\"datetime\": {'$gt': start, '$lt': end}}))\n",
    "    )"
   ]
  },
  {
   "cell_type": "code",
   "execution_count": 5,
   "metadata": {},
   "outputs": [],
   "source": [
    "startTime = datetime(2022,1,1)\n",
    "endTime = datetime(2023,12,30)\n",
    "dbClient = client['Kline_1Min_Auto_Db_Plus']\n",
    "columnsName = ['open', 'high', 'low', 'close', 'volume','datetime']"
   ]
  },
  {
   "cell_type": "code",
   "execution_count": 6,
   "metadata": {},
   "outputs": [],
   "source": [
    "crytoDict = {\n",
    "                'btc':readDb(dbClient[symbolList[0]], start=startTime , end=endTime)[columnsName],\n",
    "                'eth':readDb(dbClient[symbolList[1]], start=startTime , end=endTime)[columnsName]\n",
    "            }"
   ]
  },
  {
   "cell_type": "code",
   "execution_count": 7,
   "metadata": {},
   "outputs": [],
   "source": [
    "def resampleDf(data, freq='H'):\n",
    "#     df = data.drop('_id', axis=1)\n",
    "    dataDf = df.set_index('datetime')\n",
    "    dataHourDf = dataDf.resample(freq).agg({'open':'first', 'high': 'max', 'low': 'min', 'close': 'last', 'volume':'sum'})\n",
    "    dataResetDf = dataHourDf.reset_index()\n",
    "    return dataResetDf"
   ]
  },
  {
   "cell_type": "code",
   "execution_count": 8,
   "metadata": {},
   "outputs": [],
   "source": [
    "def addSymbol(dataDf, symbolName):  \n",
    "    dataDf['symbol'] = symbolName\n",
    "    return dataDf"
   ]
  },
  {
   "cell_type": "code",
   "execution_count": 9,
   "metadata": {},
   "outputs": [],
   "source": [
    "def setIndex(dataDf):\n",
    "    dataIndex = dataDf.set_index(['datetime', 'symbol'])\n",
    "    return dataIndex"
   ]
  },
  {
   "cell_type": "code",
   "execution_count": 10,
   "metadata": {},
   "outputs": [],
   "source": [
    "multiCryptoDict = {}\n",
    "for key, df in crytoDict.items():\n",
    "    hourDf = resampleDf(df)\n",
    "    hourSymbolDf = addSymbol(hourDf, key)\n",
    "    hourIndexDf = setIndex(hourSymbolDf)\n",
    "    multiCryptoDict[key] = hourIndexDf"
   ]
  },
  {
   "cell_type": "code",
   "execution_count": 11,
   "metadata": {},
   "outputs": [],
   "source": [
    "multiDf = pd.concat(list(multiCryptoDict.values())).sort_index()"
   ]
  },
  {
   "cell_type": "code",
   "execution_count": 12,
   "metadata": {},
   "outputs": [
    {
     "data": {
      "text/html": [
       "<div>\n",
       "<style scoped>\n",
       "    .dataframe tbody tr th:only-of-type {\n",
       "        vertical-align: middle;\n",
       "    }\n",
       "\n",
       "    .dataframe tbody tr th {\n",
       "        vertical-align: top;\n",
       "    }\n",
       "\n",
       "    .dataframe thead th {\n",
       "        text-align: right;\n",
       "    }\n",
       "</style>\n",
       "<table border=\"1\" class=\"dataframe\">\n",
       "  <thead>\n",
       "    <tr style=\"text-align: right;\">\n",
       "      <th></th>\n",
       "      <th></th>\n",
       "      <th>open</th>\n",
       "      <th>high</th>\n",
       "      <th>low</th>\n",
       "      <th>close</th>\n",
       "      <th>volume</th>\n",
       "    </tr>\n",
       "    <tr>\n",
       "      <th>datetime</th>\n",
       "      <th>symbol</th>\n",
       "      <th></th>\n",
       "      <th></th>\n",
       "      <th></th>\n",
       "      <th></th>\n",
       "      <th></th>\n",
       "    </tr>\n",
       "  </thead>\n",
       "  <tbody>\n",
       "    <tr>\n",
       "      <th rowspan=\"2\" valign=\"top\">2022-01-01 00:00:00</th>\n",
       "      <th>btc</th>\n",
       "      <td>48007.21</td>\n",
       "      <td>48118.45</td>\n",
       "      <td>47409.77</td>\n",
       "      <td>47471.66</td>\n",
       "      <td>1539.22684</td>\n",
       "    </tr>\n",
       "    <tr>\n",
       "      <th>eth</th>\n",
       "      <td>3783.52</td>\n",
       "      <td>3788.45</td>\n",
       "      <td>3739.57</td>\n",
       "      <td>3745.49</td>\n",
       "      <td>10954.31820</td>\n",
       "    </tr>\n",
       "    <tr>\n",
       "      <th rowspan=\"2\" valign=\"top\">2022-01-01 01:00:00</th>\n",
       "      <th>btc</th>\n",
       "      <td>47471.67</td>\n",
       "      <td>47550.00</td>\n",
       "      <td>46889.00</td>\n",
       "      <td>47016.57</td>\n",
       "      <td>1962.23708</td>\n",
       "    </tr>\n",
       "    <tr>\n",
       "      <th>eth</th>\n",
       "      <td>3745.49</td>\n",
       "      <td>3754.26</td>\n",
       "      <td>3705.00</td>\n",
       "      <td>3722.03</td>\n",
       "      <td>12687.85510</td>\n",
       "    </tr>\n",
       "    <tr>\n",
       "      <th>2022-01-01 02:00:00</th>\n",
       "      <th>btc</th>\n",
       "      <td>47016.56</td>\n",
       "      <td>47040.52</td>\n",
       "      <td>46500.00</td>\n",
       "      <td>46686.41</td>\n",
       "      <td>1687.72844</td>\n",
       "    </tr>\n",
       "    <tr>\n",
       "      <th>...</th>\n",
       "      <th>...</th>\n",
       "      <td>...</td>\n",
       "      <td>...</td>\n",
       "      <td>...</td>\n",
       "      <td>...</td>\n",
       "      <td>...</td>\n",
       "    </tr>\n",
       "    <tr>\n",
       "      <th>2023-01-09 11:00:00</th>\n",
       "      <th>eth</th>\n",
       "      <td>1306.15</td>\n",
       "      <td>1313.61</td>\n",
       "      <td>1304.14</td>\n",
       "      <td>1310.36</td>\n",
       "      <td>25388.01670</td>\n",
       "    </tr>\n",
       "    <tr>\n",
       "      <th rowspan=\"2\" valign=\"top\">2023-01-09 12:00:00</th>\n",
       "      <th>btc</th>\n",
       "      <td>17197.00</td>\n",
       "      <td>17253.19</td>\n",
       "      <td>17194.32</td>\n",
       "      <td>17225.08</td>\n",
       "      <td>10288.43227</td>\n",
       "    </tr>\n",
       "    <tr>\n",
       "      <th>eth</th>\n",
       "      <td>1310.37</td>\n",
       "      <td>1314.73</td>\n",
       "      <td>1308.54</td>\n",
       "      <td>1310.86</td>\n",
       "      <td>19549.41600</td>\n",
       "    </tr>\n",
       "    <tr>\n",
       "      <th rowspan=\"2\" valign=\"top\">2023-01-09 13:00:00</th>\n",
       "      <th>btc</th>\n",
       "      <td>17227.11</td>\n",
       "      <td>17262.56</td>\n",
       "      <td>17200.60</td>\n",
       "      <td>17205.95</td>\n",
       "      <td>8152.52401</td>\n",
       "    </tr>\n",
       "    <tr>\n",
       "      <th>eth</th>\n",
       "      <td>1310.87</td>\n",
       "      <td>1313.49</td>\n",
       "      <td>1307.81</td>\n",
       "      <td>1308.02</td>\n",
       "      <td>12018.64350</td>\n",
       "    </tr>\n",
       "  </tbody>\n",
       "</table>\n",
       "<p>17932 rows × 5 columns</p>\n",
       "</div>"
      ],
      "text/plain": [
       "                                open      high       low     close  \\\n",
       "datetime            symbol                                           \n",
       "2022-01-01 00:00:00 btc     48007.21  48118.45  47409.77  47471.66   \n",
       "                    eth      3783.52   3788.45   3739.57   3745.49   \n",
       "2022-01-01 01:00:00 btc     47471.67  47550.00  46889.00  47016.57   \n",
       "                    eth      3745.49   3754.26   3705.00   3722.03   \n",
       "2022-01-01 02:00:00 btc     47016.56  47040.52  46500.00  46686.41   \n",
       "...                              ...       ...       ...       ...   \n",
       "2023-01-09 11:00:00 eth      1306.15   1313.61   1304.14   1310.36   \n",
       "2023-01-09 12:00:00 btc     17197.00  17253.19  17194.32  17225.08   \n",
       "                    eth      1310.37   1314.73   1308.54   1310.86   \n",
       "2023-01-09 13:00:00 btc     17227.11  17262.56  17200.60  17205.95   \n",
       "                    eth      1310.87   1313.49   1307.81   1308.02   \n",
       "\n",
       "                                 volume  \n",
       "datetime            symbol               \n",
       "2022-01-01 00:00:00 btc      1539.22684  \n",
       "                    eth     10954.31820  \n",
       "2022-01-01 01:00:00 btc      1962.23708  \n",
       "                    eth     12687.85510  \n",
       "2022-01-01 02:00:00 btc      1687.72844  \n",
       "...                                 ...  \n",
       "2023-01-09 11:00:00 eth     25388.01670  \n",
       "2023-01-09 12:00:00 btc     10288.43227  \n",
       "                    eth     19549.41600  \n",
       "2023-01-09 13:00:00 btc      8152.52401  \n",
       "                    eth     12018.64350  \n",
       "\n",
       "[17932 rows x 5 columns]"
      ]
     },
     "execution_count": 12,
     "metadata": {},
     "output_type": "execute_result"
    }
   ],
   "source": [
    "multiDf"
   ]
  },
  {
   "cell_type": "code",
   "execution_count": 67,
   "metadata": {},
   "outputs": [],
   "source": [
    "btcOi = pd.read_csv('binance_btc_openInterest.csv')\n",
    "ethOi = pd.read_csv('binance_eth_openInterest.csv')"
   ]
  },
  {
   "cell_type": "code",
   "execution_count": 68,
   "metadata": {},
   "outputs": [
    {
     "data": {
      "text/html": [
       "<div>\n",
       "<style scoped>\n",
       "    .dataframe tbody tr th:only-of-type {\n",
       "        vertical-align: middle;\n",
       "    }\n",
       "\n",
       "    .dataframe tbody tr th {\n",
       "        vertical-align: top;\n",
       "    }\n",
       "\n",
       "    .dataframe thead th {\n",
       "        text-align: right;\n",
       "    }\n",
       "</style>\n",
       "<table border=\"1\" class=\"dataframe\">\n",
       "  <thead>\n",
       "    <tr style=\"text-align: right;\">\n",
       "      <th></th>\n",
       "      <th>t</th>\n",
       "      <th>t.1</th>\n",
       "      <th>v</th>\n",
       "    </tr>\n",
       "  </thead>\n",
       "  <tbody>\n",
       "    <tr>\n",
       "      <th>25018</th>\n",
       "      <td>2022-12-30 02:00:00</td>\n",
       "      <td>2022-12-30 02:00:00</td>\n",
       "      <td>157284.684786</td>\n",
       "    </tr>\n",
       "    <tr>\n",
       "      <th>25019</th>\n",
       "      <td>2022-12-30 03:00:00</td>\n",
       "      <td>2022-12-30 03:00:00</td>\n",
       "      <td>157629.355201</td>\n",
       "    </tr>\n",
       "    <tr>\n",
       "      <th>25020</th>\n",
       "      <td>2022-12-30 04:00:00</td>\n",
       "      <td>2022-12-30 04:00:00</td>\n",
       "      <td>157597.488621</td>\n",
       "    </tr>\n",
       "    <tr>\n",
       "      <th>25021</th>\n",
       "      <td>2022-12-30 05:00:00</td>\n",
       "      <td>2022-12-30 05:00:00</td>\n",
       "      <td>157498.503101</td>\n",
       "    </tr>\n",
       "    <tr>\n",
       "      <th>25022</th>\n",
       "      <td>2022-12-30 06:00:00</td>\n",
       "      <td>2022-12-30 06:00:00</td>\n",
       "      <td>158524.761029</td>\n",
       "    </tr>\n",
       "  </tbody>\n",
       "</table>\n",
       "</div>"
      ],
      "text/plain": [
       "                         t                  t.1              v\n",
       "25018  2022-12-30 02:00:00  2022-12-30 02:00:00  157284.684786\n",
       "25019  2022-12-30 03:00:00  2022-12-30 03:00:00  157629.355201\n",
       "25020  2022-12-30 04:00:00  2022-12-30 04:00:00  157597.488621\n",
       "25021  2022-12-30 05:00:00  2022-12-30 05:00:00  157498.503101\n",
       "25022  2022-12-30 06:00:00  2022-12-30 06:00:00  158524.761029"
      ]
     },
     "execution_count": 68,
     "metadata": {},
     "output_type": "execute_result"
    }
   ],
   "source": [
    "btcOi.tail()"
   ]
  },
  {
   "cell_type": "code",
   "execution_count": 69,
   "metadata": {},
   "outputs": [],
   "source": [
    "btcOi['datetime'] = list(map(lambda dt: datetime.strptime(dt, '%Y-%m-%d %H:%M:%S'), btcOi['t']))"
   ]
  },
  {
   "cell_type": "code",
   "execution_count": 70,
   "metadata": {},
   "outputs": [],
   "source": [
    "ethOi['datetime'] = list(map(lambda dt: datetime.strptime(dt, '%Y-%m-%d %H:%M:%S'), ethOi['t']))"
   ]
  },
  {
   "cell_type": "code",
   "execution_count": 71,
   "metadata": {},
   "outputs": [],
   "source": [
    "btcOi['symbol'] = 'btc'\n",
    "ethOi['symbol'] = 'eth'"
   ]
  },
  {
   "cell_type": "code",
   "execution_count": 72,
   "metadata": {},
   "outputs": [
    {
     "data": {
      "text/html": [
       "<div>\n",
       "<style scoped>\n",
       "    .dataframe tbody tr th:only-of-type {\n",
       "        vertical-align: middle;\n",
       "    }\n",
       "\n",
       "    .dataframe tbody tr th {\n",
       "        vertical-align: top;\n",
       "    }\n",
       "\n",
       "    .dataframe thead th {\n",
       "        text-align: right;\n",
       "    }\n",
       "</style>\n",
       "<table border=\"1\" class=\"dataframe\">\n",
       "  <thead>\n",
       "    <tr style=\"text-align: right;\">\n",
       "      <th></th>\n",
       "      <th>Unnamed: 0</th>\n",
       "      <th>t</th>\n",
       "      <th>v</th>\n",
       "      <th>datetime</th>\n",
       "      <th>symbol</th>\n",
       "    </tr>\n",
       "  </thead>\n",
       "  <tbody>\n",
       "    <tr>\n",
       "      <th>0</th>\n",
       "      <td>0</td>\n",
       "      <td>2020-02-21 16:00:00</td>\n",
       "      <td>1.981815e+05</td>\n",
       "      <td>2020-02-21 16:00:00</td>\n",
       "      <td>eth</td>\n",
       "    </tr>\n",
       "    <tr>\n",
       "      <th>1</th>\n",
       "      <td>1</td>\n",
       "      <td>2020-02-21 17:00:00</td>\n",
       "      <td>1.978689e+05</td>\n",
       "      <td>2020-02-21 17:00:00</td>\n",
       "      <td>eth</td>\n",
       "    </tr>\n",
       "    <tr>\n",
       "      <th>2</th>\n",
       "      <td>2</td>\n",
       "      <td>2020-02-21 18:00:00</td>\n",
       "      <td>1.978390e+05</td>\n",
       "      <td>2020-02-21 18:00:00</td>\n",
       "      <td>eth</td>\n",
       "    </tr>\n",
       "    <tr>\n",
       "      <th>3</th>\n",
       "      <td>3</td>\n",
       "      <td>2020-02-21 19:00:00</td>\n",
       "      <td>1.963506e+05</td>\n",
       "      <td>2020-02-21 19:00:00</td>\n",
       "      <td>eth</td>\n",
       "    </tr>\n",
       "    <tr>\n",
       "      <th>4</th>\n",
       "      <td>4</td>\n",
       "      <td>2020-02-21 20:00:00</td>\n",
       "      <td>1.927776e+05</td>\n",
       "      <td>2020-02-21 20:00:00</td>\n",
       "      <td>eth</td>\n",
       "    </tr>\n",
       "    <tr>\n",
       "      <th>...</th>\n",
       "      <td>...</td>\n",
       "      <td>...</td>\n",
       "      <td>...</td>\n",
       "      <td>...</td>\n",
       "      <td>...</td>\n",
       "    </tr>\n",
       "    <tr>\n",
       "      <th>25018</th>\n",
       "      <td>25018</td>\n",
       "      <td>2022-12-30 02:00:00</td>\n",
       "      <td>1.523577e+06</td>\n",
       "      <td>2022-12-30 02:00:00</td>\n",
       "      <td>eth</td>\n",
       "    </tr>\n",
       "    <tr>\n",
       "      <th>25019</th>\n",
       "      <td>25019</td>\n",
       "      <td>2022-12-30 03:00:00</td>\n",
       "      <td>1.523807e+06</td>\n",
       "      <td>2022-12-30 03:00:00</td>\n",
       "      <td>eth</td>\n",
       "    </tr>\n",
       "    <tr>\n",
       "      <th>25020</th>\n",
       "      <td>25020</td>\n",
       "      <td>2022-12-30 04:00:00</td>\n",
       "      <td>1.519524e+06</td>\n",
       "      <td>2022-12-30 04:00:00</td>\n",
       "      <td>eth</td>\n",
       "    </tr>\n",
       "    <tr>\n",
       "      <th>25021</th>\n",
       "      <td>25021</td>\n",
       "      <td>2022-12-30 05:00:00</td>\n",
       "      <td>1.529066e+06</td>\n",
       "      <td>2022-12-30 05:00:00</td>\n",
       "      <td>eth</td>\n",
       "    </tr>\n",
       "    <tr>\n",
       "      <th>25022</th>\n",
       "      <td>25022</td>\n",
       "      <td>2022-12-30 06:00:00</td>\n",
       "      <td>1.533549e+06</td>\n",
       "      <td>2022-12-30 06:00:00</td>\n",
       "      <td>eth</td>\n",
       "    </tr>\n",
       "  </tbody>\n",
       "</table>\n",
       "<p>25023 rows × 5 columns</p>\n",
       "</div>"
      ],
      "text/plain": [
       "       Unnamed: 0                    t             v            datetime  \\\n",
       "0               0  2020-02-21 16:00:00  1.981815e+05 2020-02-21 16:00:00   \n",
       "1               1  2020-02-21 17:00:00  1.978689e+05 2020-02-21 17:00:00   \n",
       "2               2  2020-02-21 18:00:00  1.978390e+05 2020-02-21 18:00:00   \n",
       "3               3  2020-02-21 19:00:00  1.963506e+05 2020-02-21 19:00:00   \n",
       "4               4  2020-02-21 20:00:00  1.927776e+05 2020-02-21 20:00:00   \n",
       "...           ...                  ...           ...                 ...   \n",
       "25018       25018  2022-12-30 02:00:00  1.523577e+06 2022-12-30 02:00:00   \n",
       "25019       25019  2022-12-30 03:00:00  1.523807e+06 2022-12-30 03:00:00   \n",
       "25020       25020  2022-12-30 04:00:00  1.519524e+06 2022-12-30 04:00:00   \n",
       "25021       25021  2022-12-30 05:00:00  1.529066e+06 2022-12-30 05:00:00   \n",
       "25022       25022  2022-12-30 06:00:00  1.533549e+06 2022-12-30 06:00:00   \n",
       "\n",
       "      symbol  \n",
       "0        eth  \n",
       "1        eth  \n",
       "2        eth  \n",
       "3        eth  \n",
       "4        eth  \n",
       "...      ...  \n",
       "25018    eth  \n",
       "25019    eth  \n",
       "25020    eth  \n",
       "25021    eth  \n",
       "25022    eth  \n",
       "\n",
       "[25023 rows x 5 columns]"
      ]
     },
     "execution_count": 72,
     "metadata": {},
     "output_type": "execute_result"
    }
   ],
   "source": [
    "ethOi"
   ]
  },
  {
   "cell_type": "code",
   "execution_count": 76,
   "metadata": {},
   "outputs": [],
   "source": [
    "oiDf = pd.concat([btcOi, ethOi]).set_index(['datetime', 'symbol']).sort_index()['v'].to_frame(name='oi')"
   ]
  },
  {
   "cell_type": "code",
   "execution_count": 77,
   "metadata": {},
   "outputs": [
    {
     "data": {
      "text/html": [
       "<div>\n",
       "<style scoped>\n",
       "    .dataframe tbody tr th:only-of-type {\n",
       "        vertical-align: middle;\n",
       "    }\n",
       "\n",
       "    .dataframe tbody tr th {\n",
       "        vertical-align: top;\n",
       "    }\n",
       "\n",
       "    .dataframe thead th {\n",
       "        text-align: right;\n",
       "    }\n",
       "</style>\n",
       "<table border=\"1\" class=\"dataframe\">\n",
       "  <thead>\n",
       "    <tr style=\"text-align: right;\">\n",
       "      <th></th>\n",
       "      <th></th>\n",
       "      <th>oi</th>\n",
       "    </tr>\n",
       "    <tr>\n",
       "      <th>datetime</th>\n",
       "      <th>symbol</th>\n",
       "      <th></th>\n",
       "    </tr>\n",
       "  </thead>\n",
       "  <tbody>\n",
       "    <tr>\n",
       "      <th rowspan=\"2\" valign=\"top\">2020-02-21 16:00:00</th>\n",
       "      <th>btc</th>\n",
       "      <td>2.092043e+04</td>\n",
       "    </tr>\n",
       "    <tr>\n",
       "      <th>eth</th>\n",
       "      <td>1.981815e+05</td>\n",
       "    </tr>\n",
       "    <tr>\n",
       "      <th rowspan=\"2\" valign=\"top\">2020-02-21 17:00:00</th>\n",
       "      <th>btc</th>\n",
       "      <td>2.071485e+04</td>\n",
       "    </tr>\n",
       "    <tr>\n",
       "      <th>eth</th>\n",
       "      <td>1.978689e+05</td>\n",
       "    </tr>\n",
       "    <tr>\n",
       "      <th>2020-02-21 18:00:00</th>\n",
       "      <th>btc</th>\n",
       "      <td>2.085541e+04</td>\n",
       "    </tr>\n",
       "    <tr>\n",
       "      <th>...</th>\n",
       "      <th>...</th>\n",
       "      <td>...</td>\n",
       "    </tr>\n",
       "    <tr>\n",
       "      <th>2022-12-30 04:00:00</th>\n",
       "      <th>eth</th>\n",
       "      <td>1.519524e+06</td>\n",
       "    </tr>\n",
       "    <tr>\n",
       "      <th rowspan=\"2\" valign=\"top\">2022-12-30 05:00:00</th>\n",
       "      <th>btc</th>\n",
       "      <td>1.574985e+05</td>\n",
       "    </tr>\n",
       "    <tr>\n",
       "      <th>eth</th>\n",
       "      <td>1.529066e+06</td>\n",
       "    </tr>\n",
       "    <tr>\n",
       "      <th rowspan=\"2\" valign=\"top\">2022-12-30 06:00:00</th>\n",
       "      <th>btc</th>\n",
       "      <td>1.585248e+05</td>\n",
       "    </tr>\n",
       "    <tr>\n",
       "      <th>eth</th>\n",
       "      <td>1.533549e+06</td>\n",
       "    </tr>\n",
       "  </tbody>\n",
       "</table>\n",
       "<p>50046 rows × 1 columns</p>\n",
       "</div>"
      ],
      "text/plain": [
       "                                      oi\n",
       "datetime            symbol              \n",
       "2020-02-21 16:00:00 btc     2.092043e+04\n",
       "                    eth     1.981815e+05\n",
       "2020-02-21 17:00:00 btc     2.071485e+04\n",
       "                    eth     1.978689e+05\n",
       "2020-02-21 18:00:00 btc     2.085541e+04\n",
       "...                                  ...\n",
       "2022-12-30 04:00:00 eth     1.519524e+06\n",
       "2022-12-30 05:00:00 btc     1.574985e+05\n",
       "                    eth     1.529066e+06\n",
       "2022-12-30 06:00:00 btc     1.585248e+05\n",
       "                    eth     1.533549e+06\n",
       "\n",
       "[50046 rows x 1 columns]"
      ]
     },
     "execution_count": 77,
     "metadata": {},
     "output_type": "execute_result"
    }
   ],
   "source": [
    "oiDf"
   ]
  },
  {
   "cell_type": "code",
   "execution_count": 81,
   "metadata": {},
   "outputs": [],
   "source": [
    "oiVolumeDf = pd.concat([multiDf, oiDf], axis=1).dropna()"
   ]
  },
  {
   "cell_type": "code",
   "execution_count": 91,
   "metadata": {},
   "outputs": [],
   "source": [
    "shortPeriod = 168\n",
    "longPeriod = shortPeriod*4"
   ]
  },
  {
   "cell_type": "code",
   "execution_count": 92,
   "metadata": {},
   "outputs": [],
   "source": [
    "close = oiVolumeDf.close.unstack()\n",
    "volume = oiVolumeDf.volume.unstack()\n",
    "oi = oiVolumeDf.oi.unstack()"
   ]
  },
  {
   "cell_type": "code",
   "execution_count": 93,
   "metadata": {},
   "outputs": [],
   "source": [
    "closeMaRatio = close.rolling(shortPeriod).mean()/close.rolling(longPeriod).mean().shift(shortPeriod)\n",
    "volumeMaRatio = volume.rolling(shortPeriod).mean()/volume.rolling(longPeriod).mean().shift(shortPeriod)\n",
    "oiMaRatio = oi.rolling(shortPeriod).mean()/oi.rolling(longPeriod).mean().shift(shortPeriod)"
   ]
  },
  {
   "cell_type": "code",
   "execution_count": 127,
   "metadata": {},
   "outputs": [],
   "source": [
    "def cal_pctChange(data, lastDay, periodList=[7]):\n",
    "    pctChangeDict = {}\n",
    "    for period in periodList:\n",
    "        pctChangeDict[str(period)+'Day'] = round((data.loc[lastDay]/data.loc[lastDay-timedelta(hours=period*24)]-1)*100, 2)\n",
    "    pctChangeDf = pd.Series(pctChangeDict)\n",
    "    return pctChangeDf"
   ]
  },
  {
   "cell_type": "code",
   "execution_count": 128,
   "metadata": {},
   "outputs": [],
   "source": [
    "maChangeDf = pd.DataFrame({\n",
    "    'btcCloseMaChange': cal_pctChange(closeMaRatio.btc, datetime(2022,12,30), [1, 3, 5, 8, 13]),\n",
    "    'ethCloseMaChange': cal_pctChange(closeMaRatio.eth, datetime(2022,12,30), [1, 3, 5, 8, 13]),\n",
    "    'btcVolumeMaChange': cal_pctChange(volumeMaRatio.btc, datetime(2022,12,30), [1, 3, 5, 8, 13]),\n",
    "    'ethVolumeMaChange': cal_pctChange(volumeMaRatio.eth, datetime(2022,12,30), [1, 3, 5, 8, 13]),   \n",
    "    'btcOpenInterestMaChange': cal_pctChange(oiMaRatio.btc, datetime(2022,12,30), [1, 3, 5, 8, 13]),\n",
    "    'ethOpenInterestMaChange': cal_pctChange(oiMaRatio.eth, datetime(2022,12,30), [1, 3, 5, 8, 13]),\n",
    "})"
   ]
  },
  {
   "cell_type": "code",
   "execution_count": 129,
   "metadata": {},
   "outputs": [
    {
     "data": {
      "text/html": [
       "<div>\n",
       "<style scoped>\n",
       "    .dataframe tbody tr th:only-of-type {\n",
       "        vertical-align: middle;\n",
       "    }\n",
       "\n",
       "    .dataframe tbody tr th {\n",
       "        vertical-align: top;\n",
       "    }\n",
       "\n",
       "    .dataframe thead th {\n",
       "        text-align: right;\n",
       "    }\n",
       "</style>\n",
       "<table border=\"1\" class=\"dataframe\">\n",
       "  <thead>\n",
       "    <tr style=\"text-align: right;\">\n",
       "      <th></th>\n",
       "      <th>1Day</th>\n",
       "      <th>3Day</th>\n",
       "      <th>5Day</th>\n",
       "      <th>8Day</th>\n",
       "      <th>13Day</th>\n",
       "    </tr>\n",
       "  </thead>\n",
       "  <tbody>\n",
       "    <tr>\n",
       "      <th>btcCloseMaChange</th>\n",
       "      <td>-0.22</td>\n",
       "      <td>-0.54</td>\n",
       "      <td>-0.48</td>\n",
       "      <td>-1.91</td>\n",
       "      <td>-4.69</td>\n",
       "    </tr>\n",
       "    <tr>\n",
       "      <th>ethCloseMaChange</th>\n",
       "      <td>-0.23</td>\n",
       "      <td>-0.53</td>\n",
       "      <td>0.24</td>\n",
       "      <td>-0.98</td>\n",
       "      <td>-6.29</td>\n",
       "    </tr>\n",
       "    <tr>\n",
       "      <th>btcVolumeMaChange</th>\n",
       "      <td>2.57</td>\n",
       "      <td>-6.33</td>\n",
       "      <td>-7.64</td>\n",
       "      <td>-29.80</td>\n",
       "      <td>-37.53</td>\n",
       "    </tr>\n",
       "    <tr>\n",
       "      <th>ethVolumeMaChange</th>\n",
       "      <td>3.44</td>\n",
       "      <td>-6.09</td>\n",
       "      <td>-9.97</td>\n",
       "      <td>-42.58</td>\n",
       "      <td>-38.48</td>\n",
       "    </tr>\n",
       "    <tr>\n",
       "      <th>btcOpenInterestMaChange</th>\n",
       "      <td>1.89</td>\n",
       "      <td>5.50</td>\n",
       "      <td>6.87</td>\n",
       "      <td>6.93</td>\n",
       "      <td>1.63</td>\n",
       "    </tr>\n",
       "    <tr>\n",
       "      <th>ethOpenInterestMaChange</th>\n",
       "      <td>0.92</td>\n",
       "      <td>2.75</td>\n",
       "      <td>3.60</td>\n",
       "      <td>3.15</td>\n",
       "      <td>-3.85</td>\n",
       "    </tr>\n",
       "  </tbody>\n",
       "</table>\n",
       "</div>"
      ],
      "text/plain": [
       "                         1Day  3Day  5Day   8Day  13Day\n",
       "btcCloseMaChange        -0.22 -0.54 -0.48  -1.91  -4.69\n",
       "ethCloseMaChange        -0.23 -0.53  0.24  -0.98  -6.29\n",
       "btcVolumeMaChange        2.57 -6.33 -7.64 -29.80 -37.53\n",
       "ethVolumeMaChange        3.44 -6.09 -9.97 -42.58 -38.48\n",
       "btcOpenInterestMaChange  1.89  5.50  6.87   6.93   1.63\n",
       "ethOpenInterestMaChange  0.92  2.75  3.60   3.15  -3.85"
      ]
     },
     "execution_count": 129,
     "metadata": {},
     "output_type": "execute_result"
    }
   ],
   "source": [
    "maChangeDf.T"
   ]
  },
  {
   "cell_type": "code",
   "execution_count": 121,
   "metadata": {},
   "outputs": [
    {
     "data": {
      "image/png": "[encoded data removed]",
      "text/plain": [
       "<Figure size 1080x504 with 1 Axes>"
      ]
     },
     "metadata": {
      "needs_background": "light"
     },
     "output_type": "display_data"
    }
   ],
   "source": [
    "import matplotlib.pyplot as plt\n",
    "plt.figure(figsize=(15, 7))\n",
    "# plt.plot(closeMaDiffNor.btc.iloc[-7:])\n",
    "plt.plot(volumeMaRatio.btc.iloc[-4900:])\n",
    "plt.ylabel('Ratio')\n",
    "plt.legend(['volumeMaRatio'])\n",
    "plt.show()"
   ]
  },
  {
   "cell_type": "code",
   "execution_count": 98,
   "metadata": {},
   "outputs": [
    {
     "data": {
      "image/png": "[encoded data removed]",
      "text/plain": [
       "<Figure size 1080x504 with 1 Axes>"
      ]
     },
     "metadata": {
      "needs_background": "light"
     },
     "output_type": "display_data"
    }
   ],
   "source": [
    "import matplotlib.pyplot as plt\n",
    "plt.figure(figsize=(15, 7))\n",
    "# plt.plot(closeMaDiffNor.btc.iloc[-7:])\n",
    "plt.plot(closeMaRatio.btc.iloc[-4900:])\n",
    "plt.ylabel('Ratio')\n",
    "plt.legend(['closeMaRatio'])\n",
    "plt.show()"
   ]
  },
  {
   "cell_type": "code",
   "execution_count": 100,
   "metadata": {},
   "outputs": [
    {
     "data": {
      "image/png": "[encoded data removed]",
      "text/plain": [
       "<Figure size 1080x504 with 1 Axes>"
      ]
     },
     "metadata": {
      "needs_background": "light"
     },
     "output_type": "display_data"
    }
   ],
   "source": [
    "import matplotlib.pyplot as plt\n",
    "plt.figure(figsize=(15, 7))\n",
    "# plt.plot(closeMaDiffNor.btc.iloc[-7:])\n",
    "plt.plot(oiMaRatio.btc.iloc[-4900:])\n",
    "plt.ylabel('Ratio')\n",
    "plt.legend(['oiMaRatio'])\n",
    "plt.show()"
   ]
  },
  {
   "cell_type": "code",
   "execution_count": null,
   "metadata": {},
   "outputs": [],
   "source": []
  },
  {
   "cell_type": "code",
   "execution_count": null,
   "metadata": {},
   "outputs": [],
   "source": []
  },
  {
   "cell_type": "code",
   "execution_count": null,
   "metadata": {},
   "outputs": [],
   "source": []
  },
  {
   "cell_type": "code",
   "execution_count": null,
   "metadata": {},
   "outputs": [],
   "source": []
  },
  {
   "cell_type": "code",
   "execution_count": null,
   "metadata": {},
   "outputs": [],
   "source": []
  }
 ],
 "metadata": {
  "kernelspec": {
   "display_name": "Python 3",
   "language": "python",
   "name": "python3"
  },
  "language_info": {
   "codemirror_mode": {
    "name": "ipython",
    "version": 3
   },
   "file_extension": ".py",
   "mimetype": "text/x-python",
   "name": "python",
   "nbconvert_exporter": "python",
   "pygments_lexer": "ipython3",
   "version": "3.7.4"
  }
 },
 "nbformat": 4,
 "nbformat_minor": 2
}
