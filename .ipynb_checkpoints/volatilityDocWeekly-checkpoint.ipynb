{
 "cells": [
  {
   "cell_type": "code",
   "execution_count": 2,
   "metadata": {},
   "outputs": [],
   "source": [
    "from docx import Document\n",
    "from docx.shared import Inches\n",
    "import pandas as pd\n",
    "from docx.enum.style import WD_STYLE_TYPE"
   ]
  },
  {
   "cell_type": "code",
   "execution_count": 3,
   "metadata": {},
   "outputs": [],
   "source": [
    "document = Document()\n",
    "styles = document.styles\n",
    "document.add_heading('Weekly Report of DcBot', 0)\n",
    "\n",
    "# p = document.add_paragraph('A plain paragraph having some ')\n",
    "# p.add_run('bold').bold = True\n",
    "# p.add_run(' and some ')\n",
    "# p.add_run('italic.').italic = True\n",
    "def creatTableFromDataFrame(df, table):\n",
    "    for j in range(df.shape[-1]):\n",
    "        table.cell(0,j).text = df.columns[j]\n",
    "        if j == 0:\n",
    "            table.cell(0,j).width = Inches(4)\n",
    "        else:\n",
    "            table.cell(0,j).width = Inches(1)\n",
    "    # add the rest of the data frame\n",
    "    for i in range(df.shape[0]):\n",
    "        for j in range(df.shape[-1]):\n",
    "            table.cell(i+1,j).text = str(df.values[i,j])\n",
    "\n",
    "weeklyVolatility = document.add_paragraph()\n",
    "weeklyVolatility.add_run('本周的历史波动率与隐含波动率的统计').bold = True\n",
    "document.add_paragraph('波动率过小会导致盈利空间不足带来的磨损，而波动率过大风险也会随之放大，对策略最佳的波动率处于适中状态。')\n",
    "document.add_picture('weeklyVol.png', width=Inches(6.2), height=Inches(3.5))\n",
    "document.add_paragraph('本周波动率与隐含波动率都从低位回升，CTA策略有较好的表现。')\n",
    "\n",
    "histVolExcel = pd.read_excel('histVolTable.xlsx')\n",
    "histVolTable = document.add_table(histVolExcel.shape[0]+1,histVolExcel.shape[1],style = 'Light Grid Accent 1')\n",
    "creatTableFromDataFrame(histVolExcel, histVolTable)\n",
    "document.add_paragraph('')\n",
    "impliedVolExcel = pd.read_excel('impliedVolTable.xlsx')\n",
    "impliedVolTable = document.add_table(impliedVolExcel.shape[0]+1,impliedVolExcel.shape[1],style = 'Light Grid Accent 1')\n",
    "creatTableFromDataFrame(impliedVolExcel, impliedVolTable)\n",
    "\n",
    "# document.add_paragraph('Intense quote', style='Intense Quote')\n",
    "# document.add_paragraph(\n",
    "#     'first item in unordered list', style='List Bullet'\n",
    "# )\n",
    "# document.add_paragraph(\n",
    "#     'first item in ordered list', style='List Number'\n",
    "# )\n",
    "\n",
    "document.add_page_break()\n",
    "\n",
    "document.save('weeklyVol.docx')"
   ]
  }
 ],
 "metadata": {
  "kernelspec": {
   "display_name": "Python 3",
   "language": "python",
   "name": "python3"
  },
  "language_info": {
   "codemirror_mode": {
    "name": "ipython",
    "version": 3
   },
   "file_extension": ".py",
   "mimetype": "text/x-python",
   "name": "python",
   "nbconvert_exporter": "python",
   "pygments_lexer": "ipython3",
   "version": "3.7.4"
  }
 },
 "nbformat": 4,
 "nbformat_minor": 2
}
