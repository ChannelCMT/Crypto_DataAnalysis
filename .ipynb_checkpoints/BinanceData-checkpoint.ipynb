{
 "cells": [
  {
   "cell_type": "code",
   "execution_count": 1,
   "metadata": {},
   "outputs": [],
   "source": [
    "from binance.client import Client\n",
    "from datetime import datetime\n",
    "import time\n",
    "import pandas as pd\n",
    "\n",
    "api_key = \"wii7QzMS2YzqQK0YhNagZBoFX48pOl1viWx6ojLlViuggF6ZpuyEkx692kPKf01u\"\n",
    "api_secret = \"6h6UfZWR5UVnduZoAPBGqogeb9kKwpnyIakGGBlhUBVGJSuAy8hVXNZerP73xEG7\""
   ]
  },
  {
   "cell_type": "code",
   "execution_count": null,
   "metadata": {},
   "outputs": [
    {
     "name": "stdout",
     "output_type": "stream",
     "text": [
      "Error: HTTPSConnectionPool(host='api.binance.com', port=443): Max retries exceeded with url: /api/v3/ping (Caused by ConnectTimeoutError(<urllib3.connection.HTTPSConnection object at 0x0000024127AA01C8>, 'Connection to api.binance.com timed out. (connect timeout=10)'))\n",
      "Error: HTTPSConnectionPool(host='api.binance.com', port=443): Max retries exceeded with url: /api/v3/ping (Caused by ConnectTimeoutError(<urllib3.connection.HTTPSConnection object at 0x0000024127AB5EC8>, 'Connection to api.binance.com timed out. (connect timeout=10)'))\n",
      "Error: HTTPSConnectionPool(host='api.binance.com', port=443): Max retries exceeded with url: /api/v3/ping (Caused by ConnectTimeoutError(<urllib3.connection.HTTPSConnection object at 0x0000024127AC0988>, 'Connection to api.binance.com timed out. (connect timeout=10)'))\n",
      "Error: HTTPSConnectionPool(host='api.binance.com', port=443): Max retries exceeded with url: /api/v3/ping (Caused by ConnectTimeoutError(<urllib3.connection.HTTPSConnection object at 0x0000024127AC5BC8>, 'Connection to api.binance.com timed out. (connect timeout=10)'))\n",
      "Error: HTTPSConnectionPool(host='api.binance.com', port=443): Max retries exceeded with url: /api/v3/ping (Caused by ConnectTimeoutError(<urllib3.connection.HTTPSConnection object at 0x0000024127AA0F88>, 'Connection to api.binance.com timed out. (connect timeout=10)'))\n",
      "Error: HTTPSConnectionPool(host='api.binance.com', port=443): Max retries exceeded with url: /api/v3/ping (Caused by ConnectTimeoutError(<urllib3.connection.HTTPSConnection object at 0x0000024127AA8508>, 'Connection to api.binance.com timed out. (connect timeout=10)'))\n",
      "Error: HTTPSConnectionPool(host='api.binance.com', port=443): Max retries exceeded with url: /api/v3/ping (Caused by ConnectTimeoutError(<urllib3.connection.HTTPSConnection object at 0x0000024127AC5388>, 'Connection to api.binance.com timed out. (connect timeout=10)'))\n",
      "Error: HTTPSConnectionPool(host='api.binance.com', port=443): Max retries exceeded with url: /api/v3/ping (Caused by ConnectTimeoutError(<urllib3.connection.HTTPSConnection object at 0x0000024127AC0F88>, 'Connection to api.binance.com timed out. (connect timeout=10)'))\n",
      "Error: HTTPSConnectionPool(host='api.binance.com', port=443): Max retries exceeded with url: /api/v3/ping (Caused by ConnectTimeoutError(<urllib3.connection.HTTPSConnection object at 0x0000024127AD3448>, 'Connection to api.binance.com timed out. (connect timeout=10)'))\n",
      "Error: HTTPSConnectionPool(host='api.binance.com', port=443): Max retries exceeded with url: /api/v3/ping (Caused by ConnectTimeoutError(<urllib3.connection.HTTPSConnection object at 0x0000024127AD56C8>, 'Connection to api.binance.com timed out. (connect timeout=10)'))\n",
      "Error: HTTPSConnectionPool(host='api.binance.com', port=443): Max retries exceeded with url: /api/v3/ping (Caused by ConnectTimeoutError(<urllib3.connection.HTTPSConnection object at 0x0000024127ADD6C8>, 'Connection to api.binance.com timed out. (connect timeout=10)'))\n",
      "Error: HTTPSConnectionPool(host='api.binance.com', port=443): Max retries exceeded with url: /api/v3/ping (Caused by ConnectTimeoutError(<urllib3.connection.HTTPSConnection object at 0x0000024127AA0DC8>, 'Connection to api.binance.com timed out. (connect timeout=10)'))\n",
      "Error: HTTPSConnectionPool(host='api.binance.com', port=443): Max retries exceeded with url: /api/v3/ping (Caused by ConnectTimeoutError(<urllib3.connection.HTTPSConnection object at 0x0000024127AD3B48>, 'Connection to api.binance.com timed out. (connect timeout=10)'))\n"
     ]
    }
   ],
   "source": [
    "def GetHistoricalData(symbol, interval, fromDate, toDate):\n",
    "    klines = client.get_historical_klines(symbol, interval, fromDate, toDate)\n",
    "    df = pd.DataFrame(klines, columns=['dateTime', 'open', 'high', 'low', 'close', 'volume', 'closeTime', 'quoteAssetVolume', 'numberOfTrades', 'takerBuyBaseVol', 'takerBuyQuoteVol', 'ignore'])\n",
    "    df.dateTime = pd.to_datetime(df.dateTime, unit='ms')\n",
    "    df['date'] = df.dateTime.dt.strftime(\"%d/%m/%Y\")\n",
    "    df['time'] = df.dateTime.dt.strftime(\"%H:%M:%S\")\n",
    "    df = df.drop(['dateTime', 'closeTime', 'quoteAssetVolume', 'numberOfTrades', 'takerBuyBaseVol','takerBuyQuoteVol', 'ignore'], axis=1)\n",
    "    column_names = [\"date\", \"time\", \"open\", \"high\", \"low\", \"close\", \"volume\"]\n",
    "    df = df.reindex(columns=column_names)\n",
    "    return df\n",
    "    \n",
    "\n",
    "# client = Client(api_key, api_secret)\n",
    "while True:\n",
    "    try:\n",
    "        client = Client(api_key, api_secret, testnet=True)\n",
    "#         client = Client(api_key, api_secret)\n",
    "        if len(client) > 0:\n",
    "            break\n",
    "    except Exception as e:\n",
    "        print(\"Error:\", e)\n",
    "        time.sleep(5)\n",
    "        pass\n",
    "fromDate = str(datetime.strptime('1/1/2023', '%d/%m/%Y'))\n",
    "toDate = str(datetime.strptime('2/1/2023', '%d/%m/%Y'))\n",
    "symbol = \"BTCUSDT\"\n",
    "interval = Client.KLINE_INTERVAL_15MINUTE\n",
    "df = GetHistoricalData(symbol, interval, fromDate, toDate)\n",
    "df"
   ]
  },
  {
   "cell_type": "code",
   "execution_count": null,
   "metadata": {},
   "outputs": [],
   "source": [
    "df"
   ]
  },
  {
   "cell_type": "code",
   "execution_count": null,
   "metadata": {},
   "outputs": [],
   "source": []
  }
 ],
 "metadata": {
  "kernelspec": {
   "display_name": "Python 3",
   "language": "python",
   "name": "python3"
  },
  "language_info": {
   "codemirror_mode": {
    "name": "ipython",
    "version": 3
   },
   "file_extension": ".py",
   "mimetype": "text/x-python",
   "name": "python",
   "nbconvert_exporter": "python",
   "pygments_lexer": "ipython3",
   "version": "3.7.4"
  }
 },
 "nbformat": 4,
 "nbformat_minor": 2
}
