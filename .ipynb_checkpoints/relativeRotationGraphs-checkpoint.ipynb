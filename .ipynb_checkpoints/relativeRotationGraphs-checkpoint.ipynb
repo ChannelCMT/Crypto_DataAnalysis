{
 "cells": [
  {
   "cell_type": "markdown",
   "metadata": {},
   "source": [
    "## 市场相对轮动图\n",
    "\n",
    "*对市场内股票数据进行统计，观察样本变化。*"
   ]
  },
  {
   "cell_type": "code",
   "execution_count": 1,
   "metadata": {},
   "outputs": [],
   "source": [
    "import warnings\n",
    "warnings.filterwarnings(\"ignore\")"
   ]
  },
  {
   "cell_type": "code",
   "execution_count": 2,
   "metadata": {},
   "outputs": [],
   "source": [
    "import pymongo\n",
    "import pandas as pd\n",
    "from datetime import datetime"
   ]
  },
  {
   "cell_type": "code",
   "execution_count": 3,
   "metadata": {},
   "outputs": [],
   "source": [
    "symbolList = ['btc_usdt.spot:binance', 'eth_usdt.spot:binance', 'bnb_usdt.spot:binance', 'ltc_usdt.spot:binance','bch_usdt.spot:binance',\n",
    "             'doge_usdt.spot:binance', 'matic_usdt.spot:binance', 'sol_usdt.spot:binance','link_usdt.spot:binance','uni_usdt.spot:binance']\n",
    "\n",
    "client = pymongo.MongoClient('172.16.20.81', 27017)"
   ]
  },
  {
   "cell_type": "code",
   "execution_count": 4,
   "metadata": {},
   "outputs": [],
   "source": [
    "def readDb(collection, start, end):\n",
    "    return pd.DataFrame(\n",
    "        list(collection.find({\"datetime\": {'$gt': start, '$lt': end}}))\n",
    "    )"
   ]
  },
  {
   "cell_type": "code",
   "execution_count": 5,
   "metadata": {},
   "outputs": [],
   "source": [
    "startTime = datetime(2022,9,1)\n",
    "endTime = datetime(2023,1,2)\n",
    "dbClient = client['Kline_1Min_Auto_Db_Plus']\n",
    "columnsName = ['open', 'high', 'low', 'close', 'volume','datetime']"
   ]
  },
  {
   "cell_type": "code",
   "execution_count": 6,
   "metadata": {},
   "outputs": [],
   "source": [
    "crytoDict = {\n",
    "                'btc':readDb(dbClient[symbolList[0]], start=startTime , end=endTime)[columnsName],\n",
    "                'eth':readDb(dbClient[symbolList[1]], start=startTime , end=endTime)[columnsName],\n",
    "                'bnb':readDb(dbClient[symbolList[2]], start=startTime , end=endTime)[columnsName],\n",
    "                'ltc':readDb(dbClient[symbolList[3]], start=startTime , end=endTime)[columnsName],\n",
    "                'bch':readDb(dbClient[symbolList[4]], start=startTime , end=endTime)[columnsName],\n",
    "                'doge':readDb(dbClient[symbolList[5]], start=startTime , end=endTime)[columnsName],\n",
    "                'matic':readDb(dbClient[symbolList[6]], start=startTime , end=endTime)[columnsName],\n",
    "                'sol':readDb(dbClient[symbolList[7]], start=startTime , end=endTime)[columnsName],\n",
    "                'link':readDb(dbClient[symbolList[8]], start=startTime , end=endTime)[columnsName],\n",
    "                'uni':readDb(dbClient[symbolList[9]], start=startTime , end=endTime)[columnsName],\n",
    "            }"
   ]
  },
  {
   "cell_type": "code",
   "execution_count": 7,
   "metadata": {},
   "outputs": [],
   "source": [
    "# crytoDict"
   ]
  },
  {
   "cell_type": "code",
   "execution_count": 8,
   "metadata": {},
   "outputs": [],
   "source": [
    "def resampleDf(data, freq='H'):\n",
    "#     df = data.drop('_id', axis=1)\n",
    "    dataDf = df.set_index('datetime')\n",
    "    dataDf.resample(freq).agg({'open':'first', 'high': 'max', 'low': 'min', 'close': 'last', 'volume':'sum'})\n",
    "    dataResetDf = dataDf.reset_index()\n",
    "    return dataResetDf"
   ]
  },
  {
   "cell_type": "code",
   "execution_count": 9,
   "metadata": {},
   "outputs": [],
   "source": [
    "def addSymbol(dataDf, symbolName):\n",
    "    dataDf['symbol'] = symbolName\n",
    "    return dataDf"
   ]
  },
  {
   "cell_type": "code",
   "execution_count": 10,
   "metadata": {},
   "outputs": [],
   "source": [
    "def setIndex(dataDf):\n",
    "    dataIndex = dataDf.set_index(['datetime', 'symbol'])\n",
    "    return dataIndex"
   ]
  },
  {
   "cell_type": "code",
   "execution_count": 11,
   "metadata": {},
   "outputs": [],
   "source": [
    "multiCryptoDict = {}\n",
    "for key, df in crytoDict.items():\n",
    "    hourDf = resampleDf(df)\n",
    "    hourSymbolDf = addSymbol(hourDf, key)\n",
    "    hourIndexDf = setIndex(hourSymbolDf)\n",
    "    multiCryptoDict[key] = hourIndexDf"
   ]
  },
  {
   "cell_type": "code",
   "execution_count": 12,
   "metadata": {},
   "outputs": [],
   "source": [
    "multiDf = pd.concat(list(multiCryptoDict.values())).sort_index()"
   ]
  },
  {
   "cell_type": "code",
   "execution_count": 13,
   "metadata": {},
   "outputs": [
    {
     "data": {
      "text/html": [
       "<div>\n",
       "<style scoped>\n",
       "    .dataframe tbody tr th:only-of-type {\n",
       "        vertical-align: middle;\n",
       "    }\n",
       "\n",
       "    .dataframe tbody tr th {\n",
       "        vertical-align: top;\n",
       "    }\n",
       "\n",
       "    .dataframe thead th {\n",
       "        text-align: right;\n",
       "    }\n",
       "</style>\n",
       "<table border=\"1\" class=\"dataframe\">\n",
       "  <thead>\n",
       "    <tr style=\"text-align: right;\">\n",
       "      <th></th>\n",
       "      <th></th>\n",
       "      <th>open</th>\n",
       "      <th>high</th>\n",
       "      <th>low</th>\n",
       "      <th>close</th>\n",
       "      <th>volume</th>\n",
       "    </tr>\n",
       "    <tr>\n",
       "      <th>datetime</th>\n",
       "      <th>symbol</th>\n",
       "      <th></th>\n",
       "      <th></th>\n",
       "      <th></th>\n",
       "      <th></th>\n",
       "      <th></th>\n",
       "    </tr>\n",
       "  </thead>\n",
       "  <tbody>\n",
       "    <tr>\n",
       "      <th rowspan=\"5\" valign=\"top\">2022-09-01 00:01:00</th>\n",
       "      <th>bch</th>\n",
       "      <td>116.40000</td>\n",
       "      <td>116.4000</td>\n",
       "      <td>116.30000</td>\n",
       "      <td>116.30000</td>\n",
       "      <td>12.37800</td>\n",
       "    </tr>\n",
       "    <tr>\n",
       "      <th>bnb</th>\n",
       "      <td>282.40000</td>\n",
       "      <td>282.6000</td>\n",
       "      <td>282.40000</td>\n",
       "      <td>282.40000</td>\n",
       "      <td>405.06400</td>\n",
       "    </tr>\n",
       "    <tr>\n",
       "      <th>btc</th>\n",
       "      <td>20159.30000</td>\n",
       "      <td>20188.9700</td>\n",
       "      <td>20155.58000</td>\n",
       "      <td>20171.81000</td>\n",
       "      <td>460.88112</td>\n",
       "    </tr>\n",
       "    <tr>\n",
       "      <th>doge</th>\n",
       "      <td>0.06219</td>\n",
       "      <td>0.0622</td>\n",
       "      <td>0.06214</td>\n",
       "      <td>0.06215</td>\n",
       "      <td>145173.00000</td>\n",
       "    </tr>\n",
       "    <tr>\n",
       "      <th>eth</th>\n",
       "      <td>1562.23000</td>\n",
       "      <td>1565.2900</td>\n",
       "      <td>1562.22000</td>\n",
       "      <td>1563.38000</td>\n",
       "      <td>1187.24970</td>\n",
       "    </tr>\n",
       "    <tr>\n",
       "      <th>...</th>\n",
       "      <th>...</th>\n",
       "      <td>...</td>\n",
       "      <td>...</td>\n",
       "      <td>...</td>\n",
       "      <td>...</td>\n",
       "      <td>...</td>\n",
       "    </tr>\n",
       "    <tr>\n",
       "      <th rowspan=\"5\" valign=\"top\">2023-01-01 23:59:00</th>\n",
       "      <th>link</th>\n",
       "      <td>5.60000</td>\n",
       "      <td>5.6010</td>\n",
       "      <td>5.59500</td>\n",
       "      <td>5.59500</td>\n",
       "      <td>355.68000</td>\n",
       "    </tr>\n",
       "    <tr>\n",
       "      <th>ltc</th>\n",
       "      <td>70.38000</td>\n",
       "      <td>70.3800</td>\n",
       "      <td>70.36000</td>\n",
       "      <td>70.36000</td>\n",
       "      <td>57.20400</td>\n",
       "    </tr>\n",
       "    <tr>\n",
       "      <th>matic</th>\n",
       "      <td>0.75850</td>\n",
       "      <td>0.7586</td>\n",
       "      <td>0.75830</td>\n",
       "      <td>0.75850</td>\n",
       "      <td>15291.40000</td>\n",
       "    </tr>\n",
       "    <tr>\n",
       "      <th>sol</th>\n",
       "      <td>9.85000</td>\n",
       "      <td>9.8700</td>\n",
       "      <td>9.85000</td>\n",
       "      <td>9.87000</td>\n",
       "      <td>2606.35000</td>\n",
       "    </tr>\n",
       "    <tr>\n",
       "      <th>uni</th>\n",
       "      <td>5.21100</td>\n",
       "      <td>5.2110</td>\n",
       "      <td>5.20900</td>\n",
       "      <td>5.20900</td>\n",
       "      <td>227.99000</td>\n",
       "    </tr>\n",
       "  </tbody>\n",
       "</table>\n",
       "<p>1771190 rows × 5 columns</p>\n",
       "</div>"
      ],
      "text/plain": [
       "                                   open        high          low        close  \\\n",
       "datetime            symbol                                                      \n",
       "2022-09-01 00:01:00 bch       116.40000    116.4000    116.30000    116.30000   \n",
       "                    bnb       282.40000    282.6000    282.40000    282.40000   \n",
       "                    btc     20159.30000  20188.9700  20155.58000  20171.81000   \n",
       "                    doge        0.06219      0.0622      0.06214      0.06215   \n",
       "                    eth      1562.23000   1565.2900   1562.22000   1563.38000   \n",
       "...                                 ...         ...          ...          ...   \n",
       "2023-01-01 23:59:00 link        5.60000      5.6010      5.59500      5.59500   \n",
       "                    ltc        70.38000     70.3800     70.36000     70.36000   \n",
       "                    matic       0.75850      0.7586      0.75830      0.75850   \n",
       "                    sol         9.85000      9.8700      9.85000      9.87000   \n",
       "                    uni         5.21100      5.2110      5.20900      5.20900   \n",
       "\n",
       "                                  volume  \n",
       "datetime            symbol                \n",
       "2022-09-01 00:01:00 bch         12.37800  \n",
       "                    bnb        405.06400  \n",
       "                    btc        460.88112  \n",
       "                    doge    145173.00000  \n",
       "                    eth       1187.24970  \n",
       "...                                  ...  \n",
       "2023-01-01 23:59:00 link       355.68000  \n",
       "                    ltc         57.20400  \n",
       "                    matic    15291.40000  \n",
       "                    sol       2606.35000  \n",
       "                    uni        227.99000  \n",
       "\n",
       "[1771190 rows x 5 columns]"
      ]
     },
     "execution_count": 13,
     "metadata": {},
     "output_type": "execute_result"
    }
   ],
   "source": [
    "multiDf"
   ]
  },
  {
   "cell_type": "code",
   "execution_count": 16,
   "metadata": {},
   "outputs": [],
   "source": [
    "closePrice = multiDf['close'].unstack()"
   ]
  },
  {
   "cell_type": "code",
   "execution_count": 17,
   "metadata": {},
   "outputs": [],
   "source": [
    "rsDf = pd.DataFrame({name: closePrice[name]/closePrice['btc']*100 for name in closePrice.columns})\n",
    "rsDf['btc'] = closePrice['btc']"
   ]
  },
  {
   "cell_type": "code",
   "execution_count": 52,
   "metadata": {},
   "outputs": [],
   "source": [
    "periodParam = 168"
   ]
  },
  {
   "cell_type": "code",
   "execution_count": 53,
   "metadata": {},
   "outputs": [],
   "source": [
    "normalizationRS = 100+ (rsDf -rsDf.rolling(periodParam).mean())/rsDf.rolling(periodParam).std()"
   ]
  },
  {
   "cell_type": "code",
   "execution_count": 54,
   "metadata": {},
   "outputs": [
    {
     "data": {
      "text/plain": [
       "<AxesSubplot:xlabel='datetime'>"
      ]
     },
     "execution_count": 54,
     "metadata": {},
     "output_type": "execute_result"
    },
    {
     "data": {
      "image/png": "[encoded data removed]",
      "text/plain": [
       "<Figure size 432x288 with 1 Axes>"
      ]
     },
     "metadata": {
      "needs_background": "light"
     },
     "output_type": "display_data"
    }
   ],
   "source": [
    "normalizationRS.btc.plot()"
   ]
  },
  {
   "cell_type": "code",
   "execution_count": 55,
   "metadata": {},
   "outputs": [],
   "source": [
    "RS_Mom = normalizationRS.pct_change()\n",
    "jdk_rs_mom = 100+(RS_Mom - RS_Mom.rolling(periodParam).mean())/RS_Mom.rolling(periodParam).std()"
   ]
  },
  {
   "cell_type": "code",
   "execution_count": 56,
   "metadata": {},
   "outputs": [
    {
     "data": {
      "text/plain": [
       "<AxesSubplot:xlabel='datetime'>"
      ]
     },
     "execution_count": 56,
     "metadata": {},
     "output_type": "execute_result"
    },
    {
     "data": {
      "image/png": "[encoded data removed]",
      "text/plain": [
       "<Figure size 432x288 with 1 Axes>"
      ]
     },
     "metadata": {
      "needs_background": "light"
     },
     "output_type": "display_data"
    }
   ],
   "source": [
    "jdk_rs_mom.btc.plot()"
   ]
  },
  {
   "cell_type": "code",
   "execution_count": 57,
   "metadata": {},
   "outputs": [],
   "source": [
    "import matplotlib.pyplot as plt\n",
    "import matplotlib.patches as patches\n",
    "\n",
    "def setup_plot(fig, ax):\n",
    "    ax.set_title(\"Relative Rotation Graph\")\n",
    "    ax.set_xlabel(\"RS-Ratio\")\n",
    "    ax.set_ylabel(\"RS-Momentum\")\n",
    "    plt.figtext(0.14, 0.14, \"Lagging\", color=\"red\")\n",
    "    plt.figtext(0.14, 0.84, \"Improving\", color=\"blue\")\n",
    "    plt.figtext(0.87, 0.84, \"Leading\", color=\"green\", ha=\"right\")\n",
    "    plt.figtext(0.87, 0.14, \"Weakening\", color=\"gold\", ha=\"right\")\n",
    "    windowZoom = 10\n",
    "    lim = [100 - windowZoom, 100 + windowZoom]\n",
    "    ax.set_xlim(lim)\n",
    "    ax.set_ylim(lim)\n",
    "    ax.axhline(y=100, color=\"gray\", linewidth=0.5)\n",
    "    ax.axvline(x=100, color=\"gray\", linewidth=0.5)\n",
    "    rect = patches.Rectangle((0, 0), 100, 100, facecolor=\"red\", alpha=0.2)\n",
    "    ax.add_patch(rect)\n",
    "    rect = patches.Rectangle((0, 100), 100, 100, facecolor=\"blue\", alpha=0.2)\n",
    "    ax.add_patch(rect)\n",
    "    rect = patches.Rectangle((100, 100), 100, 100, facecolor=\"green\", alpha=0.2)\n",
    "    ax.add_patch(rect)\n",
    "    rect = patches.Rectangle((100, 0), 100, 100, facecolor=\"yellow\", alpha=0.2)\n",
    "    ax.add_patch(rect)\n",
    "    plt.gcf().set_size_inches(10, 10)"
   ]
  },
  {
   "cell_type": "code",
   "execution_count": 64,
   "metadata": {},
   "outputs": [
    {
     "data": {
      "text/plain": [
       "<matplotlib.legend.Legend at 0x2608d2bc0c8>"
      ]
     },
     "execution_count": 64,
     "metadata": {},
     "output_type": "execute_result"
    },
    {
     "data": {
      "image/png": "[encoded data removed]",
      "text/plain": [
       "<Figure size 720x720 with 1 Axes>"
      ]
     },
     "metadata": {
      "needs_background": "light"
     },
     "output_type": "display_data"
    }
   ],
   "source": [
    "fig, ax = plt.subplots()\n",
    "setup_plot(fig, ax)\n",
    "ax.plot(\n",
    "    normalizationRS.btc.iloc[-12:],\n",
    "    jdk_rs_mom.btc.iloc[-12:],\n",
    "    color='orange',\n",
    "    linewidth=1,\n",
    "    label='btc'\n",
    ")\n",
    "ax.scatter(normalizationRS.btc.iloc[-10:-1], jdk_rs_mom.btc.iloc[-10:-1], c='orange', marker='o', s=10)\n",
    "ax.scatter(normalizationRS.btc.iloc[-1:], jdk_rs_mom.btc.iloc[-1:], c='orange', marker='>', s=80)\n",
    "ax.legend(loc='center')"
   ]
  },
  {
   "cell_type": "code",
   "execution_count": 72,
   "metadata": {},
   "outputs": [
    {
     "data": {
      "image/png": "[encoded data removed]",
      "text/plain": [
       "<Figure size 720x720 with 1 Axes>"
      ]
     },
     "metadata": {
      "needs_background": "light"
     },
     "output_type": "display_data"
    }
   ],
   "source": [
    "symbolColor = {'btc': 'cyan', 'eth': 'black', 'bnb': 'darkorange'}\n",
    "fig, ax = plt.subplots()\n",
    "setup_plot(fig, ax)\n",
    "for symbol, color in symbolColor.items():\n",
    "    ax.plot(\n",
    "        normalizationRS[symbol].iloc[-4:],\n",
    "        jdk_rs_mom[symbol].iloc[-4:],\n",
    "        color=color,\n",
    "        linewidth=1,\n",
    "        label=symbol\n",
    "    )\n",
    "    ax.scatter(normalizationRS[symbol].iloc[-4:-1], jdk_rs_mom[symbol].iloc[-4:-1], c=color, marker='o', s=10)\n",
    "    ax.scatter(normalizationRS[symbol].iloc[-1:], jdk_rs_mom[symbol].iloc[-1:], c=color, marker='>', s=80)\n",
    "    ax.legend(loc='center')"
   ]
  },
  {
   "cell_type": "code",
   "execution_count": null,
   "metadata": {},
   "outputs": [],
   "source": []
  }
 ],
 "metadata": {
  "kernelspec": {
   "display_name": "Python 3",
   "language": "python",
   "name": "python3"
  },
  "language_info": {
   "codemirror_mode": {
    "name": "ipython",
    "version": 3
   },
   "file_extension": ".py",
   "mimetype": "text/x-python",
   "name": "python",
   "nbconvert_exporter": "python",
   "pygments_lexer": "ipython3",
   "version": "3.7.4"
  }
 },
 "nbformat": 4,
 "nbformat_minor": 2
}
