{
 "cells": [
  {
   "cell_type": "markdown",
   "metadata": {},
   "source": [
    "## 市场相对轮动图\n",
    "\n",
    "*对市场内股票数据进行统计，观察样本变化。*"
   ]
  },
  {
   "cell_type": "code",
   "execution_count": 1,
   "metadata": {},
   "outputs": [],
   "source": [
    "import warnings\n",
    "warnings.filterwarnings(\"ignore\")"
   ]
  },
  {
   "cell_type": "code",
   "execution_count": 2,
   "metadata": {},
   "outputs": [],
   "source": [
    "import pymongo\n",
    "import pandas as pd\n",
    "from datetime import datetime"
   ]
  },
  {
   "cell_type": "code",
   "execution_count": 3,
   "metadata": {},
   "outputs": [],
   "source": [
    "symbolList = ['btc_usdt.spot:binance', 'eth_usdt.spot:binance', 'bnb_usdt.spot:binance', 'ltc_usdt.spot:binance','bch_usdt.spot:binance',\n",
    "             'doge_usdt.spot:binance', 'matic_usdt.spot:binance', 'sol_usdt.spot:binance','link_usdt.spot:binance','uni_usdt.spot:binance']\n",
    "\n",
    "client = pymongo.MongoClient('172.16.20.81', 27017)"
   ]
  },
  {
   "cell_type": "code",
   "execution_count": 4,
   "metadata": {},
   "outputs": [],
   "source": [
    "def readDb(collection, start, end):\n",
    "    return pd.DataFrame(\n",
    "        list(collection.find({\"datetime\": {'$gt': start, '$lt': end}}))\n",
    "    )"
   ]
  },
  {
   "cell_type": "code",
   "execution_count": 5,
   "metadata": {},
   "outputs": [],
   "source": [
    "startTime = datetime(2022,12,13)\n",
    "endTime = datetime(2023,1,13)\n",
    "dbClient = client['Kline_1Min_Auto_Db_Plus']\n",
    "columnsName = ['open', 'high', 'low', 'close', 'volume','datetime']"
   ]
  },
  {
   "cell_type": "code",
   "execution_count": 6,
   "metadata": {},
   "outputs": [],
   "source": [
    "crytoDict = {\n",
    "                'btc':readDb(dbClient[symbolList[0]], start=startTime , end=endTime)[columnsName],\n",
    "                'eth':readDb(dbClient[symbolList[1]], start=startTime , end=endTime)[columnsName],\n",
    "                'bnb':readDb(dbClient[symbolList[2]], start=startTime , end=endTime)[columnsName],\n",
    "                'ltc':readDb(dbClient[symbolList[3]], start=startTime , end=endTime)[columnsName],\n",
    "                'bch':readDb(dbClient[symbolList[4]], start=startTime , end=endTime)[columnsName],\n",
    "                'doge':readDb(dbClient[symbolList[5]], start=startTime , end=endTime)[columnsName],\n",
    "                'matic':readDb(dbClient[symbolList[6]], start=startTime , end=endTime)[columnsName],\n",
    "                'sol':readDb(dbClient[symbolList[7]], start=startTime , end=endTime)[columnsName],\n",
    "                'link':readDb(dbClient[symbolList[8]], start=startTime , end=endTime)[columnsName],\n",
    "                'uni':readDb(dbClient[symbolList[9]], start=startTime , end=endTime)[columnsName],\n",
    "            }"
   ]
  },
  {
   "cell_type": "code",
   "execution_count": 7,
   "metadata": {},
   "outputs": [],
   "source": [
    "# crytoDict"
   ]
  },
  {
   "cell_type": "code",
   "execution_count": 8,
   "metadata": {},
   "outputs": [],
   "source": [
    "def resampleDf(data, freq='D'):\n",
    "#     df = data.drop('_id', axis=1)\n",
    "    dataDf = df.set_index('datetime')\n",
    "    dataDayDf = dataDf.resample(freq).agg({'open':'first', 'high': 'max', 'low': 'min', 'close': 'last', 'volume':'sum'})\n",
    "    dataResetDf = dataDayDf.reset_index()\n",
    "    return dataResetDf"
   ]
  },
  {
   "cell_type": "code",
   "execution_count": 9,
   "metadata": {},
   "outputs": [],
   "source": [
    "def addSymbol(dataDf, symbolName):\n",
    "    dataDf['symbol'] = symbolName\n",
    "    return dataDf"
   ]
  },
  {
   "cell_type": "code",
   "execution_count": 10,
   "metadata": {},
   "outputs": [],
   "source": [
    "def setIndex(dataDf):\n",
    "    dataIndex = dataDf.set_index(['datetime', 'symbol'])\n",
    "    return dataIndex"
   ]
  },
  {
   "cell_type": "code",
   "execution_count": 11,
   "metadata": {},
   "outputs": [],
   "source": [
    "multiCryptoDict = {}\n",
    "for key, df in crytoDict.items():\n",
    "    hourDf = resampleDf(df)\n",
    "    hourSymbolDf = addSymbol(hourDf, key)\n",
    "    hourIndexDf = setIndex(hourSymbolDf)\n",
    "    multiCryptoDict[key] = hourIndexDf"
   ]
  },
  {
   "cell_type": "code",
   "execution_count": 12,
   "metadata": {},
   "outputs": [],
   "source": [
    "multiDf = pd.concat(list(multiCryptoDict.values())).sort_index()"
   ]
  },
  {
   "cell_type": "code",
   "execution_count": 13,
   "metadata": {},
   "outputs": [
    {
     "data": {
      "text/html": [
       "<div>\n",
       "<style scoped>\n",
       "    .dataframe tbody tr th:only-of-type {\n",
       "        vertical-align: middle;\n",
       "    }\n",
       "\n",
       "    .dataframe tbody tr th {\n",
       "        vertical-align: top;\n",
       "    }\n",
       "\n",
       "    .dataframe thead th {\n",
       "        text-align: right;\n",
       "    }\n",
       "</style>\n",
       "<table border=\"1\" class=\"dataframe\">\n",
       "  <thead>\n",
       "    <tr style=\"text-align: right;\">\n",
       "      <th></th>\n",
       "      <th></th>\n",
       "      <th>open</th>\n",
       "      <th>high</th>\n",
       "      <th>low</th>\n",
       "      <th>close</th>\n",
       "      <th>volume</th>\n",
       "    </tr>\n",
       "    <tr>\n",
       "      <th>datetime</th>\n",
       "      <th>symbol</th>\n",
       "      <th></th>\n",
       "      <th></th>\n",
       "      <th></th>\n",
       "      <th></th>\n",
       "      <th></th>\n",
       "    </tr>\n",
       "  </thead>\n",
       "  <tbody>\n",
       "    <tr>\n",
       "      <th rowspan=\"5\" valign=\"top\">2022-12-13</th>\n",
       "      <th>bch</th>\n",
       "      <td>105.4000</td>\n",
       "      <td>111.50000</td>\n",
       "      <td>103.70000</td>\n",
       "      <td>109.40000</td>\n",
       "      <td>1.093549e+05</td>\n",
       "    </tr>\n",
       "    <tr>\n",
       "      <th>bnb</th>\n",
       "      <td>275.8000</td>\n",
       "      <td>282.00000</td>\n",
       "      <td>255.60000</td>\n",
       "      <td>273.30000</td>\n",
       "      <td>1.179472e+06</td>\n",
       "    </tr>\n",
       "    <tr>\n",
       "      <th>btc</th>\n",
       "      <td>16997.2300</td>\n",
       "      <td>18000.00000</td>\n",
       "      <td>16981.03000</td>\n",
       "      <td>17752.94000</td>\n",
       "      <td>2.611493e+05</td>\n",
       "    </tr>\n",
       "    <tr>\n",
       "      <th>doge</th>\n",
       "      <td>0.0884</td>\n",
       "      <td>0.09555</td>\n",
       "      <td>0.08691</td>\n",
       "      <td>0.09199</td>\n",
       "      <td>1.533267e+09</td>\n",
       "    </tr>\n",
       "    <tr>\n",
       "      <th>eth</th>\n",
       "      <td>1249.1400</td>\n",
       "      <td>1349.00000</td>\n",
       "      <td>1248.72000</td>\n",
       "      <td>1323.78000</td>\n",
       "      <td>6.097895e+05</td>\n",
       "    </tr>\n",
       "    <tr>\n",
       "      <th>...</th>\n",
       "      <th>...</th>\n",
       "      <td>...</td>\n",
       "      <td>...</td>\n",
       "      <td>...</td>\n",
       "      <td>...</td>\n",
       "      <td>...</td>\n",
       "    </tr>\n",
       "    <tr>\n",
       "      <th rowspan=\"5\" valign=\"top\">2023-01-12</th>\n",
       "      <th>link</th>\n",
       "      <td>6.0400</td>\n",
       "      <td>6.39700</td>\n",
       "      <td>6.01000</td>\n",
       "      <td>6.19900</td>\n",
       "      <td>5.389629e+06</td>\n",
       "    </tr>\n",
       "    <tr>\n",
       "      <th>ltc</th>\n",
       "      <td>80.8000</td>\n",
       "      <td>87.70000</td>\n",
       "      <td>80.42000</td>\n",
       "      <td>83.18000</td>\n",
       "      <td>1.284094e+06</td>\n",
       "    </tr>\n",
       "    <tr>\n",
       "      <th>matic</th>\n",
       "      <td>0.8473</td>\n",
       "      <td>0.90180</td>\n",
       "      <td>0.84490</td>\n",
       "      <td>0.87390</td>\n",
       "      <td>1.034979e+08</td>\n",
       "    </tr>\n",
       "    <tr>\n",
       "      <th>sol</th>\n",
       "      <td>15.4100</td>\n",
       "      <td>17.00000</td>\n",
       "      <td>15.28000</td>\n",
       "      <td>15.96000</td>\n",
       "      <td>8.680203e+06</td>\n",
       "    </tr>\n",
       "    <tr>\n",
       "      <th>uni</th>\n",
       "      <td>5.6260</td>\n",
       "      <td>6.19400</td>\n",
       "      <td>5.60700</td>\n",
       "      <td>5.98800</td>\n",
       "      <td>2.168734e+06</td>\n",
       "    </tr>\n",
       "  </tbody>\n",
       "</table>\n",
       "<p>310 rows × 5 columns</p>\n",
       "</div>"
      ],
      "text/plain": [
       "                         open         high          low        close  \\\n",
       "datetime   symbol                                                      \n",
       "2022-12-13 bch       105.4000    111.50000    103.70000    109.40000   \n",
       "           bnb       275.8000    282.00000    255.60000    273.30000   \n",
       "           btc     16997.2300  18000.00000  16981.03000  17752.94000   \n",
       "           doge        0.0884      0.09555      0.08691      0.09199   \n",
       "           eth      1249.1400   1349.00000   1248.72000   1323.78000   \n",
       "...                       ...          ...          ...          ...   \n",
       "2023-01-12 link        6.0400      6.39700      6.01000      6.19900   \n",
       "           ltc        80.8000     87.70000     80.42000     83.18000   \n",
       "           matic       0.8473      0.90180      0.84490      0.87390   \n",
       "           sol        15.4100     17.00000     15.28000     15.96000   \n",
       "           uni         5.6260      6.19400      5.60700      5.98800   \n",
       "\n",
       "                         volume  \n",
       "datetime   symbol                \n",
       "2022-12-13 bch     1.093549e+05  \n",
       "           bnb     1.179472e+06  \n",
       "           btc     2.611493e+05  \n",
       "           doge    1.533267e+09  \n",
       "           eth     6.097895e+05  \n",
       "...                         ...  \n",
       "2023-01-12 link    5.389629e+06  \n",
       "           ltc     1.284094e+06  \n",
       "           matic   1.034979e+08  \n",
       "           sol     8.680203e+06  \n",
       "           uni     2.168734e+06  \n",
       "\n",
       "[310 rows x 5 columns]"
      ]
     },
     "execution_count": 13,
     "metadata": {},
     "output_type": "execute_result"
    }
   ],
   "source": [
    "multiDf"
   ]
  },
  {
   "cell_type": "code",
   "execution_count": 14,
   "metadata": {},
   "outputs": [],
   "source": [
    "closePrice = multiDf['close'].unstack()"
   ]
  },
  {
   "cell_type": "code",
   "execution_count": 15,
   "metadata": {},
   "outputs": [],
   "source": [
    "rsDf = pd.DataFrame({name: closePrice[name]/closePrice['btc']*100 for name in closePrice.columns})\n",
    "rsDf['btc'] = closePrice['btc']"
   ]
  },
  {
   "cell_type": "code",
   "execution_count": 16,
   "metadata": {},
   "outputs": [],
   "source": [
    "periodParam = 7"
   ]
  },
  {
   "cell_type": "code",
   "execution_count": 17,
   "metadata": {},
   "outputs": [],
   "source": [
    "normalizationRS = 100+ (rsDf -rsDf.rolling(periodParam).mean())/rsDf.rolling(periodParam).std()"
   ]
  },
  {
   "cell_type": "code",
   "execution_count": 18,
   "metadata": {},
   "outputs": [
    {
     "data": {
      "text/plain": [
       "<AxesSubplot:xlabel='datetime'>"
      ]
     },
     "execution_count": 18,
     "metadata": {},
     "output_type": "execute_result"
    }
   ],
   "source": [
    "normalizationRS.btc.plot()"
   ]
  },
  {
   "cell_type": "code",
   "execution_count": 19,
   "metadata": {},
   "outputs": [],
   "source": [
    "RS_Mom = normalizationRS.pct_change()\n",
    "jdk_rs_mom = 100+(RS_Mom - RS_Mom.rolling(periodParam).mean())/RS_Mom.rolling(periodParam).std()"
   ]
  },
  {
   "cell_type": "code",
   "execution_count": 20,
   "metadata": {},
   "outputs": [
    {
     "data": {
      "text/plain": [
       "<AxesSubplot:xlabel='datetime'>"
      ]
     },
     "execution_count": 20,
     "metadata": {},
     "output_type": "execute_result"
    },
    {
     "data": {
      "image/png": "[encoded data removed]",
      "text/plain": [
       "<Figure size 432x288 with 1 Axes>"
      ]
     },
     "metadata": {
      "needs_background": "light"
     },
     "output_type": "display_data"
    }
   ],
   "source": [
    "jdk_rs_mom.btc.plot()"
   ]
  },
  {
   "cell_type": "code",
   "execution_count": 21,
   "metadata": {},
   "outputs": [],
   "source": [
    "import matplotlib.pyplot as plt\n",
    "import matplotlib.patches as patches\n",
    "\n",
    "def setup_plot(fig, ax):\n",
    "    ax.set_title(\"Relative Rotation Graph\")\n",
    "    ax.set_xlabel(\"RS-Ratio\")\n",
    "    ax.set_ylabel(\"RS-Momentum\")\n",
    "    plt.figtext(0.14, 0.14, \"Lagging\", color=\"red\")\n",
    "    plt.figtext(0.14, 0.84, \"Improving\", color=\"blue\")\n",
    "    plt.figtext(0.87, 0.84, \"Leading\", color=\"green\", ha=\"right\")\n",
    "    plt.figtext(0.87, 0.14, \"Weakening\", color=\"gold\", ha=\"right\")\n",
    "    windowZoom = 5\n",
    "    lim = [100 - windowZoom, 100 + windowZoom]\n",
    "    ax.set_xlim(lim)\n",
    "    ax.set_ylim(lim)\n",
    "    ax.axhline(y=100, color=\"gray\", linewidth=0.5)\n",
    "    ax.axvline(x=100, color=\"gray\", linewidth=0.5)\n",
    "    rect = patches.Rectangle((0, 0), 100, 100, facecolor=\"red\", alpha=0.2)\n",
    "    ax.add_patch(rect)\n",
    "    rect = patches.Rectangle((0, 100), 100, 100, facecolor=\"blue\", alpha=0.2)\n",
    "    ax.add_patch(rect)\n",
    "    rect = patches.Rectangle((100, 100), 100, 100, facecolor=\"green\", alpha=0.2)\n",
    "    ax.add_patch(rect)\n",
    "    rect = patches.Rectangle((100, 0), 100, 100, facecolor=\"yellow\", alpha=0.2)\n",
    "    ax.add_patch(rect)\n",
    "    plt.gcf().set_size_inches(10, 10)"
   ]
  },
  {
   "cell_type": "code",
   "execution_count": 22,
   "metadata": {},
   "outputs": [
    {
     "data": {
      "text/plain": [
       "<matplotlib.legend.Legend at 0x1e02a23f988>"
      ]
     },
     "execution_count": 22,
     "metadata": {},
     "output_type": "execute_result"
    },
    {
     "data": {
      "image/png": "[encoded data removed]",
      "text/plain": [
       "<Figure size 720x720 with 1 Axes>"
      ]
     },
     "metadata": {
      "needs_background": "light"
     },
     "output_type": "display_data"
    }
   ],
   "source": [
    "fig, ax = plt.subplots()\n",
    "setup_plot(fig, ax)\n",
    "ax.plot(\n",
    "    normalizationRS.btc.iloc[-7:],\n",
    "    jdk_rs_mom.btc.iloc[-7:],\n",
    "    color='cyan',\n",
    "    linewidth=1,\n",
    "    label='btc'\n",
    ")\n",
    "ax.scatter(normalizationRS.btc.iloc[-7:-1], jdk_rs_mom.btc.iloc[-7:-1], c='cyan', marker='o', s=10)\n",
    "ax.scatter(normalizationRS.btc.iloc[-1:], jdk_rs_mom.btc.iloc[-1:], c='cyan', marker='<', s=80)\n",
    "ax.legend(loc='center left')"
   ]
  },
  {
   "cell_type": "code",
   "execution_count": 23,
   "metadata": {},
   "outputs": [
    {
     "data": {
      "image/png": "[encoded data removed]",
      "text/plain": [
       "<Figure size 720x720 with 1 Axes>"
      ]
     },
     "metadata": {
      "needs_background": "light"
     },
     "output_type": "display_data"
    }
   ],
   "source": [
    "symbolColor = {'btc': 'cyan', 'eth': 'black', 'bnb': 'darkorange'}\n",
    "fig, ax = plt.subplots()\n",
    "setup_plot(fig, ax)\n",
    "for symbol, color in symbolColor.items():\n",
    "    ax.plot(\n",
    "        normalizationRS[symbol].iloc[-7:],\n",
    "        jdk_rs_mom[symbol].iloc[-7:],\n",
    "        color=color,\n",
    "        linewidth=1,\n",
    "        label=symbol\n",
    "    )\n",
    "    ax.scatter(normalizationRS[symbol].iloc[-7:-1], jdk_rs_mom[symbol].iloc[-7:-1], c=color, marker='o', s=10)\n",
    "    ax.scatter(normalizationRS[symbol].iloc[-1:], jdk_rs_mom[symbol].iloc[-1:], c=color, marker='>', s=80)\n",
    "    ax.legend(loc='center left')"
   ]
  },
  {
   "cell_type": "code",
   "execution_count": null,
   "metadata": {},
   "outputs": [],
   "source": []
  }
 ],
 "metadata": {
  "kernelspec": {
   "display_name": "Python 3",
   "language": "python",
   "name": "python3"
  },
  "language_info": {
   "codemirror_mode": {
    "name": "ipython",
    "version": 3
   },
   "file_extension": ".py",
   "mimetype": "text/x-python",
   "name": "python",
   "nbconvert_exporter": "python",
   "pygments_lexer": "ipython3",
   "version": "3.7.4"
  }
 },
 "nbformat": 4,
 "nbformat_minor": 2
}
