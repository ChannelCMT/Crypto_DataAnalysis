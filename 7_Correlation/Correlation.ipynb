{
 "cells": [
  {
   "cell_type": "markdown",
   "metadata": {},
   "source": [
    "## 市场相关性分析"
   ]
  },
  {
   "cell_type": "code",
   "execution_count": 1,
   "metadata": {},
   "outputs": [
    {
     "name": "stderr",
     "output_type": "stream",
     "text": [
      "C:\\Users\\channelchan\\Anaconda3\\lib\\site-packages\\sklearn\\linear_model\\least_angle.py:30: DeprecationWarning: `np.float` is a deprecated alias for the builtin `float`. To silence this warning, use `float` by itself. Doing this will not modify any behavior and is safe. If you specifically wanted the numpy scalar type, use `np.float64` here.\n",
      "Deprecated in NumPy 1.20; for more details and guidance: https://numpy.org/devdocs/release/1.20.0-notes.html#deprecations\n",
      "  method='lar', copy_X=True, eps=np.finfo(np.float).eps,\n",
      "C:\\Users\\channelchan\\Anaconda3\\lib\\site-packages\\sklearn\\linear_model\\least_angle.py:167: DeprecationWarning: `np.float` is a deprecated alias for the builtin `float`. To silence this warning, use `float` by itself. Doing this will not modify any behavior and is safe. If you specifically wanted the numpy scalar type, use `np.float64` here.\n",
      "Deprecated in NumPy 1.20; for more details and guidance: https://numpy.org/devdocs/release/1.20.0-notes.html#deprecations\n",
      "  method='lar', copy_X=True, eps=np.finfo(np.float).eps,\n",
      "C:\\Users\\channelchan\\Anaconda3\\lib\\site-packages\\sklearn\\linear_model\\least_angle.py:284: DeprecationWarning: `np.float` is a deprecated alias for the builtin `float`. To silence this warning, use `float` by itself. Doing this will not modify any behavior and is safe. If you specifically wanted the numpy scalar type, use `np.float64` here.\n",
      "Deprecated in NumPy 1.20; for more details and guidance: https://numpy.org/devdocs/release/1.20.0-notes.html#deprecations\n",
      "  eps=np.finfo(np.float).eps, copy_Gram=True, verbose=0,\n",
      "C:\\Users\\channelchan\\Anaconda3\\lib\\site-packages\\sklearn\\linear_model\\least_angle.py:862: DeprecationWarning: `np.float` is a deprecated alias for the builtin `float`. To silence this warning, use `float` by itself. Doing this will not modify any behavior and is safe. If you specifically wanted the numpy scalar type, use `np.float64` here.\n",
      "Deprecated in NumPy 1.20; for more details and guidance: https://numpy.org/devdocs/release/1.20.0-notes.html#deprecations\n",
      "  eps=np.finfo(np.float).eps, copy_X=True, fit_path=True,\n",
      "C:\\Users\\channelchan\\Anaconda3\\lib\\site-packages\\sklearn\\linear_model\\least_angle.py:1101: DeprecationWarning: `np.float` is a deprecated alias for the builtin `float`. To silence this warning, use `float` by itself. Doing this will not modify any behavior and is safe. If you specifically wanted the numpy scalar type, use `np.float64` here.\n",
      "Deprecated in NumPy 1.20; for more details and guidance: https://numpy.org/devdocs/release/1.20.0-notes.html#deprecations\n",
      "  eps=np.finfo(np.float).eps, copy_X=True, fit_path=True,\n",
      "C:\\Users\\channelchan\\Anaconda3\\lib\\site-packages\\sklearn\\linear_model\\least_angle.py:1127: DeprecationWarning: `np.float` is a deprecated alias for the builtin `float`. To silence this warning, use `float` by itself. Doing this will not modify any behavior and is safe. If you specifically wanted the numpy scalar type, use `np.float64` here.\n",
      "Deprecated in NumPy 1.20; for more details and guidance: https://numpy.org/devdocs/release/1.20.0-notes.html#deprecations\n",
      "  eps=np.finfo(np.float).eps, positive=False):\n",
      "C:\\Users\\channelchan\\Anaconda3\\lib\\site-packages\\sklearn\\linear_model\\least_angle.py:1362: DeprecationWarning: `np.float` is a deprecated alias for the builtin `float`. To silence this warning, use `float` by itself. Doing this will not modify any behavior and is safe. If you specifically wanted the numpy scalar type, use `np.float64` here.\n",
      "Deprecated in NumPy 1.20; for more details and guidance: https://numpy.org/devdocs/release/1.20.0-notes.html#deprecations\n",
      "  max_n_alphas=1000, n_jobs=None, eps=np.finfo(np.float).eps,\n",
      "C:\\Users\\channelchan\\Anaconda3\\lib\\site-packages\\sklearn\\linear_model\\least_angle.py:1602: DeprecationWarning: `np.float` is a deprecated alias for the builtin `float`. To silence this warning, use `float` by itself. Doing this will not modify any behavior and is safe. If you specifically wanted the numpy scalar type, use `np.float64` here.\n",
      "Deprecated in NumPy 1.20; for more details and guidance: https://numpy.org/devdocs/release/1.20.0-notes.html#deprecations\n",
      "  max_n_alphas=1000, n_jobs=None, eps=np.finfo(np.float).eps,\n",
      "C:\\Users\\channelchan\\Anaconda3\\lib\\site-packages\\sklearn\\linear_model\\least_angle.py:1738: DeprecationWarning: `np.float` is a deprecated alias for the builtin `float`. To silence this warning, use `float` by itself. Doing this will not modify any behavior and is safe. If you specifically wanted the numpy scalar type, use `np.float64` here.\n",
      "Deprecated in NumPy 1.20; for more details and guidance: https://numpy.org/devdocs/release/1.20.0-notes.html#deprecations\n",
      "  eps=np.finfo(np.float).eps, copy_X=True, positive=False):\n",
      "C:\\Users\\channelchan\\Anaconda3\\lib\\site-packages\\sklearn\\decomposition\\online_lda.py:29: DeprecationWarning: `np.float` is a deprecated alias for the builtin `float`. To silence this warning, use `float` by itself. Doing this will not modify any behavior and is safe. If you specifically wanted the numpy scalar type, use `np.float64` here.\n",
      "Deprecated in NumPy 1.20; for more details and guidance: https://numpy.org/devdocs/release/1.20.0-notes.html#deprecations\n",
      "  EPS = np.finfo(np.float).eps\n"
     ]
    }
   ],
   "source": [
    "import pymongo\n",
    "import pandas as pd\n",
    "import numpy as np\n",
    "from datetime import datetime, timedelta\n",
    "from sklearn.decomposition import PCA\n",
    "import matplotlib.pyplot as plt\n",
    "import warnings\n",
    "warnings.filterwarnings(\"ignore\")\n",
    "startTime = datetime(2022,6,1)\n",
    "endTime = datetime(2023,1,19, 10)"
   ]
  },
  {
   "cell_type": "code",
   "execution_count": 2,
   "metadata": {},
   "outputs": [],
   "source": [
    "# https://www.investing.com/indices/nasdaq-composite-historical-data"
   ]
  },
  {
   "cell_type": "code",
   "execution_count": 3,
   "metadata": {},
   "outputs": [],
   "source": [
    "symbolList = ['btc_usdt.spot:binance', 'eth_usdt.spot:binance', 'bnb_usdt.spot:binance', 'ltc_usdt.spot:binance','bch_usdt.spot:binance',\n",
    "             'doge_usdt.spot:binance', 'matic_usdt.spot:binance', 'sol_usdt.spot:binance','link_usdt.spot:binance','uni_usdt.spot:binance',\n",
    "             'gala_usdt.spot:binance', 'sand_usdt.spot:binance', 'axs_usdt.spot:binance']\n",
    "\n",
    "client = pymongo.MongoClient('172.16.20.81', 27017)"
   ]
  },
  {
   "cell_type": "code",
   "execution_count": 4,
   "metadata": {},
   "outputs": [],
   "source": [
    "def readDb(collection, start, end):\n",
    "    return pd.DataFrame(\n",
    "        list(collection.find({\"datetime\": {'$gt': start, '$lt': end}}))\n",
    "    )"
   ]
  },
  {
   "cell_type": "code",
   "execution_count": 5,
   "metadata": {},
   "outputs": [],
   "source": [
    "\n",
    "dbClient = client['Kline_1Min_Auto_Db_Plus']\n",
    "columnsName = ['open', 'high', 'low', 'close', 'volume','datetime']"
   ]
  },
  {
   "cell_type": "code",
   "execution_count": 6,
   "metadata": {},
   "outputs": [],
   "source": [
    "crytoDict = {\n",
    "                'btc':readDb(dbClient[symbolList[0]], start=startTime , end=endTime)[columnsName],\n",
    "                'eth':readDb(dbClient[symbolList[1]], start=startTime , end=endTime)[columnsName],\n",
    "                'bnb':readDb(dbClient[symbolList[2]], start=startTime , end=endTime)[columnsName],\n",
    "                'ltc':readDb(dbClient[symbolList[3]], start=startTime , end=endTime)[columnsName],\n",
    "                'bch':readDb(dbClient[symbolList[4]], start=startTime , end=endTime)[columnsName],\n",
    "                'doge':readDb(dbClient[symbolList[5]], start=startTime , end=endTime)[columnsName],\n",
    "                'matic':readDb(dbClient[symbolList[6]], start=startTime , end=endTime)[columnsName],\n",
    "                'sol':readDb(dbClient[symbolList[7]], start=startTime , end=endTime)[columnsName],\n",
    "                'link':readDb(dbClient[symbolList[8]], start=startTime , end=endTime)[columnsName],\n",
    "                'uni':readDb(dbClient[symbolList[9]], start=startTime , end=endTime)[columnsName],\n",
    "                'gala':readDb(dbClient[symbolList[10]], start=startTime , end=endTime)[columnsName],\n",
    "                'sand':readDb(dbClient[symbolList[11]], start=startTime , end=endTime)[columnsName],\n",
    "                'axs':readDb(dbClient[symbolList[12]], start=startTime , end=endTime)[columnsName]\n",
    "            }"
   ]
  },
  {
   "cell_type": "code",
   "execution_count": 7,
   "metadata": {},
   "outputs": [],
   "source": [
    "# crytoDict"
   ]
  },
  {
   "cell_type": "code",
   "execution_count": 8,
   "metadata": {},
   "outputs": [],
   "source": [
    "def resampleDf(data, freq='H'):\n",
    "#     df = data.drop('_id', axis=1)\n",
    "    dataDf = data.set_index('datetime')\n",
    "    dataHourDf = dataDf.resample(freq).agg({'open':'first', 'high': 'max', 'low': 'min', 'close': 'last', 'volume':'sum'})\n",
    "    dataResetDf = dataHourDf.reset_index()\n",
    "    return dataResetDf"
   ]
  },
  {
   "cell_type": "code",
   "execution_count": 9,
   "metadata": {},
   "outputs": [],
   "source": [
    "def addSymbol(dataDf, symbolName):\n",
    "    dataDf['symbol'] = symbolName\n",
    "    return dataDf"
   ]
  },
  {
   "cell_type": "code",
   "execution_count": 10,
   "metadata": {},
   "outputs": [],
   "source": [
    "def setIndex(dataDf):\n",
    "    dataIndex = dataDf.set_index(['datetime', 'symbol'])\n",
    "    return dataIndex"
   ]
  },
  {
   "cell_type": "code",
   "execution_count": 11,
   "metadata": {},
   "outputs": [],
   "source": [
    "multiCryptoDict = {}\n",
    "for key, df in crytoDict.items():\n",
    "    hourDf = resampleDf(df)\n",
    "    hourSymbolDf = addSymbol(hourDf, key)\n",
    "    hourIndexDf = setIndex(hourSymbolDf)\n",
    "    multiCryptoDict[key] = hourIndexDf"
   ]
  },
  {
   "cell_type": "code",
   "execution_count": 12,
   "metadata": {},
   "outputs": [],
   "source": [
    "multiDf = pd.concat(list(multiCryptoDict.values())).sort_index()"
   ]
  },
  {
   "cell_type": "code",
   "execution_count": 13,
   "metadata": {},
   "outputs": [
    {
     "data": {
      "text/html": [
       "<div>\n",
       "<style scoped>\n",
       "    .dataframe tbody tr th:only-of-type {\n",
       "        vertical-align: middle;\n",
       "    }\n",
       "\n",
       "    .dataframe tbody tr th {\n",
       "        vertical-align: top;\n",
       "    }\n",
       "\n",
       "    .dataframe thead th {\n",
       "        text-align: right;\n",
       "    }\n",
       "</style>\n",
       "<table border=\"1\" class=\"dataframe\">\n",
       "  <thead>\n",
       "    <tr style=\"text-align: right;\">\n",
       "      <th></th>\n",
       "      <th></th>\n",
       "      <th>open</th>\n",
       "      <th>high</th>\n",
       "      <th>low</th>\n",
       "      <th>close</th>\n",
       "      <th>volume</th>\n",
       "    </tr>\n",
       "    <tr>\n",
       "      <th>datetime</th>\n",
       "      <th>symbol</th>\n",
       "      <th></th>\n",
       "      <th></th>\n",
       "      <th></th>\n",
       "      <th></th>\n",
       "      <th></th>\n",
       "    </tr>\n",
       "  </thead>\n",
       "  <tbody>\n",
       "    <tr>\n",
       "      <th rowspan=\"5\" valign=\"top\">2022-06-01 00:00:00</th>\n",
       "      <th>axs</th>\n",
       "      <td>24.60000</td>\n",
       "      <td>24.80000</td>\n",
       "      <td>23.95000</td>\n",
       "      <td>24.11000</td>\n",
       "      <td>1.480696e+05</td>\n",
       "    </tr>\n",
       "    <tr>\n",
       "      <th>bch</th>\n",
       "      <td>198.00000</td>\n",
       "      <td>199.30000</td>\n",
       "      <td>195.60000</td>\n",
       "      <td>197.00000</td>\n",
       "      <td>5.910073e+03</td>\n",
       "    </tr>\n",
       "    <tr>\n",
       "      <th>bnb</th>\n",
       "      <td>321.90000</td>\n",
       "      <td>324.00000</td>\n",
       "      <td>319.70000</td>\n",
       "      <td>322.80000</td>\n",
       "      <td>4.378702e+04</td>\n",
       "    </tr>\n",
       "    <tr>\n",
       "      <th>btc</th>\n",
       "      <td>32084.53000</td>\n",
       "      <td>32399.00000</td>\n",
       "      <td>31839.67000</td>\n",
       "      <td>32158.03000</td>\n",
       "      <td>5.899671e+03</td>\n",
       "    </tr>\n",
       "    <tr>\n",
       "      <th>doge</th>\n",
       "      <td>0.08562</td>\n",
       "      <td>0.08623</td>\n",
       "      <td>0.08483</td>\n",
       "      <td>0.08574</td>\n",
       "      <td>8.556392e+07</td>\n",
       "    </tr>\n",
       "    <tr>\n",
       "      <th>...</th>\n",
       "      <th>...</th>\n",
       "      <td>...</td>\n",
       "      <td>...</td>\n",
       "      <td>...</td>\n",
       "      <td>...</td>\n",
       "      <td>...</td>\n",
       "    </tr>\n",
       "    <tr>\n",
       "      <th rowspan=\"5\" valign=\"top\">2023-01-19 09:00:00</th>\n",
       "      <th>ltc</th>\n",
       "      <td>83.06000</td>\n",
       "      <td>83.26000</td>\n",
       "      <td>82.75000</td>\n",
       "      <td>82.87000</td>\n",
       "      <td>1.911947e+04</td>\n",
       "    </tr>\n",
       "    <tr>\n",
       "      <th>matic</th>\n",
       "      <td>0.93900</td>\n",
       "      <td>0.94720</td>\n",
       "      <td>0.93680</td>\n",
       "      <td>0.93900</td>\n",
       "      <td>3.692852e+06</td>\n",
       "    </tr>\n",
       "    <tr>\n",
       "      <th>sand</th>\n",
       "      <td>0.68620</td>\n",
       "      <td>0.69190</td>\n",
       "      <td>0.67530</td>\n",
       "      <td>0.67700</td>\n",
       "      <td>1.512182e+06</td>\n",
       "    </tr>\n",
       "    <tr>\n",
       "      <th>sol</th>\n",
       "      <td>20.97000</td>\n",
       "      <td>21.28000</td>\n",
       "      <td>20.91000</td>\n",
       "      <td>21.02000</td>\n",
       "      <td>2.896572e+05</td>\n",
       "    </tr>\n",
       "    <tr>\n",
       "      <th>uni</th>\n",
       "      <td>6.05400</td>\n",
       "      <td>6.12300</td>\n",
       "      <td>6.05400</td>\n",
       "      <td>6.06300</td>\n",
       "      <td>5.738776e+04</td>\n",
       "    </tr>\n",
       "  </tbody>\n",
       "</table>\n",
       "<p>72514 rows × 5 columns</p>\n",
       "</div>"
      ],
      "text/plain": [
       "                                   open         high          low  \\\n",
       "datetime            symbol                                          \n",
       "2022-06-01 00:00:00 axs        24.60000     24.80000     23.95000   \n",
       "                    bch       198.00000    199.30000    195.60000   \n",
       "                    bnb       321.90000    324.00000    319.70000   \n",
       "                    btc     32084.53000  32399.00000  31839.67000   \n",
       "                    doge        0.08562      0.08623      0.08483   \n",
       "...                                 ...          ...          ...   \n",
       "2023-01-19 09:00:00 ltc        83.06000     83.26000     82.75000   \n",
       "                    matic       0.93900      0.94720      0.93680   \n",
       "                    sand        0.68620      0.69190      0.67530   \n",
       "                    sol        20.97000     21.28000     20.91000   \n",
       "                    uni         6.05400      6.12300      6.05400   \n",
       "\n",
       "                                  close        volume  \n",
       "datetime            symbol                             \n",
       "2022-06-01 00:00:00 axs        24.11000  1.480696e+05  \n",
       "                    bch       197.00000  5.910073e+03  \n",
       "                    bnb       322.80000  4.378702e+04  \n",
       "                    btc     32158.03000  5.899671e+03  \n",
       "                    doge        0.08574  8.556392e+07  \n",
       "...                                 ...           ...  \n",
       "2023-01-19 09:00:00 ltc        82.87000  1.911947e+04  \n",
       "                    matic       0.93900  3.692852e+06  \n",
       "                    sand        0.67700  1.512182e+06  \n",
       "                    sol        21.02000  2.896572e+05  \n",
       "                    uni         6.06300  5.738776e+04  \n",
       "\n",
       "[72514 rows x 5 columns]"
      ]
     },
     "execution_count": 13,
     "metadata": {},
     "output_type": "execute_result"
    }
   ],
   "source": [
    "multiDf"
   ]
  },
  {
   "cell_type": "code",
   "execution_count": 14,
   "metadata": {},
   "outputs": [],
   "source": [
    "closePrice = multiDf['close'].unstack()"
   ]
  },
  {
   "cell_type": "code",
   "execution_count": 15,
   "metadata": {},
   "outputs": [],
   "source": [
    "logPriceDf = np.log(closePrice)"
   ]
  },
  {
   "cell_type": "code",
   "execution_count": 16,
   "metadata": {},
   "outputs": [
    {
     "data": {
      "text/html": [
       "<div>\n",
       "<style scoped>\n",
       "    .dataframe tbody tr th:only-of-type {\n",
       "        vertical-align: middle;\n",
       "    }\n",
       "\n",
       "    .dataframe tbody tr th {\n",
       "        vertical-align: top;\n",
       "    }\n",
       "\n",
       "    .dataframe thead th {\n",
       "        text-align: right;\n",
       "    }\n",
       "</style>\n",
       "<table border=\"1\" class=\"dataframe\">\n",
       "  <thead>\n",
       "    <tr style=\"text-align: right;\">\n",
       "      <th>symbol</th>\n",
       "      <th>axs</th>\n",
       "      <th>bch</th>\n",
       "      <th>bnb</th>\n",
       "      <th>btc</th>\n",
       "      <th>doge</th>\n",
       "      <th>eth</th>\n",
       "      <th>gala</th>\n",
       "      <th>link</th>\n",
       "      <th>ltc</th>\n",
       "      <th>matic</th>\n",
       "      <th>sand</th>\n",
       "      <th>sol</th>\n",
       "      <th>uni</th>\n",
       "    </tr>\n",
       "    <tr>\n",
       "      <th>datetime</th>\n",
       "      <th></th>\n",
       "      <th></th>\n",
       "      <th></th>\n",
       "      <th></th>\n",
       "      <th></th>\n",
       "      <th></th>\n",
       "      <th></th>\n",
       "      <th></th>\n",
       "      <th></th>\n",
       "      <th></th>\n",
       "      <th></th>\n",
       "      <th></th>\n",
       "      <th></th>\n",
       "    </tr>\n",
       "  </thead>\n",
       "  <tbody>\n",
       "    <tr>\n",
       "      <th>2022-06-01 00:00:00</th>\n",
       "      <td>3.182627</td>\n",
       "      <td>5.283204</td>\n",
       "      <td>5.777033</td>\n",
       "      <td>10.378417</td>\n",
       "      <td>-2.456436</td>\n",
       "      <td>7.587387</td>\n",
       "      <td>-2.486027</td>\n",
       "      <td>2.014903</td>\n",
       "      <td>4.229749</td>\n",
       "      <td>-0.403467</td>\n",
       "      <td>0.359072</td>\n",
       "      <td>3.834061</td>\n",
       "      <td>1.750937</td>\n",
       "    </tr>\n",
       "    <tr>\n",
       "      <th>2022-06-01 01:00:00</th>\n",
       "      <td>3.179303</td>\n",
       "      <td>5.284725</td>\n",
       "      <td>5.778271</td>\n",
       "      <td>10.377299</td>\n",
       "      <td>-2.454688</td>\n",
       "      <td>7.584468</td>\n",
       "      <td>-2.486027</td>\n",
       "      <td>2.010895</td>\n",
       "      <td>4.231204</td>\n",
       "      <td>-0.400478</td>\n",
       "      <td>0.363879</td>\n",
       "      <td>3.832763</td>\n",
       "      <td>1.750937</td>\n",
       "    </tr>\n",
       "    <tr>\n",
       "      <th>2022-06-01 02:00:00</th>\n",
       "      <td>3.134189</td>\n",
       "      <td>5.278625</td>\n",
       "      <td>5.767070</td>\n",
       "      <td>10.363533</td>\n",
       "      <td>-2.456203</td>\n",
       "      <td>7.567625</td>\n",
       "      <td>-2.512689</td>\n",
       "      <td>1.998774</td>\n",
       "      <td>4.212128</td>\n",
       "      <td>-0.420071</td>\n",
       "      <td>0.353680</td>\n",
       "      <td>3.816833</td>\n",
       "      <td>1.728109</td>\n",
       "    </tr>\n",
       "    <tr>\n",
       "      <th>2022-06-01 03:00:00</th>\n",
       "      <td>3.126761</td>\n",
       "      <td>5.285739</td>\n",
       "      <td>5.764564</td>\n",
       "      <td>10.361726</td>\n",
       "      <td>-2.453059</td>\n",
       "      <td>7.567454</td>\n",
       "      <td>-2.504334</td>\n",
       "      <td>1.998774</td>\n",
       "      <td>4.218036</td>\n",
       "      <td>-0.420071</td>\n",
       "      <td>0.355434</td>\n",
       "      <td>3.818371</td>\n",
       "      <td>1.726332</td>\n",
       "    </tr>\n",
       "    <tr>\n",
       "      <th>2022-06-01 04:00:00</th>\n",
       "      <td>3.140698</td>\n",
       "      <td>5.303802</td>\n",
       "      <td>5.769258</td>\n",
       "      <td>10.367651</td>\n",
       "      <td>-2.447380</td>\n",
       "      <td>7.577460</td>\n",
       "      <td>-2.491931</td>\n",
       "      <td>2.018895</td>\n",
       "      <td>4.226834</td>\n",
       "      <td>-0.410980</td>\n",
       "      <td>0.364018</td>\n",
       "      <td>3.825157</td>\n",
       "      <td>1.738710</td>\n",
       "    </tr>\n",
       "    <tr>\n",
       "      <th>...</th>\n",
       "      <td>...</td>\n",
       "      <td>...</td>\n",
       "      <td>...</td>\n",
       "      <td>...</td>\n",
       "      <td>...</td>\n",
       "      <td>...</td>\n",
       "      <td>...</td>\n",
       "      <td>...</td>\n",
       "      <td>...</td>\n",
       "      <td>...</td>\n",
       "      <td>...</td>\n",
       "      <td>...</td>\n",
       "      <td>...</td>\n",
       "    </tr>\n",
       "    <tr>\n",
       "      <th>2023-01-19 05:00:00</th>\n",
       "      <td>2.093098</td>\n",
       "      <td>4.792479</td>\n",
       "      <td>5.669191</td>\n",
       "      <td>9.941764</td>\n",
       "      <td>-2.513677</td>\n",
       "      <td>7.332016</td>\n",
       "      <td>-3.088067</td>\n",
       "      <td>1.857079</td>\n",
       "      <td>4.425685</td>\n",
       "      <td>-0.050767</td>\n",
       "      <td>-0.341927</td>\n",
       "      <td>3.060115</td>\n",
       "      <td>1.809272</td>\n",
       "    </tr>\n",
       "    <tr>\n",
       "      <th>2023-01-19 06:00:00</th>\n",
       "      <td>2.096790</td>\n",
       "      <td>4.792479</td>\n",
       "      <td>5.670915</td>\n",
       "      <td>9.943349</td>\n",
       "      <td>-2.510840</td>\n",
       "      <td>7.333925</td>\n",
       "      <td>-3.088945</td>\n",
       "      <td>1.859418</td>\n",
       "      <td>4.426522</td>\n",
       "      <td>-0.047511</td>\n",
       "      <td>-0.337713</td>\n",
       "      <td>3.051640</td>\n",
       "      <td>1.807633</td>\n",
       "    </tr>\n",
       "    <tr>\n",
       "      <th>2023-01-19 07:00:00</th>\n",
       "      <td>2.083185</td>\n",
       "      <td>4.776599</td>\n",
       "      <td>5.658436</td>\n",
       "      <td>9.936800</td>\n",
       "      <td>-2.525729</td>\n",
       "      <td>7.320812</td>\n",
       "      <td>-3.110021</td>\n",
       "      <td>1.845932</td>\n",
       "      <td>4.414252</td>\n",
       "      <td>-0.064005</td>\n",
       "      <td>-0.377023</td>\n",
       "      <td>3.034472</td>\n",
       "      <td>1.799728</td>\n",
       "    </tr>\n",
       "    <tr>\n",
       "      <th>2023-01-19 08:00:00</th>\n",
       "      <td>2.088153</td>\n",
       "      <td>4.780803</td>\n",
       "      <td>5.663308</td>\n",
       "      <td>9.937600</td>\n",
       "      <td>-2.522484</td>\n",
       "      <td>7.324002</td>\n",
       "      <td>-3.104878</td>\n",
       "      <td>1.850028</td>\n",
       "      <td>4.419563</td>\n",
       "      <td>-0.062940</td>\n",
       "      <td>-0.376586</td>\n",
       "      <td>3.043570</td>\n",
       "      <td>1.800554</td>\n",
       "    </tr>\n",
       "    <tr>\n",
       "      <th>2023-01-19 09:00:00</th>\n",
       "      <td>2.089392</td>\n",
       "      <td>4.782479</td>\n",
       "      <td>5.664348</td>\n",
       "      <td>9.938707</td>\n",
       "      <td>-2.519995</td>\n",
       "      <td>7.325241</td>\n",
       "      <td>-3.105994</td>\n",
       "      <td>1.851756</td>\n",
       "      <td>4.417273</td>\n",
       "      <td>-0.062940</td>\n",
       "      <td>-0.390084</td>\n",
       "      <td>3.045474</td>\n",
       "      <td>1.802205</td>\n",
       "    </tr>\n",
       "  </tbody>\n",
       "</table>\n",
       "<p>5578 rows × 13 columns</p>\n",
       "</div>"
      ],
      "text/plain": [
       "symbol                    axs       bch       bnb        btc      doge  \\\n",
       "datetime                                                                 \n",
       "2022-06-01 00:00:00  3.182627  5.283204  5.777033  10.378417 -2.456436   \n",
       "2022-06-01 01:00:00  3.179303  5.284725  5.778271  10.377299 -2.454688   \n",
       "2022-06-01 02:00:00  3.134189  5.278625  5.767070  10.363533 -2.456203   \n",
       "2022-06-01 03:00:00  3.126761  5.285739  5.764564  10.361726 -2.453059   \n",
       "2022-06-01 04:00:00  3.140698  5.303802  5.769258  10.367651 -2.447380   \n",
       "...                       ...       ...       ...        ...       ...   \n",
       "2023-01-19 05:00:00  2.093098  4.792479  5.669191   9.941764 -2.513677   \n",
       "2023-01-19 06:00:00  2.096790  4.792479  5.670915   9.943349 -2.510840   \n",
       "2023-01-19 07:00:00  2.083185  4.776599  5.658436   9.936800 -2.525729   \n",
       "2023-01-19 08:00:00  2.088153  4.780803  5.663308   9.937600 -2.522484   \n",
       "2023-01-19 09:00:00  2.089392  4.782479  5.664348   9.938707 -2.519995   \n",
       "\n",
       "symbol                    eth      gala      link       ltc     matic  \\\n",
       "datetime                                                                \n",
       "2022-06-01 00:00:00  7.587387 -2.486027  2.014903  4.229749 -0.403467   \n",
       "2022-06-01 01:00:00  7.584468 -2.486027  2.010895  4.231204 -0.400478   \n",
       "2022-06-01 02:00:00  7.567625 -2.512689  1.998774  4.212128 -0.420071   \n",
       "2022-06-01 03:00:00  7.567454 -2.504334  1.998774  4.218036 -0.420071   \n",
       "2022-06-01 04:00:00  7.577460 -2.491931  2.018895  4.226834 -0.410980   \n",
       "...                       ...       ...       ...       ...       ...   \n",
       "2023-01-19 05:00:00  7.332016 -3.088067  1.857079  4.425685 -0.050767   \n",
       "2023-01-19 06:00:00  7.333925 -3.088945  1.859418  4.426522 -0.047511   \n",
       "2023-01-19 07:00:00  7.320812 -3.110021  1.845932  4.414252 -0.064005   \n",
       "2023-01-19 08:00:00  7.324002 -3.104878  1.850028  4.419563 -0.062940   \n",
       "2023-01-19 09:00:00  7.325241 -3.105994  1.851756  4.417273 -0.062940   \n",
       "\n",
       "symbol                   sand       sol       uni  \n",
       "datetime                                           \n",
       "2022-06-01 00:00:00  0.359072  3.834061  1.750937  \n",
       "2022-06-01 01:00:00  0.363879  3.832763  1.750937  \n",
       "2022-06-01 02:00:00  0.353680  3.816833  1.728109  \n",
       "2022-06-01 03:00:00  0.355434  3.818371  1.726332  \n",
       "2022-06-01 04:00:00  0.364018  3.825157  1.738710  \n",
       "...                       ...       ...       ...  \n",
       "2023-01-19 05:00:00 -0.341927  3.060115  1.809272  \n",
       "2023-01-19 06:00:00 -0.337713  3.051640  1.807633  \n",
       "2023-01-19 07:00:00 -0.377023  3.034472  1.799728  \n",
       "2023-01-19 08:00:00 -0.376586  3.043570  1.800554  \n",
       "2023-01-19 09:00:00 -0.390084  3.045474  1.802205  \n",
       "\n",
       "[5578 rows x 13 columns]"
      ]
     },
     "execution_count": 16,
     "metadata": {},
     "output_type": "execute_result"
    }
   ],
   "source": [
    "logPriceDf"
   ]
  },
  {
   "cell_type": "code",
   "execution_count": 17,
   "metadata": {},
   "outputs": [],
   "source": [
    "import seaborn as sns\n",
    "\n",
    "def corr_chart(logPriceDf):\n",
    "    corrDf = logPriceDf.corr()\n",
    "    mask = np.zeros_like(corrDf)\n",
    "    mask[np.triu_indices_from(mask)] = True\n",
    "    for i in range(len(mask)):\n",
    "        mask[i,i] = 0\n",
    "    plt.figure(figsize=(15,15))\n",
    "    with sns.axes_style(\"white\"):\n",
    "        ax = sns.heatmap(corrDf, mask=mask,square=True,annot=True,cmap=\"YlGnBu\")\n",
    "    btc_avg_corr = ((corrDf.sum()-1)/13)['btc']\n",
    "    btc_avg_corr = round(btc_avg_corr,2)\n",
    "    plt.text(-1,-1,f'The [{logPriceDf.index[0]}] to [{logPriceDf.index[-1]}]\\'s Return Array Average Correlation')\n",
    "    plt.text(-1,-0.6,f'between BTC and others is : {btc_avg_corr}')\n",
    "    plt.savefig('corr')\n",
    "    plt.show()"
   ]
  },
  {
   "cell_type": "code",
   "execution_count": 18,
   "metadata": {},
   "outputs": [],
   "source": [
    "periodParam = 168"
   ]
  },
  {
   "cell_type": "code",
   "execution_count": 19,
   "metadata": {},
   "outputs": [
    {
     "data": {
      "image/png": "[encoded data removed]",
      "text/plain": [
       "<Figure size 1080x1080 with 2 Axes>"
      ]
     },
     "metadata": {
      "needs_background": "light"
     },
     "output_type": "display_data"
    }
   ],
   "source": [
    "corr_chart(logPriceDf.iloc[-periodParam:])"
   ]
  },
  {
   "cell_type": "code",
   "execution_count": 20,
   "metadata": {},
   "outputs": [],
   "source": [
    "def absorption_ratio(logReturn):\n",
    "    '''\n",
    "    Calculate absorption ratio via PCA.\n",
    "    Arguments:\n",
    "    explained_variance -- 1D np.array of explained variance by each pricincipal component, in descending order\n",
    "    \n",
    "    n_components -- an integer, a number of principal components to compute absorption ratio\n",
    "    \n",
    "    Return:\n",
    "    ar -- absorption ratio\n",
    "    '''\n",
    "    num = len(logReturn[0])\n",
    "    pca = PCA(n_components=num)\n",
    "    pca.fit(logReturn)\n",
    "    explained_variance1 = pca.explained_variance_ratio_[0]\n",
    "    explained_variance_sum = np.sum(pca.explained_variance_ratio_)\n",
    "    ar = explained_variance1/ explained_variance_sum\n",
    "    return ar"
   ]
  },
  {
   "cell_type": "code",
   "execution_count": 21,
   "metadata": {},
   "outputs": [],
   "source": [
    "closePrice = multiDf.close.unstack()"
   ]
  },
  {
   "cell_type": "code",
   "execution_count": 22,
   "metadata": {},
   "outputs": [],
   "source": [
    "ar_param = 168\n",
    "nor_param = ar_param*8\n",
    "pcaDict = {}\n",
    "for i in range(len(logPriceDf)-ar_param):\n",
    "    pcaDict[logPriceDf.iloc[i+ar_param].name] = absorption_ratio(np.array(logPriceDf.iloc[i:i+ar_param]))"
   ]
  },
  {
   "cell_type": "code",
   "execution_count": 23,
   "metadata": {},
   "outputs": [],
   "source": [
    "arData = pd.Series(pcaDict).to_frame(name='ar')"
   ]
  },
  {
   "cell_type": "code",
   "execution_count": 24,
   "metadata": {},
   "outputs": [],
   "source": [
    "arData['arNor'] = (arData['ar'].rolling(ar_param).mean()-arData['ar'].rolling(nor_param).mean())/arData['ar'].rolling(nor_param).std()"
   ]
  },
  {
   "cell_type": "code",
   "execution_count": 25,
   "metadata": {},
   "outputs": [
    {
     "data": {
      "image/png": "[encoded data removed]",
      "text/plain": [
       "<Figure size 1080x720 with 2 Axes>"
      ]
     },
     "metadata": {
      "needs_background": "light"
     },
     "output_type": "display_data"
    }
   ],
   "source": [
    "last7Day = 7*24\n",
    "figBtc, (axBtc, ax1Btc) = plt.subplots(2,1,sharex=True, figsize=(15,10))\n",
    "axBtc.grid(True)\n",
    "axBtc.plot(closePrice['btc'].iloc[-last7Day:], label='btcPrice')\n",
    "axBtc.legend()\n",
    "ax1Btc.plot(arData['arNor'].iloc[-last7Day:]-arData['arNor'].rolling(nor_param).mean().iloc[-last7Day:], color='b', label='arNorMaDiff')\n",
    "ax1Btc.legend(loc='upper left')\n",
    "figBtc.savefig('arNorMaDiff')"
   ]
  },
  {
   "cell_type": "code",
   "execution_count": 26,
   "metadata": {},
   "outputs": [],
   "source": [
    "def cal_pctChange(data, lastDay, periodList=[7]):\n",
    "    pctChangeDict = {}\n",
    "    for period in periodList:\n",
    "        pctChangeDict[str(period)+'Day'] = round((data.loc[lastDay]/data.loc[lastDay-timedelta(hours=period*24)]-1)*100, 2)\n",
    "    pctChangeDf = pd.Series(pctChangeDict)\n",
    "    return pctChangeDf"
   ]
  },
  {
   "cell_type": "code",
   "execution_count": 27,
   "metadata": {},
   "outputs": [],
   "source": [
    "endTime = arData['arNor'].index[-1]\n",
    "arNorChangeDf = pd.DataFrame({\n",
    "    'arNorPctChange': cal_pctChange(arData['arNor'], endTime, [1, 3, 5, 8, 13]),\n",
    "})"
   ]
  },
  {
   "cell_type": "code",
   "execution_count": 28,
   "metadata": {},
   "outputs": [],
   "source": [
    "arNorChangeDfT = arNorChangeDf.T"
   ]
  },
  {
   "cell_type": "code",
   "execution_count": 29,
   "metadata": {},
   "outputs": [],
   "source": [
    "arNorChangeDfT['avg'] = arNorChangeDfT.mean(axis=1)"
   ]
  },
  {
   "cell_type": "code",
   "execution_count": 30,
   "metadata": {},
   "outputs": [],
   "source": [
    "arNorChangeDfT.to_excel('arNorChangeDfT.xlsx')"
   ]
  },
  {
   "cell_type": "code",
   "execution_count": 31,
   "metadata": {},
   "outputs": [],
   "source": [
    "# arNorChangeDfT"
   ]
  },
  {
   "cell_type": "code",
   "execution_count": null,
   "metadata": {},
   "outputs": [],
   "source": []
  }
 ],
 "metadata": {
  "kernelspec": {
   "display_name": "Python 3",
   "language": "python",
   "name": "python3"
  },
  "language_info": {
   "codemirror_mode": {
    "name": "ipython",
    "version": 3
   },
   "file_extension": ".py",
   "mimetype": "text/x-python",
   "name": "python",
   "nbconvert_exporter": "python",
   "pygments_lexer": "ipython3",
   "version": "3.7.4"
  }
 },
 "nbformat": 4,
 "nbformat_minor": 2
}
