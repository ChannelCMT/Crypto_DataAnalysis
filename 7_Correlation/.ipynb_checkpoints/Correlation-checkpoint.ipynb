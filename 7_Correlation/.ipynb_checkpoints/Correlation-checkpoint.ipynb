{
 "cells": [
  {
   "cell_type": "markdown",
   "metadata": {},
   "source": [
    "## 市场相关性分析"
   ]
  },
  {
   "cell_type": "code",
   "execution_count": 33,
   "metadata": {},
   "outputs": [],
   "source": [
    "import pymongo\n",
    "import pandas as pd\n",
    "import numpy as np\n",
    "from datetime import datetime, timedelta\n",
    "from sklearn.decomposition import PCA\n",
    "import matplotlib.pyplot as plt\n",
    "import warnings\n",
    "warnings.filterwarnings(\"ignore\")\n",
    "startTime = datetime(2022,6,1)\n",
    "endTime = datetime(2023,1,19, 10)"
   ]
  },
  {
   "cell_type": "code",
   "execution_count": 34,
   "metadata": {},
   "outputs": [],
   "source": [
    "# https://www.investing.com/indices/nasdaq-composite-historical-data"
   ]
  },
  {
   "cell_type": "code",
   "execution_count": 35,
   "metadata": {},
   "outputs": [],
   "source": [
    "symbolList = ['btc_usdt.spot:binance', 'eth_usdt.spot:binance', 'bnb_usdt.spot:binance', 'ltc_usdt.spot:binance','bch_usdt.spot:binance',\n",
    "             'doge_usdt.spot:binance', 'matic_usdt.spot:binance', 'sol_usdt.spot:binance','link_usdt.spot:binance','uni_usdt.spot:binance',\n",
    "             'gala_usdt.spot:binance', 'sand_usdt.spot:binance', 'axs_usdt.spot:binance']\n",
    "\n",
    "client = pymongo.MongoClient('172.16.20.81', 27017)"
   ]
  },
  {
   "cell_type": "code",
   "execution_count": 36,
   "metadata": {},
   "outputs": [],
   "source": [
    "def readDb(collection, start, end):\n",
    "    return pd.DataFrame(\n",
    "        list(collection.find({\"datetime\": {'$gt': start, '$lt': end}}))\n",
    "    )"
   ]
  },
  {
   "cell_type": "code",
   "execution_count": 37,
   "metadata": {},
   "outputs": [],
   "source": [
    "\n",
    "dbClient = client['Kline_1Min_Auto_Db_Plus']\n",
    "columnsName = ['open', 'high', 'low', 'close', 'volume','datetime']"
   ]
  },
  {
   "cell_type": "code",
   "execution_count": 38,
   "metadata": {},
   "outputs": [],
   "source": [
    "crytoDict = {\n",
    "                'btc':readDb(dbClient[symbolList[0]], start=startTime , end=endTime)[columnsName],\n",
    "                'eth':readDb(dbClient[symbolList[1]], start=startTime , end=endTime)[columnsName],\n",
    "                'bnb':readDb(dbClient[symbolList[2]], start=startTime , end=endTime)[columnsName],\n",
    "                'ltc':readDb(dbClient[symbolList[3]], start=startTime , end=endTime)[columnsName],\n",
    "                'bch':readDb(dbClient[symbolList[4]], start=startTime , end=endTime)[columnsName],\n",
    "                'doge':readDb(dbClient[symbolList[5]], start=startTime , end=endTime)[columnsName],\n",
    "                'matic':readDb(dbClient[symbolList[6]], start=startTime , end=endTime)[columnsName],\n",
    "                'sol':readDb(dbClient[symbolList[7]], start=startTime , end=endTime)[columnsName],\n",
    "                'link':readDb(dbClient[symbolList[8]], start=startTime , end=endTime)[columnsName],\n",
    "                'uni':readDb(dbClient[symbolList[9]], start=startTime , end=endTime)[columnsName],\n",
    "                'gala':readDb(dbClient[symbolList[10]], start=startTime , end=endTime)[columnsName],\n",
    "                'sand':readDb(dbClient[symbolList[11]], start=startTime , end=endTime)[columnsName],\n",
    "                'axs':readDb(dbClient[symbolList[12]], start=startTime , end=endTime)[columnsName]\n",
    "            }"
   ]
  },
  {
   "cell_type": "code",
   "execution_count": 39,
   "metadata": {},
   "outputs": [],
   "source": [
    "# crytoDict"
   ]
  },
  {
   "cell_type": "code",
   "execution_count": 40,
   "metadata": {},
   "outputs": [],
   "source": [
    "def resampleDf(data, freq='H'):\n",
    "#     df = data.drop('_id', axis=1)\n",
    "    dataDf = data.set_index('datetime')\n",
    "    dataHourDf = dataDf.resample(freq).agg({'open':'first', 'high': 'max', 'low': 'min', 'close': 'last', 'volume':'sum'})\n",
    "    dataResetDf = dataHourDf.reset_index()\n",
    "    return dataResetDf"
   ]
  },
  {
   "cell_type": "code",
   "execution_count": 41,
   "metadata": {},
   "outputs": [],
   "source": [
    "def addSymbol(dataDf, symbolName):\n",
    "    dataDf['symbol'] = symbolName\n",
    "    return dataDf"
   ]
  },
  {
   "cell_type": "code",
   "execution_count": 42,
   "metadata": {},
   "outputs": [],
   "source": [
    "def setIndex(dataDf):\n",
    "    dataIndex = dataDf.set_index(['datetime', 'symbol'])\n",
    "    return dataIndex"
   ]
  },
  {
   "cell_type": "code",
   "execution_count": 43,
   "metadata": {},
   "outputs": [],
   "source": [
    "multiCryptoDict = {}\n",
    "for key, df in crytoDict.items():\n",
    "    hourDf = resampleDf(df)\n",
    "    hourSymbolDf = addSymbol(hourDf, key)\n",
    "    hourIndexDf = setIndex(hourSymbolDf)\n",
    "    multiCryptoDict[key] = hourIndexDf"
   ]
  },
  {
   "cell_type": "code",
   "execution_count": 44,
   "metadata": {},
   "outputs": [],
   "source": [
    "multiDf = pd.concat(list(multiCryptoDict.values())).sort_index()"
   ]
  },
  {
   "cell_type": "code",
   "execution_count": 45,
   "metadata": {},
   "outputs": [
    {
     "data": {
      "text/html": [
       "<div>\n",
       "<style scoped>\n",
       "    .dataframe tbody tr th:only-of-type {\n",
       "        vertical-align: middle;\n",
       "    }\n",
       "\n",
       "    .dataframe tbody tr th {\n",
       "        vertical-align: top;\n",
       "    }\n",
       "\n",
       "    .dataframe thead th {\n",
       "        text-align: right;\n",
       "    }\n",
       "</style>\n",
       "<table border=\"1\" class=\"dataframe\">\n",
       "  <thead>\n",
       "    <tr style=\"text-align: right;\">\n",
       "      <th></th>\n",
       "      <th></th>\n",
       "      <th>open</th>\n",
       "      <th>high</th>\n",
       "      <th>low</th>\n",
       "      <th>close</th>\n",
       "      <th>volume</th>\n",
       "    </tr>\n",
       "    <tr>\n",
       "      <th>datetime</th>\n",
       "      <th>symbol</th>\n",
       "      <th></th>\n",
       "      <th></th>\n",
       "      <th></th>\n",
       "      <th></th>\n",
       "      <th></th>\n",
       "    </tr>\n",
       "  </thead>\n",
       "  <tbody>\n",
       "    <tr>\n",
       "      <th rowspan=\"5\" valign=\"top\">2022-06-01 00:00:00</th>\n",
       "      <th>axs</th>\n",
       "      <td>24.60000</td>\n",
       "      <td>24.80000</td>\n",
       "      <td>23.95000</td>\n",
       "      <td>24.11000</td>\n",
       "      <td>1.480696e+05</td>\n",
       "    </tr>\n",
       "    <tr>\n",
       "      <th>bch</th>\n",
       "      <td>198.00000</td>\n",
       "      <td>199.30000</td>\n",
       "      <td>195.60000</td>\n",
       "      <td>197.00000</td>\n",
       "      <td>5.910073e+03</td>\n",
       "    </tr>\n",
       "    <tr>\n",
       "      <th>bnb</th>\n",
       "      <td>321.90000</td>\n",
       "      <td>324.00000</td>\n",
       "      <td>319.70000</td>\n",
       "      <td>322.80000</td>\n",
       "      <td>4.378702e+04</td>\n",
       "    </tr>\n",
       "    <tr>\n",
       "      <th>btc</th>\n",
       "      <td>32084.53000</td>\n",
       "      <td>32399.00000</td>\n",
       "      <td>31839.67000</td>\n",
       "      <td>32158.03000</td>\n",
       "      <td>5.899671e+03</td>\n",
       "    </tr>\n",
       "    <tr>\n",
       "      <th>doge</th>\n",
       "      <td>0.08562</td>\n",
       "      <td>0.08623</td>\n",
       "      <td>0.08483</td>\n",
       "      <td>0.08574</td>\n",
       "      <td>8.556392e+07</td>\n",
       "    </tr>\n",
       "    <tr>\n",
       "      <th>...</th>\n",
       "      <th>...</th>\n",
       "      <td>...</td>\n",
       "      <td>...</td>\n",
       "      <td>...</td>\n",
       "      <td>...</td>\n",
       "      <td>...</td>\n",
       "    </tr>\n",
       "    <tr>\n",
       "      <th rowspan=\"5\" valign=\"top\">2023-01-15 23:00:00</th>\n",
       "      <th>ltc</th>\n",
       "      <td>88.30000</td>\n",
       "      <td>88.68000</td>\n",
       "      <td>87.92000</td>\n",
       "      <td>88.40000</td>\n",
       "      <td>5.310986e+04</td>\n",
       "    </tr>\n",
       "    <tr>\n",
       "      <th>matic</th>\n",
       "      <td>0.98380</td>\n",
       "      <td>0.99160</td>\n",
       "      <td>0.98060</td>\n",
       "      <td>0.99060</td>\n",
       "      <td>2.825873e+06</td>\n",
       "    </tr>\n",
       "    <tr>\n",
       "      <th>sand</th>\n",
       "      <td>0.67110</td>\n",
       "      <td>0.67650</td>\n",
       "      <td>0.65830</td>\n",
       "      <td>0.66340</td>\n",
       "      <td>3.918584e+06</td>\n",
       "    </tr>\n",
       "    <tr>\n",
       "      <th>sol</th>\n",
       "      <td>23.30000</td>\n",
       "      <td>23.88000</td>\n",
       "      <td>23.20000</td>\n",
       "      <td>23.69000</td>\n",
       "      <td>4.604807e+05</td>\n",
       "    </tr>\n",
       "    <tr>\n",
       "      <th>uni</th>\n",
       "      <td>6.61400</td>\n",
       "      <td>6.62700</td>\n",
       "      <td>6.57800</td>\n",
       "      <td>6.62600</td>\n",
       "      <td>7.156937e+04</td>\n",
       "    </tr>\n",
       "  </tbody>\n",
       "</table>\n",
       "<p>71448 rows × 5 columns</p>\n",
       "</div>"
      ],
      "text/plain": [
       "                                   open         high          low  \\\n",
       "datetime            symbol                                          \n",
       "2022-06-01 00:00:00 axs        24.60000     24.80000     23.95000   \n",
       "                    bch       198.00000    199.30000    195.60000   \n",
       "                    bnb       321.90000    324.00000    319.70000   \n",
       "                    btc     32084.53000  32399.00000  31839.67000   \n",
       "                    doge        0.08562      0.08623      0.08483   \n",
       "...                                 ...          ...          ...   \n",
       "2023-01-15 23:00:00 ltc        88.30000     88.68000     87.92000   \n",
       "                    matic       0.98380      0.99160      0.98060   \n",
       "                    sand        0.67110      0.67650      0.65830   \n",
       "                    sol        23.30000     23.88000     23.20000   \n",
       "                    uni         6.61400      6.62700      6.57800   \n",
       "\n",
       "                                  close        volume  \n",
       "datetime            symbol                             \n",
       "2022-06-01 00:00:00 axs        24.11000  1.480696e+05  \n",
       "                    bch       197.00000  5.910073e+03  \n",
       "                    bnb       322.80000  4.378702e+04  \n",
       "                    btc     32158.03000  5.899671e+03  \n",
       "                    doge        0.08574  8.556392e+07  \n",
       "...                                 ...           ...  \n",
       "2023-01-15 23:00:00 ltc        88.40000  5.310986e+04  \n",
       "                    matic       0.99060  2.825873e+06  \n",
       "                    sand        0.66340  3.918584e+06  \n",
       "                    sol        23.69000  4.604807e+05  \n",
       "                    uni         6.62600  7.156937e+04  \n",
       "\n",
       "[71448 rows x 5 columns]"
      ]
     },
     "execution_count": 45,
     "metadata": {},
     "output_type": "execute_result"
    }
   ],
   "source": [
    "multiDf"
   ]
  },
  {
   "cell_type": "code",
   "execution_count": 46,
   "metadata": {},
   "outputs": [],
   "source": [
    "closePrice = multiDf['close'].unstack()"
   ]
  },
  {
   "cell_type": "code",
   "execution_count": 47,
   "metadata": {},
   "outputs": [],
   "source": [
    "logPriceDf = np.log(closePrice)"
   ]
  },
  {
   "cell_type": "code",
   "execution_count": 48,
   "metadata": {},
   "outputs": [
    {
     "data": {
      "text/html": [
       "<div>\n",
       "<style scoped>\n",
       "    .dataframe tbody tr th:only-of-type {\n",
       "        vertical-align: middle;\n",
       "    }\n",
       "\n",
       "    .dataframe tbody tr th {\n",
       "        vertical-align: top;\n",
       "    }\n",
       "\n",
       "    .dataframe thead th {\n",
       "        text-align: right;\n",
       "    }\n",
       "</style>\n",
       "<table border=\"1\" class=\"dataframe\">\n",
       "  <thead>\n",
       "    <tr style=\"text-align: right;\">\n",
       "      <th>symbol</th>\n",
       "      <th>axs</th>\n",
       "      <th>bch</th>\n",
       "      <th>bnb</th>\n",
       "      <th>btc</th>\n",
       "      <th>doge</th>\n",
       "      <th>eth</th>\n",
       "      <th>gala</th>\n",
       "      <th>link</th>\n",
       "      <th>ltc</th>\n",
       "      <th>matic</th>\n",
       "      <th>sand</th>\n",
       "      <th>sol</th>\n",
       "      <th>uni</th>\n",
       "    </tr>\n",
       "    <tr>\n",
       "      <th>datetime</th>\n",
       "      <th></th>\n",
       "      <th></th>\n",
       "      <th></th>\n",
       "      <th></th>\n",
       "      <th></th>\n",
       "      <th></th>\n",
       "      <th></th>\n",
       "      <th></th>\n",
       "      <th></th>\n",
       "      <th></th>\n",
       "      <th></th>\n",
       "      <th></th>\n",
       "      <th></th>\n",
       "    </tr>\n",
       "  </thead>\n",
       "  <tbody>\n",
       "    <tr>\n",
       "      <th>2022-06-01 00:00:00</th>\n",
       "      <td>3.182627</td>\n",
       "      <td>5.283204</td>\n",
       "      <td>5.777033</td>\n",
       "      <td>10.378417</td>\n",
       "      <td>-2.456436</td>\n",
       "      <td>7.587387</td>\n",
       "      <td>-2.486027</td>\n",
       "      <td>2.014903</td>\n",
       "      <td>4.229749</td>\n",
       "      <td>-0.403467</td>\n",
       "      <td>0.359072</td>\n",
       "      <td>3.834061</td>\n",
       "      <td>1.750937</td>\n",
       "    </tr>\n",
       "    <tr>\n",
       "      <th>2022-06-01 01:00:00</th>\n",
       "      <td>3.179303</td>\n",
       "      <td>5.284725</td>\n",
       "      <td>5.778271</td>\n",
       "      <td>10.377299</td>\n",
       "      <td>-2.454688</td>\n",
       "      <td>7.584468</td>\n",
       "      <td>-2.486027</td>\n",
       "      <td>2.010895</td>\n",
       "      <td>4.231204</td>\n",
       "      <td>-0.400478</td>\n",
       "      <td>0.363879</td>\n",
       "      <td>3.832763</td>\n",
       "      <td>1.750937</td>\n",
       "    </tr>\n",
       "    <tr>\n",
       "      <th>2022-06-01 02:00:00</th>\n",
       "      <td>3.134189</td>\n",
       "      <td>5.278625</td>\n",
       "      <td>5.767070</td>\n",
       "      <td>10.363533</td>\n",
       "      <td>-2.456203</td>\n",
       "      <td>7.567625</td>\n",
       "      <td>-2.512689</td>\n",
       "      <td>1.998774</td>\n",
       "      <td>4.212128</td>\n",
       "      <td>-0.420071</td>\n",
       "      <td>0.353680</td>\n",
       "      <td>3.816833</td>\n",
       "      <td>1.728109</td>\n",
       "    </tr>\n",
       "    <tr>\n",
       "      <th>2022-06-01 03:00:00</th>\n",
       "      <td>3.126761</td>\n",
       "      <td>5.285739</td>\n",
       "      <td>5.764564</td>\n",
       "      <td>10.361726</td>\n",
       "      <td>-2.453059</td>\n",
       "      <td>7.567454</td>\n",
       "      <td>-2.504334</td>\n",
       "      <td>1.998774</td>\n",
       "      <td>4.218036</td>\n",
       "      <td>-0.420071</td>\n",
       "      <td>0.355434</td>\n",
       "      <td>3.818371</td>\n",
       "      <td>1.726332</td>\n",
       "    </tr>\n",
       "    <tr>\n",
       "      <th>2022-06-01 04:00:00</th>\n",
       "      <td>3.140698</td>\n",
       "      <td>5.303802</td>\n",
       "      <td>5.769258</td>\n",
       "      <td>10.367651</td>\n",
       "      <td>-2.447380</td>\n",
       "      <td>7.577460</td>\n",
       "      <td>-2.491931</td>\n",
       "      <td>2.018895</td>\n",
       "      <td>4.226834</td>\n",
       "      <td>-0.410980</td>\n",
       "      <td>0.364018</td>\n",
       "      <td>3.825157</td>\n",
       "      <td>1.738710</td>\n",
       "    </tr>\n",
       "    <tr>\n",
       "      <th>...</th>\n",
       "      <td>...</td>\n",
       "      <td>...</td>\n",
       "      <td>...</td>\n",
       "      <td>...</td>\n",
       "      <td>...</td>\n",
       "      <td>...</td>\n",
       "      <td>...</td>\n",
       "      <td>...</td>\n",
       "      <td>...</td>\n",
       "      <td>...</td>\n",
       "      <td>...</td>\n",
       "      <td>...</td>\n",
       "      <td>...</td>\n",
       "    </tr>\n",
       "    <tr>\n",
       "      <th>2023-01-15 19:00:00</th>\n",
       "      <td>2.193886</td>\n",
       "      <td>4.817859</td>\n",
       "      <td>5.696758</td>\n",
       "      <td>9.938962</td>\n",
       "      <td>-2.472306</td>\n",
       "      <td>7.335210</td>\n",
       "      <td>-3.048922</td>\n",
       "      <td>1.902108</td>\n",
       "      <td>4.474378</td>\n",
       "      <td>-0.030150</td>\n",
       "      <td>-0.442388</td>\n",
       "      <td>3.131137</td>\n",
       "      <td>1.869954</td>\n",
       "    </tr>\n",
       "    <tr>\n",
       "      <th>2023-01-15 20:00:00</th>\n",
       "      <td>2.192770</td>\n",
       "      <td>4.818667</td>\n",
       "      <td>5.696086</td>\n",
       "      <td>9.937601</td>\n",
       "      <td>-2.472543</td>\n",
       "      <td>7.334297</td>\n",
       "      <td>-3.052726</td>\n",
       "      <td>1.899417</td>\n",
       "      <td>4.473808</td>\n",
       "      <td>-0.031800</td>\n",
       "      <td>-0.446600</td>\n",
       "      <td>3.132882</td>\n",
       "      <td>1.870263</td>\n",
       "    </tr>\n",
       "    <tr>\n",
       "      <th>2023-01-15 21:00:00</th>\n",
       "      <td>2.195000</td>\n",
       "      <td>4.819475</td>\n",
       "      <td>5.698100</td>\n",
       "      <td>9.938169</td>\n",
       "      <td>-2.469821</td>\n",
       "      <td>7.334192</td>\n",
       "      <td>-3.050822</td>\n",
       "      <td>1.904939</td>\n",
       "      <td>4.473123</td>\n",
       "      <td>-0.027166</td>\n",
       "      <td>-0.439746</td>\n",
       "      <td>3.145445</td>\n",
       "      <td>1.872571</td>\n",
       "    </tr>\n",
       "    <tr>\n",
       "      <th>2023-01-15 22:00:00</th>\n",
       "      <td>2.206074</td>\n",
       "      <td>4.831509</td>\n",
       "      <td>5.706446</td>\n",
       "      <td>9.942016</td>\n",
       "      <td>-2.462519</td>\n",
       "      <td>7.339596</td>\n",
       "      <td>-3.029703</td>\n",
       "      <td>1.914272</td>\n",
       "      <td>4.480740</td>\n",
       "      <td>-0.016333</td>\n",
       "      <td>-0.398688</td>\n",
       "      <td>3.148453</td>\n",
       "      <td>1.889189</td>\n",
       "    </tr>\n",
       "    <tr>\n",
       "      <th>2023-01-15 23:00:00</th>\n",
       "      <td>2.209373</td>\n",
       "      <td>4.840242</td>\n",
       "      <td>5.712742</td>\n",
       "      <td>9.947901</td>\n",
       "      <td>-2.455154</td>\n",
       "      <td>7.350099</td>\n",
       "      <td>-3.032189</td>\n",
       "      <td>1.929636</td>\n",
       "      <td>4.481872</td>\n",
       "      <td>-0.009444</td>\n",
       "      <td>-0.410377</td>\n",
       "      <td>3.165053</td>\n",
       "      <td>1.891001</td>\n",
       "    </tr>\n",
       "  </tbody>\n",
       "</table>\n",
       "<p>5496 rows × 13 columns</p>\n",
       "</div>"
      ],
      "text/plain": [
       "symbol                    axs       bch       bnb        btc      doge  \\\n",
       "datetime                                                                 \n",
       "2022-06-01 00:00:00  3.182627  5.283204  5.777033  10.378417 -2.456436   \n",
       "2022-06-01 01:00:00  3.179303  5.284725  5.778271  10.377299 -2.454688   \n",
       "2022-06-01 02:00:00  3.134189  5.278625  5.767070  10.363533 -2.456203   \n",
       "2022-06-01 03:00:00  3.126761  5.285739  5.764564  10.361726 -2.453059   \n",
       "2022-06-01 04:00:00  3.140698  5.303802  5.769258  10.367651 -2.447380   \n",
       "...                       ...       ...       ...        ...       ...   \n",
       "2023-01-15 19:00:00  2.193886  4.817859  5.696758   9.938962 -2.472306   \n",
       "2023-01-15 20:00:00  2.192770  4.818667  5.696086   9.937601 -2.472543   \n",
       "2023-01-15 21:00:00  2.195000  4.819475  5.698100   9.938169 -2.469821   \n",
       "2023-01-15 22:00:00  2.206074  4.831509  5.706446   9.942016 -2.462519   \n",
       "2023-01-15 23:00:00  2.209373  4.840242  5.712742   9.947901 -2.455154   \n",
       "\n",
       "symbol                    eth      gala      link       ltc     matic  \\\n",
       "datetime                                                                \n",
       "2022-06-01 00:00:00  7.587387 -2.486027  2.014903  4.229749 -0.403467   \n",
       "2022-06-01 01:00:00  7.584468 -2.486027  2.010895  4.231204 -0.400478   \n",
       "2022-06-01 02:00:00  7.567625 -2.512689  1.998774  4.212128 -0.420071   \n",
       "2022-06-01 03:00:00  7.567454 -2.504334  1.998774  4.218036 -0.420071   \n",
       "2022-06-01 04:00:00  7.577460 -2.491931  2.018895  4.226834 -0.410980   \n",
       "...                       ...       ...       ...       ...       ...   \n",
       "2023-01-15 19:00:00  7.335210 -3.048922  1.902108  4.474378 -0.030150   \n",
       "2023-01-15 20:00:00  7.334297 -3.052726  1.899417  4.473808 -0.031800   \n",
       "2023-01-15 21:00:00  7.334192 -3.050822  1.904939  4.473123 -0.027166   \n",
       "2023-01-15 22:00:00  7.339596 -3.029703  1.914272  4.480740 -0.016333   \n",
       "2023-01-15 23:00:00  7.350099 -3.032189  1.929636  4.481872 -0.009444   \n",
       "\n",
       "symbol                   sand       sol       uni  \n",
       "datetime                                           \n",
       "2022-06-01 00:00:00  0.359072  3.834061  1.750937  \n",
       "2022-06-01 01:00:00  0.363879  3.832763  1.750937  \n",
       "2022-06-01 02:00:00  0.353680  3.816833  1.728109  \n",
       "2022-06-01 03:00:00  0.355434  3.818371  1.726332  \n",
       "2022-06-01 04:00:00  0.364018  3.825157  1.738710  \n",
       "...                       ...       ...       ...  \n",
       "2023-01-15 19:00:00 -0.442388  3.131137  1.869954  \n",
       "2023-01-15 20:00:00 -0.446600  3.132882  1.870263  \n",
       "2023-01-15 21:00:00 -0.439746  3.145445  1.872571  \n",
       "2023-01-15 22:00:00 -0.398688  3.148453  1.889189  \n",
       "2023-01-15 23:00:00 -0.410377  3.165053  1.891001  \n",
       "\n",
       "[5496 rows x 13 columns]"
      ]
     },
     "execution_count": 48,
     "metadata": {},
     "output_type": "execute_result"
    }
   ],
   "source": [
    "logPriceDf"
   ]
  },
  {
   "cell_type": "code",
   "execution_count": 49,
   "metadata": {},
   "outputs": [],
   "source": [
    "import seaborn as sns\n",
    "\n",
    "def corr_chart(logPriceDf):\n",
    "    corrDf = logPriceDf.corr()\n",
    "    mask = np.zeros_like(corrDf)\n",
    "    mask[np.triu_indices_from(mask)] = True\n",
    "    for i in range(len(mask)):\n",
    "        mask[i,i] = 0\n",
    "    plt.figure(figsize=(15,15))\n",
    "    with sns.axes_style(\"white\"):\n",
    "        ax = sns.heatmap(corrDf, mask=mask,square=True,annot=True,cmap=\"YlGnBu\")\n",
    "    btc_avg_corr = ((corrDf.sum()-1)/13)['btc']\n",
    "    btc_avg_corr = round(btc_avg_corr,2)\n",
    "    plt.text(-1,-1,f'The [{logPriceDf.index[0]}] to [{logPriceDf.index[-1]}]\\'s Return Array Average Correlation')\n",
    "    plt.text(-1,-0.6,f'between BTC and others is : {btc_avg_corr}')\n",
    "    plt.savefig('corr')\n",
    "    plt.show()"
   ]
  },
  {
   "cell_type": "code",
   "execution_count": 50,
   "metadata": {},
   "outputs": [],
   "source": [
    "periodParam = 168"
   ]
  },
  {
   "cell_type": "code",
   "execution_count": 51,
   "metadata": {},
   "outputs": [
    {
     "data": {
      "image/png": "[encoded data removed]",
      "text/plain": [
       "<Figure size 1080x1080 with 2 Axes>"
      ]
     },
     "metadata": {
      "needs_background": "light"
     },
     "output_type": "display_data"
    }
   ],
   "source": [
    "corr_chart(logPriceDf.iloc[-periodParam:])"
   ]
  },
  {
   "cell_type": "code",
   "execution_count": 52,
   "metadata": {},
   "outputs": [],
   "source": [
    "def absorption_ratio(logReturn):\n",
    "    '''\n",
    "    Calculate absorption ratio via PCA.\n",
    "    Arguments:\n",
    "    explained_variance -- 1D np.array of explained variance by each pricincipal component, in descending order\n",
    "    \n",
    "    n_components -- an integer, a number of principal components to compute absorption ratio\n",
    "    \n",
    "    Return:\n",
    "    ar -- absorption ratio\n",
    "    '''\n",
    "    num = len(logReturn[0])\n",
    "    pca = PCA(n_components=num)\n",
    "    pca.fit(logReturn)\n",
    "    explained_variance1 = pca.explained_variance_ratio_[0]\n",
    "    explained_variance_sum = np.sum(pca.explained_variance_ratio_)\n",
    "    ar = explained_variance1/ explained_variance_sum\n",
    "    return ar"
   ]
  },
  {
   "cell_type": "code",
   "execution_count": 53,
   "metadata": {},
   "outputs": [],
   "source": [
    "closePrice = multiDf.close.unstack()"
   ]
  },
  {
   "cell_type": "code",
   "execution_count": 54,
   "metadata": {},
   "outputs": [],
   "source": [
    "ar_param = 168\n",
    "nor_param = ar_param*8\n",
    "pcaDict = {}\n",
    "for i in range(len(logPriceDf)-ar_param):\n",
    "    pcaDict[logPriceDf.iloc[i+ar_param].name] = absorption_ratio(np.array(logPriceDf.iloc[i:i+ar_param]))"
   ]
  },
  {
   "cell_type": "code",
   "execution_count": 55,
   "metadata": {},
   "outputs": [],
   "source": [
    "arData = pd.Series(pcaDict).to_frame(name='ar')"
   ]
  },
  {
   "cell_type": "code",
   "execution_count": 56,
   "metadata": {},
   "outputs": [],
   "source": [
    "arData['arNor'] = (arData['ar'].rolling(ar_param).mean()-arData['ar'].rolling(nor_param).mean())/arData['ar'].rolling(nor_param).std()"
   ]
  },
  {
   "cell_type": "code",
   "execution_count": 64,
   "metadata": {},
   "outputs": [
    {
     "data": {
      "image/png": "[encoded data removed]",
      "text/plain": [
       "<Figure size 1080x720 with 2 Axes>"
      ]
     },
     "metadata": {
      "needs_background": "light"
     },
     "output_type": "display_data"
    }
   ],
   "source": [
    "last7Day = 7*24\n",
    "figBtc, (axBtc, ax1Btc) = plt.subplots(2,1,sharex=True, figsize=(15,10))\n",
    "axBtc.grid(True)\n",
    "axBtc.plot(closePrice['btc'].iloc[-last7Day:], label='btcPrice')\n",
    "axBtc.legend()\n",
    "ax1Btc.plot(arData['arNor'].iloc[-last7Day:]-arData['arNor'].rolling(nor_param).mean().iloc[-last7Day:], color='b', label='arNorMaDiff')\n",
    "ax1Btc.legend(loc='upper left')\n",
    "figBtc.savefig('arNorMaDiff')"
   ]
  },
  {
   "cell_type": "code",
   "execution_count": 58,
   "metadata": {},
   "outputs": [],
   "source": [
    "def cal_pctChange(data, lastDay, periodList=[7]):\n",
    "    pctChangeDict = {}\n",
    "    for period in periodList:\n",
    "        pctChangeDict[str(period)+'Day'] = round((data.loc[lastDay]/data.loc[lastDay-timedelta(hours=period*24)]-1)*100, 2)\n",
    "    pctChangeDf = pd.Series(pctChangeDict)\n",
    "    return pctChangeDf"
   ]
  },
  {
   "cell_type": "code",
   "execution_count": 59,
   "metadata": {},
   "outputs": [],
   "source": [
    "endTime = arData['arNor'].index[-1]\n",
    "arNorChangeDf = pd.DataFrame({\n",
    "    'arNorPctChange': cal_pctChange(arData['arNor'], endTime, [1, 3, 5, 8, 13]),\n",
    "})"
   ]
  },
  {
   "cell_type": "code",
   "execution_count": 62,
   "metadata": {},
   "outputs": [],
   "source": [
    "arNorChangeDfT = arNorChangeDf.T"
   ]
  },
  {
   "cell_type": "code",
   "execution_count": 66,
   "metadata": {},
   "outputs": [],
   "source": [
    "arNorChangeDfT['avg'] = arNorChangeDfT.mean(axis=1)"
   ]
  },
  {
   "cell_type": "code",
   "execution_count": 69,
   "metadata": {},
   "outputs": [],
   "source": [
    "arNorChangeDfT.to_excel('arNorChangeDfT.xlsx')"
   ]
  },
  {
   "cell_type": "code",
   "execution_count": 68,
   "metadata": {},
   "outputs": [],
   "source": [
    "# arNorChangeDfT"
   ]
  },
  {
   "cell_type": "code",
   "execution_count": null,
   "metadata": {},
   "outputs": [],
   "source": []
  }
 ],
 "metadata": {
  "kernelspec": {
   "display_name": "Python 3",
   "language": "python",
   "name": "python3"
  },
  "language_info": {
   "codemirror_mode": {
    "name": "ipython",
    "version": 3
   },
   "file_extension": ".py",
   "mimetype": "text/x-python",
   "name": "python",
   "nbconvert_exporter": "python",
   "pygments_lexer": "ipython3",
   "version": "3.7.4"
  }
 },
 "nbformat": 4,
 "nbformat_minor": 2
}
