{
 "cells": [
  {
   "cell_type": "code",
   "execution_count": 2,
   "metadata": {},
   "outputs": [],
   "source": [
    "from docx import Document\n",
    "from docx.shared import Inches\n",
    "import pandas as pd\n",
    "from docx.enum.style import WD_STYLE_TYPE"
   ]
  },
  {
   "cell_type": "code",
   "execution_count": 9,
   "metadata": {},
   "outputs": [],
   "source": [
    "document = Document()\n",
    "styles = document.styles\n",
    "# table_styles = [s for s in styles if s.type == WD_STYLE_TYPE.TABLE]\n",
    "# for style in table_styles:\n",
    "#     print(style.name)\n",
    "document.add_heading('Weekly Report of DcBot', 0)\n",
    "\n",
    "# p = document.add_paragraph('A plain paragraph having some ')\n",
    "# p.add_run('bold').bold = True\n",
    "# p.add_run(' and some ')\n",
    "# p.add_run('italic.').italic = True\n",
    "def creatTableFromDataFrame(df, table):\n",
    "    for j in range(df.shape[-1]):\n",
    "        table.cell(0,j).text = df.columns[j]\n",
    "        if j == 0:\n",
    "            table.cell(0,j).width = Inches(4)\n",
    "        else:\n",
    "            table.cell(0,j).width = Inches(1)\n",
    "    # add the rest of the data frame\n",
    "    for i in range(df.shape[0]):\n",
    "        for j in range(df.shape[-1]):\n",
    "            table.cell(i+1,j).text = str(df.values[i,j])\n",
    "\n",
    "pVolatility = document.add_paragraph()\n",
    "pVolatility.add_run('5. 市场宽度指标_整体市场环境').bold = True\n",
    "document.add_paragraph('宽度指标帮助交易员和投资者衡量市场的整体观点。')\n",
    "document.add_picture('best5Breadth.png', width=Inches(6.2), height=Inches(7))\n",
    "document.add_paragraph('宽度指标主要用于两个目的:第一分析市场情绪，这些指标可以帮助我们确定市场当前的趋势是否会逆转。第二分析市场趋势强度，宽度指标也可以帮助我们确定看涨或看跌趋势的强度。。')\n",
    "document.add_paragraph('上方图按顺序是：')\n",
    "document.add_paragraph('1. BTC本身的价格位置变化，反映BTC的价格位置。')\n",
    "document.add_paragraph('2. 均线上方的数量比例 (Ma Trend)，反映整体市场趋势方向。')\n",
    "document.add_paragraph('3. price/btcPrice 的动量(Relative Strength），反映整体市场的强弱。')\n",
    "document.add_paragraph('4. 价格在上方或下方的比例差(Periodic High and Low)，反映整体价格位置。')\n",
    "document.add_paragraph('5. 上涨数量的比例(Advance Pct)，反映整体市场参与度。')\n",
    "document.add_paragraph('5. 创新高和新低的比例差(Net New High and Net New Lows)，反映整体市场热度。')\n",
    "\n",
    "breadthDiffChangeExcel = pd.read_excel('breadthDiffChange.xlsx')\n",
    "breadthDiffChangeDf = breadthDiffChangeExcel.rename(columns={'Unnamed: 0': 'periodDiffChange'})\n",
    "document.add_paragraph('表格显示五大最佳的宽度指标在不同天数的变化率。')\n",
    "tableBreadth = document.add_table(breadthDiffChangeDf.shape[0]+1,breadthDiffChangeDf.shape[1],style = 'Light Grid Accent 1')\n",
    "creatTableFromDataFrame(round(breadthDiffChangeDf, 2), tableBreadth)\n",
    "\n",
    "# document.add_paragraph('Intense quote', style='Intense Quote')\n",
    "# document.add_paragraph(\n",
    "#     'first item in unordered list', style='List Bullet'\n",
    "# )\n",
    "# document.add_paragraph(\n",
    "#     'first item in ordered list', style='List Number'\n",
    "# )\n",
    "\n",
    "document.add_page_break()\n",
    "\n",
    "document.save('breadth.docx')"
   ]
  },
  {
   "cell_type": "code",
   "execution_count": null,
   "metadata": {},
   "outputs": [],
   "source": []
  },
  {
   "cell_type": "code",
   "execution_count": null,
   "metadata": {},
   "outputs": [],
   "source": []
  }
 ],
 "metadata": {
  "kernelspec": {
   "display_name": "Python 3",
   "language": "python",
   "name": "python3"
  },
  "language_info": {
   "codemirror_mode": {
    "name": "ipython",
    "version": 3
   },
   "file_extension": ".py",
   "mimetype": "text/x-python",
   "name": "python",
   "nbconvert_exporter": "python",
   "pygments_lexer": "ipython3",
   "version": "3.7.4"
  }
 },
 "nbformat": 4,
 "nbformat_minor": 2
}
