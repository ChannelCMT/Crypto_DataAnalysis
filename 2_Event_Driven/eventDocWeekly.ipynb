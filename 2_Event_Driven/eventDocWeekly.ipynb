{
 "cells": [
  {
   "cell_type": "code",
   "execution_count": 2,
   "metadata": {},
   "outputs": [],
   "source": [
    "from docx import Document\n",
    "from docx.shared import Inches\n",
    "import pandas as pd\n",
    "from docx.enum.style import WD_STYLE_TYPE"
   ]
  },
  {
   "cell_type": "code",
   "execution_count": 24,
   "metadata": {},
   "outputs": [],
   "source": [
    "document = Document()\n",
    "styles = document.styles\n",
    "document.add_heading('Weekly Report of DcBot', 0)\n",
    "\n",
    "# p = document.add_paragraph('A plain paragraph having some ')\n",
    "# p.add_run('bold').bold = True\n",
    "# p.add_run(' and some ')\n",
    "# p.add_run('italic.').italic = True\n",
    "def creatTableFromDataFrame(df, table):\n",
    "    for j in range(df.shape[-1]):\n",
    "        table.cell(0,j).text = df.columns[j]\n",
    "        if j == 0:\n",
    "            table.cell(0,j).width = Inches(4)\n",
    "        else:\n",
    "            table.cell(0,j).width = Inches(1)\n",
    "    # add the rest of the data frame\n",
    "    for i in range(df.shape[0]):\n",
    "        for j in range(df.shape[-1]):\n",
    "            table.cell(i+1,j).text = str(df.values[i,j])\n",
    "            \n",
    "def creatTableFromDataFrameSameSize(df, table):\n",
    "    for j in range(df.shape[-1]):\n",
    "        table.cell(0,j).text = df.columns[j]\n",
    "    # add the rest of the data frame\n",
    "    for i in range(df.shape[0]):\n",
    "        for j in range(df.shape[-1]):\n",
    "            table.cell(i+1,j).text = str(df.values[i,j])\n",
    "            \n",
    "weeklyVolatility = document.add_paragraph()\n",
    "weeklyVolatility.add_run('2023美国数据公布的时间（瞬间波动率）').bold = True\n",
    "document.add_paragraph('事件驱动策略，是一种利用市场的非有效性，通过挖掘市场信息决定采取对相关投资标的物多头或空头态度的一种投资策略。另外FOMC公布时，市场波动极大，风险较高，策略需要提前设置防范措施。')\n",
    "eventTimeExcel = pd.read_excel('eventTime.xlsx')\n",
    "eventTimeDf = eventTimeExcel.drop(columns = 'Unnamed: 0')\n",
    "eventTimeTable = document.add_table(eventTimeDf.shape[0]+1,eventTimeDf.shape[1],style = 'Light Grid Accent 1')\n",
    "creatTableFromDataFrameSameSize(eventTimeDf, eventTimeTable)\n",
    "document.add_picture('eventDrivenPerf.png', width=Inches(6.2), height=Inches(2.5))\n",
    "document.add_paragraph('本月的非农数据与CPI公布后都有较大幅的上涨，事件驱动策略有较好的表现。')\n",
    "\n",
    "monthlyReturnExcel = pd.read_excel('eventMonthlyReturn.xlsx')\n",
    "monthlyReturnExcel = monthlyReturnExcel.rename(columns={'Unnamed: 0': 'Last 30 days'})\n",
    "# print(monthlyReturnExcel)\n",
    "monthlyReturnTable = document.add_table(monthlyReturnExcel.shape[0]+1,monthlyReturnExcel.shape[1],style = 'Light Grid Accent 1')\n",
    "creatTableFromDataFrame(monthlyReturnExcel, monthlyReturnTable)\n",
    "\n",
    "# # document.add_paragraph('Intense quote', style='Intense Quote')\n",
    "# # document.add_paragraph(\n",
    "# #     'first item in unordered list', style='List Bullet'\n",
    "# # )\n",
    "# # document.add_paragraph(\n",
    "# #     'first item in ordered list', style='List Number'\n",
    "# # )\n",
    "\n",
    "document.add_page_break()\n",
    "\n",
    "document.save('evenbtDriven.docx')"
   ]
  },
  {
   "cell_type": "code",
   "execution_count": null,
   "metadata": {},
   "outputs": [],
   "source": []
  }
 ],
 "metadata": {
  "kernelspec": {
   "display_name": "Python 3",
   "language": "python",
   "name": "python3"
  },
  "language_info": {
   "codemirror_mode": {
    "name": "ipython",
    "version": 3
   },
   "file_extension": ".py",
   "mimetype": "text/x-python",
   "name": "python",
   "nbconvert_exporter": "python",
   "pygments_lexer": "ipython3",
   "version": "3.7.4"
  }
 },
 "nbformat": 4,
 "nbformat_minor": 2
}
