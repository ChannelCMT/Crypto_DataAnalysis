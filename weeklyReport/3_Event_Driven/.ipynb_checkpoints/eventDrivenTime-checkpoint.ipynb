{
 "cells": [
  {
   "cell_type": "markdown",
   "metadata": {},
   "source": [
    "# Event Time"
   ]
  },
  {
   "cell_type": "code",
   "execution_count": 1,
   "metadata": {},
   "outputs": [],
   "source": [
    "import pandas as pd\n",
    "import matplotlib.pyplot as plt\n",
    "from datetime import datetime"
   ]
  },
  {
   "cell_type": "code",
   "execution_count": 2,
   "metadata": {},
   "outputs": [],
   "source": [
    "NFP = {\"Non Farm Payrolls\":[\n",
    "        \"2023-01-06 21:30:00\",\n",
    "        \"2023-02-03 21:30:00\",\n",
    "        \"2023-03-03 21:30:00\",\n",
    "        \"2023-04-07 20:30:00\",\n",
    "        \"2023-05-08 20:30:00\",\n",
    "        \"2023-06-02 20:30:00\",\n",
    "        \"2023-07-07 20:30:00\",\n",
    "        \"2023-08-04 20:30:00\",\n",
    "        \"2023-09-01 20:30:00\",\n",
    "        \"2023-10-06 20:30:00\",\n",
    "        \"2023-11-03 20:30:00\",\n",
    "        \"2023-12-01 21:30:00\"]}\n",
    "\n",
    "CPI = {\"The Cumsumer Price Index\":[\n",
    "        \"2023-01-12 21:30:00\",\n",
    "        \"2023-02-14 21:30:00\",\n",
    "        \"2023-03-14 20:30:00\",\n",
    "        \"2023-04-12 20:30:00\",\n",
    "        \"2023-05-10 20:30:00\",\n",
    "        \"2023-06-13 20:30:00\",\n",
    "        \"2023-07-12 20:30:00\",\n",
    "        \"2023-08-10 20:30:00\",\n",
    "        \"2023-09-13 20:30:00\",\n",
    "        \"2023-10-12 20:30:00\",\n",
    "        \"2023-11-14 21:30:00\",\n",
    "        \"2023-12-12 21:30:00\"]}\n",
    "\n",
    "FOMC = {'FOMC': [\"2023-02-03 02:00:00\",\n",
    "\"2023-03-17 02:00:00\",\n",
    "\"2023-05-05 02:00:00\",\n",
    "\"2023-06-16 02:00:00\",\n",
    "\"2023-07-28 02:00:00\",\n",
    "\"2023-09-22 02:00:00\",\n",
    "\"2023-11-03 02:00:00\",\n",
    "\"2023-12-15 02:00:00\"]}"
   ]
  },
  {
   "cell_type": "code",
   "execution_count": 3,
   "metadata": {},
   "outputs": [],
   "source": [
    "EventDf = pd.concat([pd.DataFrame(NFP), pd.DataFrame(CPI), pd.DataFrame(FOMC)], axis=1)"
   ]
  },
  {
   "cell_type": "code",
   "execution_count": 4,
   "metadata": {},
   "outputs": [],
   "source": [
    "EventDf.to_excel('eventTime.xlsx')"
   ]
  },
  {
   "cell_type": "code",
   "execution_count": 5,
   "metadata": {},
   "outputs": [],
   "source": [
    "eventBtcDf = pd.read_csv('btcEvent.csv')\n",
    "eventEthDf = pd.read_csv('ethEvent.csv')"
   ]
  },
  {
   "cell_type": "code",
   "execution_count": 7,
   "metadata": {},
   "outputs": [
    {
     "data": {
      "text/html": [
       "<div>\n",
       "<style scoped>\n",
       "    .dataframe tbody tr th:only-of-type {\n",
       "        vertical-align: middle;\n",
       "    }\n",
       "\n",
       "    .dataframe tbody tr th {\n",
       "        vertical-align: top;\n",
       "    }\n",
       "\n",
       "    .dataframe thead th {\n",
       "        text-align: right;\n",
       "    }\n",
       "</style>\n",
       "<table border=\"1\" class=\"dataframe\">\n",
       "  <thead>\n",
       "    <tr style=\"text-align: right;\">\n",
       "      <th></th>\n",
       "      <th>date</th>\n",
       "      <th>netPnl</th>\n",
       "      <th>slippage</th>\n",
       "      <th>commission</th>\n",
       "      <th>turnover</th>\n",
       "      <th>tradeCount</th>\n",
       "      <th>tradingPnl</th>\n",
       "      <th>positionPnl</th>\n",
       "      <th>totalPnl</th>\n",
       "      <th>balance</th>\n",
       "      <th>return</th>\n",
       "      <th>retWithoutFee</th>\n",
       "      <th>highlevel</th>\n",
       "      <th>drawdown</th>\n",
       "      <th>ddPercent</th>\n",
       "    </tr>\n",
       "  </thead>\n",
       "  <tbody>\n",
       "    <tr>\n",
       "      <th>1689</th>\n",
       "      <td>2023-01-15</td>\n",
       "      <td>0.0</td>\n",
       "      <td>0</td>\n",
       "      <td>0.0</td>\n",
       "      <td>0.0</td>\n",
       "      <td>0</td>\n",
       "      <td>0.0</td>\n",
       "      <td>0.0</td>\n",
       "      <td>0.0</td>\n",
       "      <td>1.131050e+07</td>\n",
       "      <td>0.0</td>\n",
       "      <td>0.0</td>\n",
       "      <td>1.131050e+07</td>\n",
       "      <td>0.0</td>\n",
       "      <td>0.0</td>\n",
       "    </tr>\n",
       "    <tr>\n",
       "      <th>1690</th>\n",
       "      <td>2023-01-16</td>\n",
       "      <td>0.0</td>\n",
       "      <td>0</td>\n",
       "      <td>0.0</td>\n",
       "      <td>0.0</td>\n",
       "      <td>0</td>\n",
       "      <td>0.0</td>\n",
       "      <td>0.0</td>\n",
       "      <td>0.0</td>\n",
       "      <td>1.131050e+07</td>\n",
       "      <td>0.0</td>\n",
       "      <td>0.0</td>\n",
       "      <td>1.131050e+07</td>\n",
       "      <td>0.0</td>\n",
       "      <td>0.0</td>\n",
       "    </tr>\n",
       "    <tr>\n",
       "      <th>1691</th>\n",
       "      <td>2023-01-17</td>\n",
       "      <td>0.0</td>\n",
       "      <td>0</td>\n",
       "      <td>0.0</td>\n",
       "      <td>0.0</td>\n",
       "      <td>0</td>\n",
       "      <td>0.0</td>\n",
       "      <td>0.0</td>\n",
       "      <td>0.0</td>\n",
       "      <td>1.131050e+07</td>\n",
       "      <td>0.0</td>\n",
       "      <td>0.0</td>\n",
       "      <td>1.131050e+07</td>\n",
       "      <td>0.0</td>\n",
       "      <td>0.0</td>\n",
       "    </tr>\n",
       "    <tr>\n",
       "      <th>1692</th>\n",
       "      <td>2023-01-18</td>\n",
       "      <td>0.0</td>\n",
       "      <td>0</td>\n",
       "      <td>0.0</td>\n",
       "      <td>0.0</td>\n",
       "      <td>0</td>\n",
       "      <td>0.0</td>\n",
       "      <td>0.0</td>\n",
       "      <td>0.0</td>\n",
       "      <td>1.131050e+07</td>\n",
       "      <td>0.0</td>\n",
       "      <td>0.0</td>\n",
       "      <td>1.131050e+07</td>\n",
       "      <td>0.0</td>\n",
       "      <td>0.0</td>\n",
       "    </tr>\n",
       "    <tr>\n",
       "      <th>1693</th>\n",
       "      <td>2023-01-19</td>\n",
       "      <td>0.0</td>\n",
       "      <td>0</td>\n",
       "      <td>0.0</td>\n",
       "      <td>0.0</td>\n",
       "      <td>0</td>\n",
       "      <td>0.0</td>\n",
       "      <td>0.0</td>\n",
       "      <td>0.0</td>\n",
       "      <td>1.131050e+07</td>\n",
       "      <td>0.0</td>\n",
       "      <td>0.0</td>\n",
       "      <td>1.131050e+07</td>\n",
       "      <td>0.0</td>\n",
       "      <td>0.0</td>\n",
       "    </tr>\n",
       "  </tbody>\n",
       "</table>\n",
       "</div>"
      ],
      "text/plain": [
       "            date  netPnl  slippage  commission  turnover  tradeCount  \\\n",
       "1689  2023-01-15     0.0         0         0.0       0.0           0   \n",
       "1690  2023-01-16     0.0         0         0.0       0.0           0   \n",
       "1691  2023-01-17     0.0         0         0.0       0.0           0   \n",
       "1692  2023-01-18     0.0         0         0.0       0.0           0   \n",
       "1693  2023-01-19     0.0         0         0.0       0.0           0   \n",
       "\n",
       "      tradingPnl  positionPnl  totalPnl       balance  return  retWithoutFee  \\\n",
       "1689         0.0          0.0       0.0  1.131050e+07     0.0            0.0   \n",
       "1690         0.0          0.0       0.0  1.131050e+07     0.0            0.0   \n",
       "1691         0.0          0.0       0.0  1.131050e+07     0.0            0.0   \n",
       "1692         0.0          0.0       0.0  1.131050e+07     0.0            0.0   \n",
       "1693         0.0          0.0       0.0  1.131050e+07     0.0            0.0   \n",
       "\n",
       "         highlevel  drawdown  ddPercent  \n",
       "1689  1.131050e+07       0.0        0.0  \n",
       "1690  1.131050e+07       0.0        0.0  \n",
       "1691  1.131050e+07       0.0        0.0  \n",
       "1692  1.131050e+07       0.0        0.0  \n",
       "1693  1.131050e+07       0.0        0.0  "
      ]
     },
     "execution_count": 7,
     "metadata": {},
     "output_type": "execute_result"
    }
   ],
   "source": [
    "eventBtcDf.tail()"
   ]
  },
  {
   "cell_type": "code",
   "execution_count": 8,
   "metadata": {},
   "outputs": [],
   "source": [
    "eventBtcDf.index = list(map(lambda dt: datetime.strptime(dt, '%Y-%m-%d'), eventBtcDf.date))\n",
    "eventEthDf.index = list(map(lambda dt: datetime.strptime(dt, '%Y-%m-%d'), eventEthDf.date))"
   ]
  },
  {
   "cell_type": "code",
   "execution_count": 9,
   "metadata": {},
   "outputs": [],
   "source": [
    "# eventBtcDf"
   ]
  },
  {
   "cell_type": "code",
   "execution_count": 30,
   "metadata": {},
   "outputs": [
    {
     "data": {
      "image/png": "[encoded data removed]",
      "text/plain": [
       "<Figure size 1080x504 with 2 Axes>"
      ]
     },
     "metadata": {
      "needs_background": "light"
     },
     "output_type": "display_data"
    }
   ],
   "source": [
    "#plot 1:\n",
    "plt.figure(figsize=(15, 7))\n",
    "plt.subplot(1, 2, 1)\n",
    "plt.plot(eventBtcDf.balance.iloc[-90:], label='btcEventWeeklyPerf', color='y')\n",
    "plt.legend()\n",
    "plt.xticks(rotation=15)\n",
    "\n",
    "\n",
    "#plot 2:\n",
    "plt.subplot(1, 2, 2)\n",
    "plt.plot(eventEthDf.balance.iloc[-90:], label='ethEventWeeklyPerf', color='b')\n",
    "plt.legend()\n",
    "plt.xticks(rotation=15)\n",
    "plt.savefig('eventDrivenPerf')\n",
    "plt.show()"
   ]
  },
  {
   "cell_type": "code",
   "execution_count": 31,
   "metadata": {},
   "outputs": [],
   "source": [
    "eventMonthlyReturn = pd.Series({\"btcEventMonthlyReturn:\" : str(round((eventBtcDf.balance.iloc[-1]/eventBtcDf.balance.iloc[-30]-1)*100,2))+'%', \n",
    " \"ethEventMonthlyReturn:\" : str(round(((eventEthDf.balance.iloc[-1]/eventEthDf.balance.iloc[-30]-1)*100),2))+\"%\"})"
   ]
  },
  {
   "cell_type": "code",
   "execution_count": 32,
   "metadata": {},
   "outputs": [],
   "source": [
    "eventMonthlyReturn.to_frame(name='eventPerf').to_excel('eventMonthlyReturn.xlsx')"
   ]
  },
  {
   "cell_type": "code",
   "execution_count": 33,
   "metadata": {},
   "outputs": [
    {
     "data": {
      "text/plain": [
       "btcEventMonthlyReturn:    4.04%\n",
       "ethEventMonthlyReturn:    1.64%\n",
       "dtype: object"
      ]
     },
     "execution_count": 33,
     "metadata": {},
     "output_type": "execute_result"
    }
   ],
   "source": [
    "eventMonthlyReturn"
   ]
  },
  {
   "cell_type": "code",
   "execution_count": null,
   "metadata": {},
   "outputs": [],
   "source": []
  }
 ],
 "metadata": {
  "kernelspec": {
   "display_name": "Python 3",
   "language": "python",
   "name": "python3"
  },
  "language_info": {
   "codemirror_mode": {
    "name": "ipython",
    "version": 3
   },
   "file_extension": ".py",
   "mimetype": "text/x-python",
   "name": "python",
   "nbconvert_exporter": "python",
   "pygments_lexer": "ipython3",
   "version": "3.7.4"
  }
 },
 "nbformat": 4,
 "nbformat_minor": 2
}
