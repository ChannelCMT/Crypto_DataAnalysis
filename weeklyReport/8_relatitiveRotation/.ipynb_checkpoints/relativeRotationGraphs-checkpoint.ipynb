{
 "cells": [
  {
   "cell_type": "markdown",
   "metadata": {},
   "source": [
    "## 市场相对轮动图\n",
    "\n",
    "*对市场内股票数据进行统计，观察样本变化。*"
   ]
  },
  {
   "cell_type": "code",
   "execution_count": 2,
   "metadata": {},
   "outputs": [],
   "source": [
    "import warnings\n",
    "warnings.filterwarnings(\"ignore\")"
   ]
  },
  {
   "cell_type": "code",
   "execution_count": 3,
   "metadata": {},
   "outputs": [],
   "source": [
    "import pymongo\n",
    "import pandas as pd\n",
    "from datetime import datetime\n",
    "\n",
    "startTime = datetime(2022,9,11)\n",
    "endTime = datetime(2023,1,19, 10)"
   ]
  },
  {
   "cell_type": "code",
   "execution_count": 4,
   "metadata": {},
   "outputs": [],
   "source": [
    "symbolList = ['btc_usdt.spot:binance', 'eth_usdt.spot:binance', 'bnb_usdt.spot:binance', 'ltc_usdt.spot:binance','bch_usdt.spot:binance',\n",
    "             'doge_usdt.spot:binance', 'matic_usdt.spot:binance', 'sol_usdt.spot:binance','link_usdt.spot:binance','uni_usdt.spot:binance',\n",
    "              'gala_usdt.spot:binance', 'sand_usdt.spot:binance', 'axs_usdt.spot:binance'\n",
    "             ]\n",
    "\n",
    "client = pymongo.MongoClient('172.16.20.81', 27017)"
   ]
  },
  {
   "cell_type": "code",
   "execution_count": 5,
   "metadata": {},
   "outputs": [],
   "source": [
    "def readDb(collection, start, end):\n",
    "    return pd.DataFrame(\n",
    "        list(collection.find({\"datetime\": {'$gt': start, '$lt': end}}))\n",
    "    )"
   ]
  },
  {
   "cell_type": "code",
   "execution_count": 6,
   "metadata": {},
   "outputs": [],
   "source": [
    "\n",
    "dbClient = client['Kline_1Min_Auto_Db_Plus']\n",
    "columnsName = ['open', 'high', 'low', 'close', 'volume','datetime']"
   ]
  },
  {
   "cell_type": "code",
   "execution_count": 7,
   "metadata": {},
   "outputs": [],
   "source": [
    "crytoDict = {\n",
    "                'btc':readDb(dbClient[symbolList[0]], start=startTime , end=endTime)[columnsName],\n",
    "                'eth':readDb(dbClient[symbolList[1]], start=startTime , end=endTime)[columnsName],\n",
    "                'bnb':readDb(dbClient[symbolList[2]], start=startTime , end=endTime)[columnsName],\n",
    "                'ltc':readDb(dbClient[symbolList[3]], start=startTime , end=endTime)[columnsName],\n",
    "                'bch':readDb(dbClient[symbolList[4]], start=startTime , end=endTime)[columnsName],\n",
    "                'doge':readDb(dbClient[symbolList[5]], start=startTime , end=endTime)[columnsName],\n",
    "                'matic':readDb(dbClient[symbolList[6]], start=startTime , end=endTime)[columnsName],\n",
    "                'sol':readDb(dbClient[symbolList[7]], start=startTime , end=endTime)[columnsName],\n",
    "                'link':readDb(dbClient[symbolList[8]], start=startTime , end=endTime)[columnsName],\n",
    "                'uni':readDb(dbClient[symbolList[9]], start=startTime , end=endTime)[columnsName],\n",
    "                'gala':readDb(dbClient[symbolList[10]], start=startTime , end=endTime)[columnsName],\n",
    "                'sand':readDb(dbClient[symbolList[11]], start=startTime , end=endTime)[columnsName],\n",
    "                'axs':readDb(dbClient[symbolList[12]], start=startTime , end=endTime)[columnsName],\n",
    "            }"
   ]
  },
  {
   "cell_type": "code",
   "execution_count": 8,
   "metadata": {},
   "outputs": [],
   "source": [
    "# crytoDict"
   ]
  },
  {
   "cell_type": "code",
   "execution_count": 9,
   "metadata": {},
   "outputs": [],
   "source": [
    "def resampleDf(data, freq='D'):\n",
    "#     df = data.drop('_id', axis=1)\n",
    "    dataDf = df.set_index('datetime')\n",
    "    dataDayDf = dataDf.resample(freq).agg({'open':'first', 'high': 'max', 'low': 'min', 'close': 'last', 'volume':'sum'})\n",
    "    dataResetDf = dataDayDf.reset_index()\n",
    "    dataResetDf['date'] = list(map(lambda dt: str(dt.date()), dataResetDf['datetime']))\n",
    "    return dataResetDf"
   ]
  },
  {
   "cell_type": "code",
   "execution_count": 10,
   "metadata": {},
   "outputs": [],
   "source": [
    "def addSymbol(dataDf, symbolName):\n",
    "    dataDf['symbol'] = symbolName\n",
    "    return dataDf"
   ]
  },
  {
   "cell_type": "code",
   "execution_count": 11,
   "metadata": {},
   "outputs": [],
   "source": [
    "def setIndex(dataDf):\n",
    "    dataIndex = dataDf.set_index(['date', 'symbol'])\n",
    "    return dataIndex"
   ]
  },
  {
   "cell_type": "code",
   "execution_count": 12,
   "metadata": {},
   "outputs": [],
   "source": [
    "multiCryptoDict = {}\n",
    "for key, df in crytoDict.items():\n",
    "    hourDf = resampleDf(df)\n",
    "    hourSymbolDf = addSymbol(hourDf, key)\n",
    "    hourIndexDf = setIndex(hourSymbolDf)\n",
    "    multiCryptoDict[key] = hourIndexDf"
   ]
  },
  {
   "cell_type": "code",
   "execution_count": 13,
   "metadata": {},
   "outputs": [],
   "source": [
    "multiDf = pd.concat(list(multiCryptoDict.values())).sort_index()"
   ]
  },
  {
   "cell_type": "code",
   "execution_count": 14,
   "metadata": {},
   "outputs": [
    {
     "data": {
      "text/html": [
       "<div>\n",
       "<style scoped>\n",
       "    .dataframe tbody tr th:only-of-type {\n",
       "        vertical-align: middle;\n",
       "    }\n",
       "\n",
       "    .dataframe tbody tr th {\n",
       "        vertical-align: top;\n",
       "    }\n",
       "\n",
       "    .dataframe thead th {\n",
       "        text-align: right;\n",
       "    }\n",
       "</style>\n",
       "<table border=\"1\" class=\"dataframe\">\n",
       "  <thead>\n",
       "    <tr style=\"text-align: right;\">\n",
       "      <th></th>\n",
       "      <th></th>\n",
       "      <th>datetime</th>\n",
       "      <th>open</th>\n",
       "      <th>high</th>\n",
       "      <th>low</th>\n",
       "      <th>close</th>\n",
       "      <th>volume</th>\n",
       "    </tr>\n",
       "    <tr>\n",
       "      <th>date</th>\n",
       "      <th>symbol</th>\n",
       "      <th></th>\n",
       "      <th></th>\n",
       "      <th></th>\n",
       "      <th></th>\n",
       "      <th></th>\n",
       "      <th></th>\n",
       "    </tr>\n",
       "  </thead>\n",
       "  <tbody>\n",
       "    <tr>\n",
       "      <th rowspan=\"5\" valign=\"top\">2022-09-11</th>\n",
       "      <th>axs</th>\n",
       "      <td>2022-09-11</td>\n",
       "      <td>14.43000</td>\n",
       "      <td>14.80000</td>\n",
       "      <td>14.20000</td>\n",
       "      <td>14.5200</td>\n",
       "      <td>5.606104e+05</td>\n",
       "    </tr>\n",
       "    <tr>\n",
       "      <th>bch</th>\n",
       "      <td>2022-09-11</td>\n",
       "      <td>133.10000</td>\n",
       "      <td>133.80000</td>\n",
       "      <td>128.00000</td>\n",
       "      <td>130.7000</td>\n",
       "      <td>7.881359e+04</td>\n",
       "    </tr>\n",
       "    <tr>\n",
       "      <th>bnb</th>\n",
       "      <td>2022-09-11</td>\n",
       "      <td>293.30000</td>\n",
       "      <td>298.60000</td>\n",
       "      <td>291.70000</td>\n",
       "      <td>294.5000</td>\n",
       "      <td>2.568850e+05</td>\n",
       "    </tr>\n",
       "    <tr>\n",
       "      <th>btc</th>\n",
       "      <td>2022-09-11</td>\n",
       "      <td>21238.50000</td>\n",
       "      <td>21810.80000</td>\n",
       "      <td>21171.44000</td>\n",
       "      <td>21643.1600</td>\n",
       "      <td>2.707467e+05</td>\n",
       "    </tr>\n",
       "    <tr>\n",
       "      <th>doge</th>\n",
       "      <td>2022-09-11</td>\n",
       "      <td>0.06394</td>\n",
       "      <td>0.06557</td>\n",
       "      <td>0.06284</td>\n",
       "      <td>0.0642</td>\n",
       "      <td>7.357631e+08</td>\n",
       "    </tr>\n",
       "    <tr>\n",
       "      <th>...</th>\n",
       "      <th>...</th>\n",
       "      <td>...</td>\n",
       "      <td>...</td>\n",
       "      <td>...</td>\n",
       "      <td>...</td>\n",
       "      <td>...</td>\n",
       "      <td>...</td>\n",
       "    </tr>\n",
       "    <tr>\n",
       "      <th rowspan=\"5\" valign=\"top\">2023-01-19</th>\n",
       "      <th>ltc</th>\n",
       "      <td>2023-01-19</td>\n",
       "      <td>84.95000</td>\n",
       "      <td>85.70000</td>\n",
       "      <td>82.11000</td>\n",
       "      <td>82.8700</td>\n",
       "      <td>5.089733e+05</td>\n",
       "    </tr>\n",
       "    <tr>\n",
       "      <th>matic</th>\n",
       "      <td>2023-01-19</td>\n",
       "      <td>0.97590</td>\n",
       "      <td>0.98700</td>\n",
       "      <td>0.92500</td>\n",
       "      <td>0.9390</td>\n",
       "      <td>5.923762e+07</td>\n",
       "    </tr>\n",
       "    <tr>\n",
       "      <th>sand</th>\n",
       "      <td>2023-01-19</td>\n",
       "      <td>0.70270</td>\n",
       "      <td>0.74230</td>\n",
       "      <td>0.66440</td>\n",
       "      <td>0.6770</td>\n",
       "      <td>3.271845e+07</td>\n",
       "    </tr>\n",
       "    <tr>\n",
       "      <th>sol</th>\n",
       "      <td>2023-01-19</td>\n",
       "      <td>21.78000</td>\n",
       "      <td>22.53000</td>\n",
       "      <td>20.34000</td>\n",
       "      <td>21.0200</td>\n",
       "      <td>6.377512e+06</td>\n",
       "    </tr>\n",
       "    <tr>\n",
       "      <th>uni</th>\n",
       "      <td>2023-01-19</td>\n",
       "      <td>6.29600</td>\n",
       "      <td>6.36300</td>\n",
       "      <td>6.00000</td>\n",
       "      <td>6.0630</td>\n",
       "      <td>1.608331e+06</td>\n",
       "    </tr>\n",
       "  </tbody>\n",
       "</table>\n",
       "<p>1703 rows × 6 columns</p>\n",
       "</div>"
      ],
      "text/plain": [
       "                    datetime         open         high          low  \\\n",
       "date       symbol                                                     \n",
       "2022-09-11 axs    2022-09-11     14.43000     14.80000     14.20000   \n",
       "           bch    2022-09-11    133.10000    133.80000    128.00000   \n",
       "           bnb    2022-09-11    293.30000    298.60000    291.70000   \n",
       "           btc    2022-09-11  21238.50000  21810.80000  21171.44000   \n",
       "           doge   2022-09-11      0.06394      0.06557      0.06284   \n",
       "...                      ...          ...          ...          ...   \n",
       "2023-01-19 ltc    2023-01-19     84.95000     85.70000     82.11000   \n",
       "           matic  2023-01-19      0.97590      0.98700      0.92500   \n",
       "           sand   2023-01-19      0.70270      0.74230      0.66440   \n",
       "           sol    2023-01-19     21.78000     22.53000     20.34000   \n",
       "           uni    2023-01-19      6.29600      6.36300      6.00000   \n",
       "\n",
       "                        close        volume  \n",
       "date       symbol                            \n",
       "2022-09-11 axs        14.5200  5.606104e+05  \n",
       "           bch       130.7000  7.881359e+04  \n",
       "           bnb       294.5000  2.568850e+05  \n",
       "           btc     21643.1600  2.707467e+05  \n",
       "           doge        0.0642  7.357631e+08  \n",
       "...                       ...           ...  \n",
       "2023-01-19 ltc        82.8700  5.089733e+05  \n",
       "           matic       0.9390  5.923762e+07  \n",
       "           sand        0.6770  3.271845e+07  \n",
       "           sol        21.0200  6.377512e+06  \n",
       "           uni         6.0630  1.608331e+06  \n",
       "\n",
       "[1703 rows x 6 columns]"
      ]
     },
     "execution_count": 14,
     "metadata": {},
     "output_type": "execute_result"
    }
   ],
   "source": [
    "multiDf"
   ]
  },
  {
   "cell_type": "code",
   "execution_count": 15,
   "metadata": {},
   "outputs": [],
   "source": [
    "closePrice = multiDf['close'].unstack()"
   ]
  },
  {
   "cell_type": "code",
   "execution_count": 16,
   "metadata": {},
   "outputs": [],
   "source": [
    "rsDf = pd.DataFrame({name: closePrice[name]/closePrice['btc']*100 for name in closePrice.columns})\n",
    "rsDf['btc'] = closePrice['btc']"
   ]
  },
  {
   "cell_type": "code",
   "execution_count": 17,
   "metadata": {},
   "outputs": [],
   "source": [
    "shortPeriodParam = 7\n",
    "longPeriodParam = shortPeriodParam*4"
   ]
  },
  {
   "cell_type": "code",
   "execution_count": 18,
   "metadata": {},
   "outputs": [],
   "source": [
    "normalizationRS = 100+ (rsDf.rolling(shortPeriodParam).mean() -rsDf.rolling(longPeriodParam).mean())/rsDf.rolling(longPeriodParam).std()"
   ]
  },
  {
   "cell_type": "code",
   "execution_count": 19,
   "metadata": {},
   "outputs": [
    {
     "data": {
      "text/plain": [
       "<AxesSubplot:xlabel='date'>"
      ]
     },
     "execution_count": 19,
     "metadata": {},
     "output_type": "execute_result"
    }
   ],
   "source": [
    "normalizationRS.btc.plot()"
   ]
  },
  {
   "cell_type": "code",
   "execution_count": 20,
   "metadata": {},
   "outputs": [],
   "source": [
    "RS_Mom = normalizationRS.pct_change()\n",
    "jdk_rs_mom = 100+(RS_Mom - RS_Mom.rolling(longPeriodParam).mean())/RS_Mom.rolling(longPeriodParam).std()"
   ]
  },
  {
   "cell_type": "code",
   "execution_count": 21,
   "metadata": {},
   "outputs": [
    {
     "data": {
      "text/plain": [
       "<AxesSubplot:xlabel='date'>"
      ]
     },
     "execution_count": 21,
     "metadata": {},
     "output_type": "execute_result"
    },
    {
     "data": {
      "image/png": "[encoded data removed]",
      "text/plain": [
       "<Figure size 432x288 with 1 Axes>"
      ]
     },
     "metadata": {
      "needs_background": "light"
     },
     "output_type": "display_data"
    }
   ],
   "source": [
    "jdk_rs_mom.btc.plot()"
   ]
  },
  {
   "cell_type": "code",
   "execution_count": 22,
   "metadata": {},
   "outputs": [],
   "source": [
    "import matplotlib.pyplot as plt\n",
    "import matplotlib.patches as patches\n",
    "\n",
    "def setup_plot(fig, ax):\n",
    "    ax.set_title(\"Relative Rotation Graph\")\n",
    "    ax.set_xlabel(\"RS-Ratio\")\n",
    "    ax.set_ylabel(\"RS-Momentum\")\n",
    "    plt.figtext(0.14, 0.14, \"Lagging\", color=\"red\")\n",
    "    plt.figtext(0.14, 0.84, \"Improving\", color=\"blue\")\n",
    "    plt.figtext(0.87, 0.84, \"Leading\", color=\"green\", ha=\"right\")\n",
    "    plt.figtext(0.87, 0.14, \"Weakening\", color=\"gold\", ha=\"right\")\n",
    "    windowZoom = 5\n",
    "    lim = [100 - windowZoom, 100 + windowZoom]\n",
    "    ax.set_xlim(lim)\n",
    "    ax.set_ylim(lim)\n",
    "    ax.axhline(y=100, color=\"gray\", linewidth=0.5)\n",
    "    ax.axvline(x=100, color=\"gray\", linewidth=0.5)\n",
    "    rect = patches.Rectangle((0, 0), 100, 100, facecolor=\"red\", alpha=0.2)\n",
    "    ax.add_patch(rect)\n",
    "    rect = patches.Rectangle((0, 100), 100, 100, facecolor=\"blue\", alpha=0.2)\n",
    "    ax.add_patch(rect)\n",
    "    rect = patches.Rectangle((100, 100), 100, 100, facecolor=\"green\", alpha=0.2)\n",
    "    ax.add_patch(rect)\n",
    "    rect = patches.Rectangle((100, 0), 100, 100, facecolor=\"yellow\", alpha=0.2)\n",
    "    ax.add_patch(rect)\n",
    "    plt.gcf().set_size_inches(10, 10)"
   ]
  },
  {
   "cell_type": "code",
   "execution_count": 23,
   "metadata": {},
   "outputs": [
    {
     "data": {
      "image/png": "[encoded data removed]",
      "text/plain": [
       "<Figure size 720x720 with 1 Axes>"
      ]
     },
     "metadata": {
      "needs_background": "light"
     },
     "output_type": "display_data"
    }
   ],
   "source": [
    "figBtc, ax = plt.subplots()\n",
    "setup_plot(figBtc, ax)\n",
    "ax.plot(\n",
    "    normalizationRS.btc.iloc[-7:],\n",
    "    jdk_rs_mom.btc.iloc[-7:],\n",
    "    color='cyan',\n",
    "    linewidth=1,\n",
    "    label='btc'\n",
    ")\n",
    "ax.scatter(normalizationRS.btc.iloc[-7:], jdk_rs_mom.btc.iloc[-7:], c='cyan', marker='o', s=10)\n",
    "ax.scatter(normalizationRS.btc.iloc[-1:], jdk_rs_mom.btc.iloc[-1:], c='cyan', marker='<', s=80)\n",
    "ax.legend(loc='center left')\n",
    "figBtc.savefig('btcRrg')"
   ]
  },
  {
   "cell_type": "code",
   "execution_count": 24,
   "metadata": {},
   "outputs": [
    {
     "data": {
      "image/png": "[encoded data removed]",
      "text/plain": [
       "<Figure size 720x720 with 1 Axes>"
      ]
     },
     "metadata": {
      "needs_background": "light"
     },
     "output_type": "display_data"
    }
   ],
   "source": [
    "symbolColor = {'btc': 'cyan', 'eth': 'black', 'bnb': 'darkorange'}\n",
    "figMainCoin, ax = plt.subplots()\n",
    "setup_plot(figMainCoin, ax)\n",
    "for symbol, color in symbolColor.items():\n",
    "    ax.plot(\n",
    "        normalizationRS[symbol].iloc[-7:],\n",
    "        jdk_rs_mom[symbol].iloc[-7:],\n",
    "        color=color,\n",
    "        linewidth=1,\n",
    "        label=symbol\n",
    "    )\n",
    "    ax.scatter(normalizationRS[symbol].iloc[-7:-1], jdk_rs_mom[symbol].iloc[-7:-1], c=color, marker='o', s=10)\n",
    "    ax.scatter(normalizationRS[symbol].iloc[-1:], jdk_rs_mom[symbol].iloc[-1:], c=color, marker='>', s=80)\n",
    "    ax.legend(loc='center left')\n",
    "figMainCoin.savefig('mainCoin')"
   ]
  },
  {
   "cell_type": "code",
   "execution_count": 25,
   "metadata": {},
   "outputs": [
    {
     "data": {
      "image/png": "[encoded data removed]",
      "text/plain": [
       "<Figure size 720x720 with 1 Axes>"
      ]
     },
     "metadata": {
      "needs_background": "light"
     },
     "output_type": "display_data"
    }
   ],
   "source": [
    "symbolColor = {'gala': 'cyan', 'sand': 'black', 'axs': 'darkorange'}\n",
    "figGame, ax = plt.subplots()\n",
    "setup_plot(figGame, ax)\n",
    "for symbol, color in symbolColor.items():\n",
    "    ax.plot(\n",
    "        normalizationRS[symbol].iloc[-7:],\n",
    "        jdk_rs_mom[symbol].iloc[-7:],\n",
    "        color=color,\n",
    "        linewidth=1,\n",
    "        label=symbol\n",
    "    )\n",
    "    ax.scatter(normalizationRS[symbol].iloc[-7:-1], jdk_rs_mom[symbol].iloc[-7:-1], c=color, marker='o', s=10)\n",
    "    ax.scatter(normalizationRS[symbol].iloc[-1:], jdk_rs_mom[symbol].iloc[-1:], c=color, marker='>', s=80)\n",
    "    ax.legend(loc='center left')\n",
    "figGame.savefig('gameCoin')"
   ]
  },
  {
   "cell_type": "code",
   "execution_count": 26,
   "metadata": {},
   "outputs": [],
   "source": [
    "improvingDict = {}\n",
    "leadingDict = {}\n",
    "for s in crytoDict.keys():\n",
    "    RS = pd.concat([normalizationRS[s].iloc[-1:], jdk_rs_mom[s].iloc[-1:]], axis=1, keys=['RS_Ratio', 'RS_Momentum'])\n",
    "    for i, v in RS.iterrows():\n",
    "        if v['RS_Momentum']>100 and v['RS_Ratio']>100:\n",
    "            leadingDict[s] = i\n",
    "        elif v['RS_Momentum']>100 and v['RS_Ratio']<100:\n",
    "            improvingDict[s] = i"
   ]
  },
  {
   "cell_type": "code",
   "execution_count": null,
   "metadata": {},
   "outputs": [],
   "source": []
  },
  {
   "cell_type": "code",
   "execution_count": 27,
   "metadata": {},
   "outputs": [],
   "source": [
    "improvingDf = pd.Series(improvingDict).to_frame('Improving_Area')\n",
    "leadingDf = pd.Series(leadingDict).to_frame('Leading_Area')"
   ]
  },
  {
   "cell_type": "code",
   "execution_count": 28,
   "metadata": {},
   "outputs": [],
   "source": [
    "buyDf = pd.concat([leadingDf, improvingDf], axis=1)"
   ]
  },
  {
   "cell_type": "code",
   "execution_count": 29,
   "metadata": {},
   "outputs": [],
   "source": [
    "buyDf.to_excel('buyDf.xlsx')"
   ]
  },
  {
   "cell_type": "code",
   "execution_count": 30,
   "metadata": {},
   "outputs": [
    {
     "data": {
      "text/html": [
       "<div>\n",
       "<style scoped>\n",
       "    .dataframe tbody tr th:only-of-type {\n",
       "        vertical-align: middle;\n",
       "    }\n",
       "\n",
       "    .dataframe tbody tr th {\n",
       "        vertical-align: top;\n",
       "    }\n",
       "\n",
       "    .dataframe thead th {\n",
       "        text-align: right;\n",
       "    }\n",
       "</style>\n",
       "<table border=\"1\" class=\"dataframe\">\n",
       "  <thead>\n",
       "    <tr style=\"text-align: right;\">\n",
       "      <th></th>\n",
       "      <th>Leading_Area</th>\n",
       "      <th>Improving_Area</th>\n",
       "    </tr>\n",
       "  </thead>\n",
       "  <tbody>\n",
       "  </tbody>\n",
       "</table>\n",
       "</div>"
      ],
      "text/plain": [
       "Empty DataFrame\n",
       "Columns: [Leading_Area, Improving_Area]\n",
       "Index: []"
      ]
     },
     "execution_count": 30,
     "metadata": {},
     "output_type": "execute_result"
    }
   ],
   "source": [
    "buyDf"
   ]
  },
  {
   "cell_type": "code",
   "execution_count": null,
   "metadata": {},
   "outputs": [],
   "source": []
  }
 ],
 "metadata": {
  "kernelspec": {
   "display_name": "Python 3",
   "language": "python",
   "name": "python3"
  },
  "language_info": {
   "codemirror_mode": {
    "name": "ipython",
    "version": 3
   },
   "file_extension": ".py",
   "mimetype": "text/x-python",
   "name": "python",
   "nbconvert_exporter": "python",
   "pygments_lexer": "ipython3",
   "version": "3.7.4"
  }
 },
 "nbformat": 4,
 "nbformat_minor": 2
}
