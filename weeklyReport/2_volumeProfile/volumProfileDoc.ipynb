{
 "cells": [
  {
   "cell_type": "code",
   "execution_count": 1,
   "metadata": {},
   "outputs": [],
   "source": [
    "from docx import Document\n",
    "from docx.shared import Inches\n",
    "import pandas as pd\n",
    "from docx.enum.style import WD_STYLE_TYPE"
   ]
  },
  {
   "cell_type": "code",
   "execution_count": 6,
   "metadata": {},
   "outputs": [],
   "source": [
    "document = Document()\n",
    "styles = document.styles\n",
    "# table_styles = [s for s in styles if s.type == WD_STYLE_TYPE.TABLE]\n",
    "# for style in table_styles:\n",
    "#     print(style.name)\n",
    "document.add_heading('Weekly Report of DcBot', 0)\n",
    "\n",
    "# p = document.add_paragraph('A plain paragraph having some ')\n",
    "# p.add_run('bold').bold = True\n",
    "# p.add_run(' and some ')\n",
    "# p.add_run('italic.').italic = True\n",
    "def creatTableFromDataFrame(df, table):\n",
    "    for j in range(df.shape[-1]):\n",
    "        table.cell(0,j).text = df.columns[j]\n",
    "        if j == 0:\n",
    "            table.cell(0,j).width = Inches(4)\n",
    "        else:\n",
    "            table.cell(0,j).width = Inches(1)\n",
    "    # add the rest of the data frame\n",
    "    for i in range(df.shape[0]):\n",
    "        for j in range(df.shape[-1]):\n",
    "            table.cell(i+1,j).text = str(df.values[i,j])\n",
    "\n",
    "pVolatility = document.add_paragraph()\n",
    "pVolatility.add_run('4. 价量分布图（支撑阻力）').bold = True\n",
    "document.add_paragraph('成交量分布是一种高级图表指标，显示交易者在指定时间段内每个价格范围的总交易量。')\n",
    "document.add_picture('btcVolumeProfile.png', width=Inches(6.2), height=Inches(2))\n",
    "document.add_paragraph('上图左边是BTC在过去一个月的成交量分布，中间是BTC的价格走势，右边是过去一周的成交量分布')\n",
    "document.add_picture('ethVolumeProfile.png', width=Inches(6.2), height=Inches(2))\n",
    "document.add_paragraph('上图左边是ETH在过去一个月的成交量分布，中间是ETH的价格走势，右边是过去一周的成交量分布')\n",
    "\n",
    "sarVolumeProfileExcel = pd.read_excel('sarVolumeProfile.xlsx')\n",
    "sarVolumeProfileDf = sarVolumeProfileExcel.drop(columns='Unnamed: 0')\n",
    "document.add_paragraph('表格显示过去一周的成交量最大的价格与支撑阻力')\n",
    "tableVp = document.add_table(sarVolumeProfileDf.shape[0]+1,sarVolumeProfileDf.shape[1],style = 'Light Grid Accent 1')\n",
    "creatTableFromDataFrame(sarVolumeProfileDf, tableVp)\n",
    "\n",
    "# document.add_paragraph('Intense quote', style='Intense Quote')\n",
    "# document.add_paragraph(\n",
    "#     'first item in unordered list', style='List Bullet'\n",
    "# )\n",
    "# document.add_paragraph(\n",
    "#     'first item in ordered list', style='List Number'\n",
    "# )\n",
    "\n",
    "document.add_page_break()\n",
    "\n",
    "document.save('volumeProfile.docx')"
   ]
  },
  {
   "cell_type": "code",
   "execution_count": null,
   "metadata": {},
   "outputs": [],
   "source": []
  }
 ],
 "metadata": {
  "kernelspec": {
   "display_name": "Python 3",
   "language": "python",
   "name": "python3"
  },
  "language_info": {
   "codemirror_mode": {
    "name": "ipython",
    "version": 3
   },
   "file_extension": ".py",
   "mimetype": "text/x-python",
   "name": "python",
   "nbconvert_exporter": "python",
   "pygments_lexer": "ipython3",
   "version": "3.7.4"
  }
 },
 "nbformat": 4,
 "nbformat_minor": 2
}
