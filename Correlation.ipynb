{
 "cells": [
  {
   "cell_type": "markdown",
   "metadata": {},
   "source": [
    "## 市场相关性分析"
   ]
  },
  {
   "cell_type": "code",
   "execution_count": 1,
   "metadata": {},
   "outputs": [
    {
     "name": "stderr",
     "output_type": "stream",
     "text": [
      "C:\\Users\\channelchan\\Anaconda3\\lib\\site-packages\\sklearn\\linear_model\\least_angle.py:30: DeprecationWarning: `np.float` is a deprecated alias for the builtin `float`. To silence this warning, use `float` by itself. Doing this will not modify any behavior and is safe. If you specifically wanted the numpy scalar type, use `np.float64` here.\n",
      "Deprecated in NumPy 1.20; for more details and guidance: https://numpy.org/devdocs/release/1.20.0-notes.html#deprecations\n",
      "  method='lar', copy_X=True, eps=np.finfo(np.float).eps,\n",
      "C:\\Users\\channelchan\\Anaconda3\\lib\\site-packages\\sklearn\\linear_model\\least_angle.py:167: DeprecationWarning: `np.float` is a deprecated alias for the builtin `float`. To silence this warning, use `float` by itself. Doing this will not modify any behavior and is safe. If you specifically wanted the numpy scalar type, use `np.float64` here.\n",
      "Deprecated in NumPy 1.20; for more details and guidance: https://numpy.org/devdocs/release/1.20.0-notes.html#deprecations\n",
      "  method='lar', copy_X=True, eps=np.finfo(np.float).eps,\n",
      "C:\\Users\\channelchan\\Anaconda3\\lib\\site-packages\\sklearn\\linear_model\\least_angle.py:284: DeprecationWarning: `np.float` is a deprecated alias for the builtin `float`. To silence this warning, use `float` by itself. Doing this will not modify any behavior and is safe. If you specifically wanted the numpy scalar type, use `np.float64` here.\n",
      "Deprecated in NumPy 1.20; for more details and guidance: https://numpy.org/devdocs/release/1.20.0-notes.html#deprecations\n",
      "  eps=np.finfo(np.float).eps, copy_Gram=True, verbose=0,\n",
      "C:\\Users\\channelchan\\Anaconda3\\lib\\site-packages\\sklearn\\linear_model\\least_angle.py:862: DeprecationWarning: `np.float` is a deprecated alias for the builtin `float`. To silence this warning, use `float` by itself. Doing this will not modify any behavior and is safe. If you specifically wanted the numpy scalar type, use `np.float64` here.\n",
      "Deprecated in NumPy 1.20; for more details and guidance: https://numpy.org/devdocs/release/1.20.0-notes.html#deprecations\n",
      "  eps=np.finfo(np.float).eps, copy_X=True, fit_path=True,\n",
      "C:\\Users\\channelchan\\Anaconda3\\lib\\site-packages\\sklearn\\linear_model\\least_angle.py:1101: DeprecationWarning: `np.float` is a deprecated alias for the builtin `float`. To silence this warning, use `float` by itself. Doing this will not modify any behavior and is safe. If you specifically wanted the numpy scalar type, use `np.float64` here.\n",
      "Deprecated in NumPy 1.20; for more details and guidance: https://numpy.org/devdocs/release/1.20.0-notes.html#deprecations\n",
      "  eps=np.finfo(np.float).eps, copy_X=True, fit_path=True,\n",
      "C:\\Users\\channelchan\\Anaconda3\\lib\\site-packages\\sklearn\\linear_model\\least_angle.py:1127: DeprecationWarning: `np.float` is a deprecated alias for the builtin `float`. To silence this warning, use `float` by itself. Doing this will not modify any behavior and is safe. If you specifically wanted the numpy scalar type, use `np.float64` here.\n",
      "Deprecated in NumPy 1.20; for more details and guidance: https://numpy.org/devdocs/release/1.20.0-notes.html#deprecations\n",
      "  eps=np.finfo(np.float).eps, positive=False):\n",
      "C:\\Users\\channelchan\\Anaconda3\\lib\\site-packages\\sklearn\\linear_model\\least_angle.py:1362: DeprecationWarning: `np.float` is a deprecated alias for the builtin `float`. To silence this warning, use `float` by itself. Doing this will not modify any behavior and is safe. If you specifically wanted the numpy scalar type, use `np.float64` here.\n",
      "Deprecated in NumPy 1.20; for more details and guidance: https://numpy.org/devdocs/release/1.20.0-notes.html#deprecations\n",
      "  max_n_alphas=1000, n_jobs=None, eps=np.finfo(np.float).eps,\n",
      "C:\\Users\\channelchan\\Anaconda3\\lib\\site-packages\\sklearn\\linear_model\\least_angle.py:1602: DeprecationWarning: `np.float` is a deprecated alias for the builtin `float`. To silence this warning, use `float` by itself. Doing this will not modify any behavior and is safe. If you specifically wanted the numpy scalar type, use `np.float64` here.\n",
      "Deprecated in NumPy 1.20; for more details and guidance: https://numpy.org/devdocs/release/1.20.0-notes.html#deprecations\n",
      "  max_n_alphas=1000, n_jobs=None, eps=np.finfo(np.float).eps,\n",
      "C:\\Users\\channelchan\\Anaconda3\\lib\\site-packages\\sklearn\\linear_model\\least_angle.py:1738: DeprecationWarning: `np.float` is a deprecated alias for the builtin `float`. To silence this warning, use `float` by itself. Doing this will not modify any behavior and is safe. If you specifically wanted the numpy scalar type, use `np.float64` here.\n",
      "Deprecated in NumPy 1.20; for more details and guidance: https://numpy.org/devdocs/release/1.20.0-notes.html#deprecations\n",
      "  eps=np.finfo(np.float).eps, copy_X=True, positive=False):\n",
      "C:\\Users\\channelchan\\Anaconda3\\lib\\site-packages\\sklearn\\decomposition\\online_lda.py:29: DeprecationWarning: `np.float` is a deprecated alias for the builtin `float`. To silence this warning, use `float` by itself. Doing this will not modify any behavior and is safe. If you specifically wanted the numpy scalar type, use `np.float64` here.\n",
      "Deprecated in NumPy 1.20; for more details and guidance: https://numpy.org/devdocs/release/1.20.0-notes.html#deprecations\n",
      "  EPS = np.finfo(np.float).eps\n"
     ]
    }
   ],
   "source": [
    "import pymongo\n",
    "import pandas as pd\n",
    "import numpy as np\n",
    "from datetime import datetime\n",
    "from sklearn.decomposition import PCA\n",
    "import warnings\n",
    "warnings.filterwarnings(\"ignore\")"
   ]
  },
  {
   "cell_type": "code",
   "execution_count": 2,
   "metadata": {},
   "outputs": [],
   "source": [
    "symbolList = ['btc_usdt.spot:binance', 'eth_usdt.spot:binance', 'bnb_usdt.spot:binance', 'ltc_usdt.spot:binance','bch_usdt.spot:binance',\n",
    "             'doge_usdt.spot:binance', 'matic_usdt.spot:binance', 'sol_usdt.spot:binance','link_usdt.spot:binance','uni_usdt.spot:binance']\n",
    "\n",
    "client = pymongo.MongoClient('172.16.20.81', 27017)"
   ]
  },
  {
   "cell_type": "code",
   "execution_count": 3,
   "metadata": {},
   "outputs": [],
   "source": [
    "def readDb(collection, start, end):\n",
    "    return pd.DataFrame(\n",
    "        list(collection.find({\"datetime\": {'$gt': start, '$lt': end}}))\n",
    "    )"
   ]
  },
  {
   "cell_type": "code",
   "execution_count": 4,
   "metadata": {},
   "outputs": [],
   "source": [
    "startTime = datetime(2022,6,1)\n",
    "endTime = datetime(2023,1,6)\n",
    "dbClient = client['Kline_1Min_Auto_Db_Plus']\n",
    "columnsName = ['open', 'high', 'low', 'close', 'volume','datetime']"
   ]
  },
  {
   "cell_type": "code",
   "execution_count": 5,
   "metadata": {},
   "outputs": [],
   "source": [
    "crytoDict = {\n",
    "                'btc':readDb(dbClient[symbolList[0]], start=startTime , end=endTime)[columnsName],\n",
    "                'eth':readDb(dbClient[symbolList[1]], start=startTime , end=endTime)[columnsName],\n",
    "                'bnb':readDb(dbClient[symbolList[2]], start=startTime , end=endTime)[columnsName],\n",
    "                'ltc':readDb(dbClient[symbolList[3]], start=startTime , end=endTime)[columnsName],\n",
    "                'bch':readDb(dbClient[symbolList[4]], start=startTime , end=endTime)[columnsName],\n",
    "                'doge':readDb(dbClient[symbolList[5]], start=startTime , end=endTime)[columnsName],\n",
    "                'matic':readDb(dbClient[symbolList[6]], start=startTime , end=endTime)[columnsName],\n",
    "                'sol':readDb(dbClient[symbolList[7]], start=startTime , end=endTime)[columnsName],\n",
    "                'link':readDb(dbClient[symbolList[8]], start=startTime , end=endTime)[columnsName],\n",
    "                'uni':readDb(dbClient[symbolList[9]], start=startTime , end=endTime)[columnsName],\n",
    "            }"
   ]
  },
  {
   "cell_type": "code",
   "execution_count": 6,
   "metadata": {},
   "outputs": [],
   "source": [
    "# crytoDict"
   ]
  },
  {
   "cell_type": "code",
   "execution_count": 7,
   "metadata": {},
   "outputs": [],
   "source": [
    "def resampleDf(data, freq='H'):\n",
    "#     df = data.drop('_id', axis=1)\n",
    "    dataDf = df.set_index('datetime')\n",
    "    dataHourDf = dataDf.resample(freq).agg({'open':'first', 'high': 'max', 'low': 'min', 'close': 'last', 'volume':'sum'})\n",
    "    dataResetDf = dataHourDf.reset_index()\n",
    "    return dataResetDf"
   ]
  },
  {
   "cell_type": "code",
   "execution_count": 8,
   "metadata": {},
   "outputs": [],
   "source": [
    "def addSymbol(dataDf, symbolName):\n",
    "    dataDf['symbol'] = symbolName\n",
    "    return dataDf"
   ]
  },
  {
   "cell_type": "code",
   "execution_count": 9,
   "metadata": {},
   "outputs": [],
   "source": [
    "def setIndex(dataDf):\n",
    "    dataIndex = dataDf.set_index(['datetime', 'symbol'])\n",
    "    return dataIndex"
   ]
  },
  {
   "cell_type": "code",
   "execution_count": 10,
   "metadata": {},
   "outputs": [],
   "source": [
    "multiCryptoDict = {}\n",
    "for key, df in crytoDict.items():\n",
    "    hourDf = resampleDf(df)\n",
    "    hourSymbolDf = addSymbol(hourDf, key)\n",
    "    hourIndexDf = setIndex(hourSymbolDf)\n",
    "    multiCryptoDict[key] = hourIndexDf"
   ]
  },
  {
   "cell_type": "code",
   "execution_count": 11,
   "metadata": {},
   "outputs": [],
   "source": [
    "multiDf = pd.concat(list(multiCryptoDict.values())).sort_index()"
   ]
  },
  {
   "cell_type": "code",
   "execution_count": 12,
   "metadata": {},
   "outputs": [
    {
     "data": {
      "text/html": [
       "<div>\n",
       "<style scoped>\n",
       "    .dataframe tbody tr th:only-of-type {\n",
       "        vertical-align: middle;\n",
       "    }\n",
       "\n",
       "    .dataframe tbody tr th {\n",
       "        vertical-align: top;\n",
       "    }\n",
       "\n",
       "    .dataframe thead th {\n",
       "        text-align: right;\n",
       "    }\n",
       "</style>\n",
       "<table border=\"1\" class=\"dataframe\">\n",
       "  <thead>\n",
       "    <tr style=\"text-align: right;\">\n",
       "      <th></th>\n",
       "      <th></th>\n",
       "      <th>open</th>\n",
       "      <th>high</th>\n",
       "      <th>low</th>\n",
       "      <th>close</th>\n",
       "      <th>volume</th>\n",
       "    </tr>\n",
       "    <tr>\n",
       "      <th>datetime</th>\n",
       "      <th>symbol</th>\n",
       "      <th></th>\n",
       "      <th></th>\n",
       "      <th></th>\n",
       "      <th></th>\n",
       "      <th></th>\n",
       "    </tr>\n",
       "  </thead>\n",
       "  <tbody>\n",
       "    <tr>\n",
       "      <th rowspan=\"5\" valign=\"top\">2022-06-01 00:00:00</th>\n",
       "      <th>bch</th>\n",
       "      <td>198.00000</td>\n",
       "      <td>199.30000</td>\n",
       "      <td>195.60000</td>\n",
       "      <td>197.00000</td>\n",
       "      <td>5.910073e+03</td>\n",
       "    </tr>\n",
       "    <tr>\n",
       "      <th>bnb</th>\n",
       "      <td>321.90000</td>\n",
       "      <td>324.00000</td>\n",
       "      <td>319.70000</td>\n",
       "      <td>322.80000</td>\n",
       "      <td>4.378702e+04</td>\n",
       "    </tr>\n",
       "    <tr>\n",
       "      <th>btc</th>\n",
       "      <td>32084.53000</td>\n",
       "      <td>32399.00000</td>\n",
       "      <td>31839.67000</td>\n",
       "      <td>32158.03000</td>\n",
       "      <td>5.899671e+03</td>\n",
       "    </tr>\n",
       "    <tr>\n",
       "      <th>doge</th>\n",
       "      <td>0.08562</td>\n",
       "      <td>0.08623</td>\n",
       "      <td>0.08483</td>\n",
       "      <td>0.08574</td>\n",
       "      <td>8.556392e+07</td>\n",
       "    </tr>\n",
       "    <tr>\n",
       "      <th>eth</th>\n",
       "      <td>1990.01000</td>\n",
       "      <td>1999.87000</td>\n",
       "      <td>1961.29000</td>\n",
       "      <td>1973.15000</td>\n",
       "      <td>5.528846e+04</td>\n",
       "    </tr>\n",
       "    <tr>\n",
       "      <th>...</th>\n",
       "      <th>...</th>\n",
       "      <td>...</td>\n",
       "      <td>...</td>\n",
       "      <td>...</td>\n",
       "      <td>...</td>\n",
       "      <td>...</td>\n",
       "    </tr>\n",
       "    <tr>\n",
       "      <th rowspan=\"5\" valign=\"top\">2023-01-05 23:00:00</th>\n",
       "      <th>link</th>\n",
       "      <td>5.71000</td>\n",
       "      <td>5.73800</td>\n",
       "      <td>5.69900</td>\n",
       "      <td>5.71800</td>\n",
       "      <td>1.125516e+05</td>\n",
       "    </tr>\n",
       "    <tr>\n",
       "      <th>ltc</th>\n",
       "      <td>74.08000</td>\n",
       "      <td>74.60000</td>\n",
       "      <td>74.02000</td>\n",
       "      <td>74.37000</td>\n",
       "      <td>2.693517e+04</td>\n",
       "    </tr>\n",
       "    <tr>\n",
       "      <th>matic</th>\n",
       "      <td>0.79020</td>\n",
       "      <td>0.79570</td>\n",
       "      <td>0.78960</td>\n",
       "      <td>0.79150</td>\n",
       "      <td>2.211048e+06</td>\n",
       "    </tr>\n",
       "    <tr>\n",
       "      <th>sol</th>\n",
       "      <td>13.17000</td>\n",
       "      <td>13.40000</td>\n",
       "      <td>13.15000</td>\n",
       "      <td>13.29000</td>\n",
       "      <td>3.035376e+05</td>\n",
       "    </tr>\n",
       "    <tr>\n",
       "      <th>uni</th>\n",
       "      <td>5.41500</td>\n",
       "      <td>5.45000</td>\n",
       "      <td>5.40100</td>\n",
       "      <td>5.40400</td>\n",
       "      <td>2.212952e+04</td>\n",
       "    </tr>\n",
       "  </tbody>\n",
       "</table>\n",
       "<p>52560 rows × 5 columns</p>\n",
       "</div>"
      ],
      "text/plain": [
       "                                   open         high          low  \\\n",
       "datetime            symbol                                          \n",
       "2022-06-01 00:00:00 bch       198.00000    199.30000    195.60000   \n",
       "                    bnb       321.90000    324.00000    319.70000   \n",
       "                    btc     32084.53000  32399.00000  31839.67000   \n",
       "                    doge        0.08562      0.08623      0.08483   \n",
       "                    eth      1990.01000   1999.87000   1961.29000   \n",
       "...                                 ...          ...          ...   \n",
       "2023-01-05 23:00:00 link        5.71000      5.73800      5.69900   \n",
       "                    ltc        74.08000     74.60000     74.02000   \n",
       "                    matic       0.79020      0.79570      0.78960   \n",
       "                    sol        13.17000     13.40000     13.15000   \n",
       "                    uni         5.41500      5.45000      5.40100   \n",
       "\n",
       "                                  close        volume  \n",
       "datetime            symbol                             \n",
       "2022-06-01 00:00:00 bch       197.00000  5.910073e+03  \n",
       "                    bnb       322.80000  4.378702e+04  \n",
       "                    btc     32158.03000  5.899671e+03  \n",
       "                    doge        0.08574  8.556392e+07  \n",
       "                    eth      1973.15000  5.528846e+04  \n",
       "...                                 ...           ...  \n",
       "2023-01-05 23:00:00 link        5.71800  1.125516e+05  \n",
       "                    ltc        74.37000  2.693517e+04  \n",
       "                    matic       0.79150  2.211048e+06  \n",
       "                    sol        13.29000  3.035376e+05  \n",
       "                    uni         5.40400  2.212952e+04  \n",
       "\n",
       "[52560 rows x 5 columns]"
      ]
     },
     "execution_count": 12,
     "metadata": {},
     "output_type": "execute_result"
    }
   ],
   "source": [
    "multiDf"
   ]
  },
  {
   "cell_type": "code",
   "execution_count": 13,
   "metadata": {},
   "outputs": [],
   "source": [
    "closePrice = multiDf['close'].unstack()"
   ]
  },
  {
   "cell_type": "code",
   "execution_count": 14,
   "metadata": {},
   "outputs": [],
   "source": [
    "logPriceDf = np.log(closePrice)"
   ]
  },
  {
   "cell_type": "code",
   "execution_count": 15,
   "metadata": {},
   "outputs": [
    {
     "data": {
      "text/html": [
       "<div>\n",
       "<style scoped>\n",
       "    .dataframe tbody tr th:only-of-type {\n",
       "        vertical-align: middle;\n",
       "    }\n",
       "\n",
       "    .dataframe tbody tr th {\n",
       "        vertical-align: top;\n",
       "    }\n",
       "\n",
       "    .dataframe thead th {\n",
       "        text-align: right;\n",
       "    }\n",
       "</style>\n",
       "<table border=\"1\" class=\"dataframe\">\n",
       "  <thead>\n",
       "    <tr style=\"text-align: right;\">\n",
       "      <th>symbol</th>\n",
       "      <th>bch</th>\n",
       "      <th>bnb</th>\n",
       "      <th>btc</th>\n",
       "      <th>doge</th>\n",
       "      <th>eth</th>\n",
       "      <th>link</th>\n",
       "      <th>ltc</th>\n",
       "      <th>matic</th>\n",
       "      <th>sol</th>\n",
       "      <th>uni</th>\n",
       "    </tr>\n",
       "    <tr>\n",
       "      <th>datetime</th>\n",
       "      <th></th>\n",
       "      <th></th>\n",
       "      <th></th>\n",
       "      <th></th>\n",
       "      <th></th>\n",
       "      <th></th>\n",
       "      <th></th>\n",
       "      <th></th>\n",
       "      <th></th>\n",
       "      <th></th>\n",
       "    </tr>\n",
       "  </thead>\n",
       "  <tbody>\n",
       "    <tr>\n",
       "      <th>2022-06-01 00:00:00</th>\n",
       "      <td>5.283204</td>\n",
       "      <td>5.777033</td>\n",
       "      <td>10.378417</td>\n",
       "      <td>-2.456436</td>\n",
       "      <td>7.587387</td>\n",
       "      <td>2.014903</td>\n",
       "      <td>4.229749</td>\n",
       "      <td>-0.403467</td>\n",
       "      <td>3.834061</td>\n",
       "      <td>1.750937</td>\n",
       "    </tr>\n",
       "    <tr>\n",
       "      <th>2022-06-01 01:00:00</th>\n",
       "      <td>5.284725</td>\n",
       "      <td>5.778271</td>\n",
       "      <td>10.377299</td>\n",
       "      <td>-2.454688</td>\n",
       "      <td>7.584468</td>\n",
       "      <td>2.010895</td>\n",
       "      <td>4.231204</td>\n",
       "      <td>-0.400478</td>\n",
       "      <td>3.832763</td>\n",
       "      <td>1.750937</td>\n",
       "    </tr>\n",
       "    <tr>\n",
       "      <th>2022-06-01 02:00:00</th>\n",
       "      <td>5.278625</td>\n",
       "      <td>5.767070</td>\n",
       "      <td>10.363533</td>\n",
       "      <td>-2.456203</td>\n",
       "      <td>7.567625</td>\n",
       "      <td>1.998774</td>\n",
       "      <td>4.212128</td>\n",
       "      <td>-0.420071</td>\n",
       "      <td>3.816833</td>\n",
       "      <td>1.728109</td>\n",
       "    </tr>\n",
       "    <tr>\n",
       "      <th>2022-06-01 03:00:00</th>\n",
       "      <td>5.285739</td>\n",
       "      <td>5.764564</td>\n",
       "      <td>10.361726</td>\n",
       "      <td>-2.453059</td>\n",
       "      <td>7.567454</td>\n",
       "      <td>1.998774</td>\n",
       "      <td>4.218036</td>\n",
       "      <td>-0.420071</td>\n",
       "      <td>3.818371</td>\n",
       "      <td>1.726332</td>\n",
       "    </tr>\n",
       "    <tr>\n",
       "      <th>2022-06-01 04:00:00</th>\n",
       "      <td>5.303802</td>\n",
       "      <td>5.769258</td>\n",
       "      <td>10.367651</td>\n",
       "      <td>-2.447380</td>\n",
       "      <td>7.577460</td>\n",
       "      <td>2.018895</td>\n",
       "      <td>4.226834</td>\n",
       "      <td>-0.410980</td>\n",
       "      <td>3.825157</td>\n",
       "      <td>1.738710</td>\n",
       "    </tr>\n",
       "    <tr>\n",
       "      <th>...</th>\n",
       "      <td>...</td>\n",
       "      <td>...</td>\n",
       "      <td>...</td>\n",
       "      <td>...</td>\n",
       "      <td>...</td>\n",
       "      <td>...</td>\n",
       "      <td>...</td>\n",
       "      <td>...</td>\n",
       "      <td>...</td>\n",
       "      <td>...</td>\n",
       "    </tr>\n",
       "    <tr>\n",
       "      <th>2023-01-05 19:00:00</th>\n",
       "      <td>4.627910</td>\n",
       "      <td>5.549465</td>\n",
       "      <td>9.731132</td>\n",
       "      <td>-2.610470</td>\n",
       "      <td>7.135441</td>\n",
       "      <td>1.743969</td>\n",
       "      <td>4.318021</td>\n",
       "      <td>-0.223519</td>\n",
       "      <td>2.584752</td>\n",
       "      <td>1.695983</td>\n",
       "    </tr>\n",
       "    <tr>\n",
       "      <th>2023-01-05 20:00:00</th>\n",
       "      <td>4.625953</td>\n",
       "      <td>5.548298</td>\n",
       "      <td>9.730451</td>\n",
       "      <td>-2.613468</td>\n",
       "      <td>7.133232</td>\n",
       "      <td>1.741343</td>\n",
       "      <td>4.317221</td>\n",
       "      <td>-0.225020</td>\n",
       "      <td>2.582487</td>\n",
       "      <td>1.694330</td>\n",
       "    </tr>\n",
       "    <tr>\n",
       "      <th>2023-01-05 21:00:00</th>\n",
       "      <td>4.615121</td>\n",
       "      <td>5.544396</td>\n",
       "      <td>9.727958</td>\n",
       "      <td>-2.624445</td>\n",
       "      <td>7.128897</td>\n",
       "      <td>1.736247</td>\n",
       "      <td>4.304470</td>\n",
       "      <td>-0.233068</td>\n",
       "      <td>2.574138</td>\n",
       "      <td>1.685473</td>\n",
       "    </tr>\n",
       "    <tr>\n",
       "      <th>2023-01-05 22:00:00</th>\n",
       "      <td>4.618086</td>\n",
       "      <td>5.546739</td>\n",
       "      <td>9.730894</td>\n",
       "      <td>-2.622377</td>\n",
       "      <td>7.129466</td>\n",
       "      <td>1.742219</td>\n",
       "      <td>4.305146</td>\n",
       "      <td>-0.235469</td>\n",
       "      <td>2.577942</td>\n",
       "      <td>1.689173</td>\n",
       "    </tr>\n",
       "    <tr>\n",
       "      <th>2023-01-05 23:00:00</th>\n",
       "      <td>4.621044</td>\n",
       "      <td>5.548298</td>\n",
       "      <td>9.731687</td>\n",
       "      <td>-2.625963</td>\n",
       "      <td>7.130187</td>\n",
       "      <td>1.743619</td>\n",
       "      <td>4.309053</td>\n",
       "      <td>-0.233825</td>\n",
       "      <td>2.587012</td>\n",
       "      <td>1.687139</td>\n",
       "    </tr>\n",
       "  </tbody>\n",
       "</table>\n",
       "<p>5256 rows × 10 columns</p>\n",
       "</div>"
      ],
      "text/plain": [
       "symbol                    bch       bnb        btc      doge       eth  \\\n",
       "datetime                                                                 \n",
       "2022-06-01 00:00:00  5.283204  5.777033  10.378417 -2.456436  7.587387   \n",
       "2022-06-01 01:00:00  5.284725  5.778271  10.377299 -2.454688  7.584468   \n",
       "2022-06-01 02:00:00  5.278625  5.767070  10.363533 -2.456203  7.567625   \n",
       "2022-06-01 03:00:00  5.285739  5.764564  10.361726 -2.453059  7.567454   \n",
       "2022-06-01 04:00:00  5.303802  5.769258  10.367651 -2.447380  7.577460   \n",
       "...                       ...       ...        ...       ...       ...   \n",
       "2023-01-05 19:00:00  4.627910  5.549465   9.731132 -2.610470  7.135441   \n",
       "2023-01-05 20:00:00  4.625953  5.548298   9.730451 -2.613468  7.133232   \n",
       "2023-01-05 21:00:00  4.615121  5.544396   9.727958 -2.624445  7.128897   \n",
       "2023-01-05 22:00:00  4.618086  5.546739   9.730894 -2.622377  7.129466   \n",
       "2023-01-05 23:00:00  4.621044  5.548298   9.731687 -2.625963  7.130187   \n",
       "\n",
       "symbol                   link       ltc     matic       sol       uni  \n",
       "datetime                                                               \n",
       "2022-06-01 00:00:00  2.014903  4.229749 -0.403467  3.834061  1.750937  \n",
       "2022-06-01 01:00:00  2.010895  4.231204 -0.400478  3.832763  1.750937  \n",
       "2022-06-01 02:00:00  1.998774  4.212128 -0.420071  3.816833  1.728109  \n",
       "2022-06-01 03:00:00  1.998774  4.218036 -0.420071  3.818371  1.726332  \n",
       "2022-06-01 04:00:00  2.018895  4.226834 -0.410980  3.825157  1.738710  \n",
       "...                       ...       ...       ...       ...       ...  \n",
       "2023-01-05 19:00:00  1.743969  4.318021 -0.223519  2.584752  1.695983  \n",
       "2023-01-05 20:00:00  1.741343  4.317221 -0.225020  2.582487  1.694330  \n",
       "2023-01-05 21:00:00  1.736247  4.304470 -0.233068  2.574138  1.685473  \n",
       "2023-01-05 22:00:00  1.742219  4.305146 -0.235469  2.577942  1.689173  \n",
       "2023-01-05 23:00:00  1.743619  4.309053 -0.233825  2.587012  1.687139  \n",
       "\n",
       "[5256 rows x 10 columns]"
      ]
     },
     "execution_count": 15,
     "metadata": {},
     "output_type": "execute_result"
    }
   ],
   "source": [
    "logPriceDf"
   ]
  },
  {
   "cell_type": "code",
   "execution_count": 16,
   "metadata": {},
   "outputs": [],
   "source": [
    "periodParam = 7"
   ]
  },
  {
   "cell_type": "code",
   "execution_count": 17,
   "metadata": {},
   "outputs": [],
   "source": [
    "corrEthBtc = logPriceDf['btc'].rolling(168).corr(logPriceDf['eth'])"
   ]
  },
  {
   "cell_type": "code",
   "execution_count": 18,
   "metadata": {},
   "outputs": [
    {
     "data": {
      "text/plain": [
       "<AxesSubplot:xlabel='datetime'>"
      ]
     },
     "execution_count": 18,
     "metadata": {},
     "output_type": "execute_result"
    }
   ],
   "source": [
    "corrEthBtc.plot()"
   ]
  },
  {
   "cell_type": "code",
   "execution_count": 19,
   "metadata": {},
   "outputs": [],
   "source": [
    "corrBnbBtc = logPriceDf['btc'].rolling(168).corr(logPriceDf['bnb'])"
   ]
  },
  {
   "cell_type": "code",
   "execution_count": 20,
   "metadata": {},
   "outputs": [
    {
     "data": {
      "text/plain": [
       "<AxesSubplot:xlabel='datetime'>"
      ]
     },
     "execution_count": 20,
     "metadata": {},
     "output_type": "execute_result"
    },
    {
     "data": {
      "image/png": "[encoded data removed]",
      "text/plain": [
       "<Figure size 432x288 with 1 Axes>"
      ]
     },
     "metadata": {
      "needs_background": "light"
     },
     "output_type": "display_data"
    }
   ],
   "source": [
    "corrBnbBtc.plot()"
   ]
  },
  {
   "cell_type": "code",
   "execution_count": null,
   "metadata": {},
   "outputs": [],
   "source": []
  },
  {
   "cell_type": "code",
   "execution_count": 21,
   "metadata": {},
   "outputs": [],
   "source": [
    "def absorption_ratio(logReturn):\n",
    "    '''\n",
    "    Calculate absorption ratio via PCA.\n",
    "    Arguments:\n",
    "    explained_variance -- 1D np.array of explained variance by each pricincipal component, in descending order\n",
    "    \n",
    "    n_components -- an integer, a number of principal components to compute absorption ratio\n",
    "    \n",
    "    Return:\n",
    "    ar -- absorption ratio\n",
    "    '''\n",
    "    num = len(logReturn[0])\n",
    "    pca = PCA(n_components=num)\n",
    "    pca.fit(logReturn)\n",
    "    explained_variance1 = pca.explained_variance_ratio_[0]\n",
    "    explained_variance_sum = np.sum(pca.explained_variance_ratio_)\n",
    "    ar = explained_variance1/ explained_variance_sum\n",
    "    return ar"
   ]
  },
  {
   "cell_type": "code",
   "execution_count": 22,
   "metadata": {},
   "outputs": [],
   "source": [
    "# logPriceDf.tail()"
   ]
  },
  {
   "cell_type": "code",
   "execution_count": 23,
   "metadata": {},
   "outputs": [],
   "source": [
    "ar_param = 168\n",
    "pcaDict = {}\n",
    "for i in range(len(logPriceDf)-ar_param):\n",
    "    pcaDict[logPriceDf.iloc[i+ar_param].name] = absorption_ratio(np.array(logPriceDf.iloc[i:i+ar_param]))"
   ]
  },
  {
   "cell_type": "code",
   "execution_count": 24,
   "metadata": {},
   "outputs": [
    {
     "data": {
      "text/plain": [
       "<AxesSubplot:>"
      ]
     },
     "execution_count": 24,
     "metadata": {},
     "output_type": "execute_result"
    },
    {
     "data": {
      "image/png": "[encoded data removed]",
      "text/plain": [
       "<Figure size 432x288 with 1 Axes>"
      ]
     },
     "metadata": {
      "needs_background": "light"
     },
     "output_type": "display_data"
    }
   ],
   "source": [
    "pd.Series(pcaDict).plot()"
   ]
  }
 ],
 "metadata": {
  "kernelspec": {
   "display_name": "Python 3",
   "language": "python",
   "name": "python3"
  },
  "language_info": {
   "codemirror_mode": {
    "name": "ipython",
    "version": 3
   },
   "file_extension": ".py",
   "mimetype": "text/x-python",
   "name": "python",
   "nbconvert_exporter": "python",
   "pygments_lexer": "ipython3",
   "version": "3.7.4"
  }
 },
 "nbformat": 4,
 "nbformat_minor": 2
}
