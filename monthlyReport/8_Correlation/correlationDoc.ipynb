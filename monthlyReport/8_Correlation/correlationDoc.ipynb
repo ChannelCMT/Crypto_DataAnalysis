{
 "cells": [
  {
   "cell_type": "code",
   "execution_count": 2,
   "metadata": {},
   "outputs": [],
   "source": [
    "from docx import Document\n",
    "from docx.shared import Inches\n",
    "import pandas as pd\n",
    "from docx.enum.style import WD_STYLE_TYPE"
   ]
  },
  {
   "cell_type": "code",
   "execution_count": 3,
   "metadata": {},
   "outputs": [],
   "source": [
    "document = Document()\n",
    "styles = document.styles\n",
    "# table_styles = [s for s in styles if s.type == WD_STYLE_TYPE.TABLE]\n",
    "# for style in table_styles:\n",
    "#     print(style.name)\n",
    "document.add_heading('Weekly Report of DcBot', 0)\n",
    "\n",
    "# p = document.add_paragraph('A plain paragraph having some ')\n",
    "# p.add_run('bold').bold = True\n",
    "# p.add_run(' and some ')\n",
    "# p.add_run('italic.').italic = True\n",
    "def creatTableFromDataFrame(df, table):\n",
    "    for j in range(df.shape[-1]):\n",
    "        table.cell(0,j).text = df.columns[j]\n",
    "        if j == 0:\n",
    "            table.cell(0,j).width = Inches(4)\n",
    "        else:\n",
    "            table.cell(0,j).width = Inches(1)\n",
    "    # add the rest of the data frame\n",
    "    for i in range(df.shape[0]):\n",
    "        for j in range(df.shape[-1]):\n",
    "            table.cell(i+1,j).text = str(df.values[i,j])\n",
    "\n",
    "pVolatility = document.add_paragraph('')\n",
    "pVolatility.add_run('7. 相关性分析_市场的一致性').bold = True\n",
    "pVolatility.add_run('本周相关性开始升高，市场一致向上涨了一段。').bold = True\n",
    "document.add_paragraph('相关性显示了两个变量之间关系的强度，并通过相关系数数值表示。相关系数的取值范围在-1.0和1.0之间。')\n",
    "document.add_picture('corr.png', width=Inches(6.2), height=Inches(6.2))\n",
    "document.add_paragraph('上图为多个币种过去一周的相关性情况。')\n",
    "document.add_paragraph('当相关性高，各个币种无独立行情；当相关性低，行情不一致，统计套利策略在低相关的差异环境下表现较好。')\n",
    "\n",
    "document.add_paragraph('Absorption 指标代表所有币种的相关性，相关性高时市场行为较为一致，CTA策略一般在一致行情下表现较好。')\n",
    "document.add_picture('arNorMaDiff.png', width=Inches(6.2), height=Inches(6.2))\n",
    "document.add_paragraph('上图为一周的Absorption Ratio与过去两个月的Absorption Ratio做标准化的情况。')\n",
    "\n",
    "arNorChangeExcel = pd.read_excel('arNorChangeDfT.xlsx')\n",
    "arNorChangeDf = arNorChangeExcel.rename(columns={'Unnamed: 0': 'periodPctChange'})\n",
    "document.add_paragraph('表格显示Absorption Ratio不同时间长度的变化。')\n",
    "tableAr = document.add_table(arNorChangeDf.shape[0]+1,arNorChangeDf.shape[1],style = 'Light Grid Accent 1')\n",
    "creatTableFromDataFrame(round(arNorChangeDf, 2), tableAr)\n",
    "\n",
    "# document.add_paragraph('Intense quote', style='Intense Quote')\n",
    "# document.add_paragraph(\n",
    "#     'first item in unordered list', style='List Bullet'\n",
    "# )\n",
    "# document.add_paragraph(\n",
    "#     'first item in ordered list', style='List Number'\n",
    "# )\n",
    "\n",
    "document.add_page_break()\n",
    "\n",
    "document.save('arNor.docx')"
   ]
  },
  {
   "cell_type": "code",
   "execution_count": null,
   "metadata": {},
   "outputs": [],
   "source": []
  },
  {
   "cell_type": "code",
   "execution_count": null,
   "metadata": {},
   "outputs": [],
   "source": []
  }
 ],
 "metadata": {
  "kernelspec": {
   "display_name": "Python 3",
   "language": "python",
   "name": "python3"
  },
  "language_info": {
   "codemirror_mode": {
    "name": "ipython",
    "version": 3
   },
   "file_extension": ".py",
   "mimetype": "text/x-python",
   "name": "python",
   "nbconvert_exporter": "python",
   "pygments_lexer": "ipython3",
   "version": "3.7.4"
  }
 },
 "nbformat": 4,
 "nbformat_minor": 2
}
