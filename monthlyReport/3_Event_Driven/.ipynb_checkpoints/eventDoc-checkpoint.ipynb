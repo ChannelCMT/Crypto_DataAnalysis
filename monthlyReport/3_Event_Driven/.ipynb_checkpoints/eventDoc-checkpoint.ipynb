{
 "cells": [
  {
   "cell_type": "code",
   "execution_count": 1,
   "metadata": {},
   "outputs": [],
   "source": [
    "from docx import Document\n",
    "from docx.shared import Inches\n",
    "import pandas as pd\n",
    "from docx.enum.style import WD_STYLE_TYPE"
   ]
  },
  {
   "cell_type": "code",
   "execution_count": 2,
   "metadata": {},
   "outputs": [],
   "source": [
    "document = Document()\n",
    "styles = document.styles\n",
    "document.add_heading('Monthlyly Report of DcBot', 0)\n",
    "\n",
    "# p = document.add_paragraph('A plain paragraph having some ')\n",
    "# p.add_run('bold').bold = True\n",
    "# p.add_run(' and some ')\n",
    "# p.add_run('italic.').italic = True\n",
    "def creatTableFromDataFrame(df, table):\n",
    "    for j in range(df.shape[-1]):\n",
    "        table.cell(0,j).text = df.columns[j]\n",
    "        if j == 0:\n",
    "            table.cell(0,j).width = Inches(4)\n",
    "        else:\n",
    "            table.cell(0,j).width = Inches(1)\n",
    "    # add the rest of the data frame\n",
    "    for i in range(df.shape[0]):\n",
    "        for j in range(df.shape[-1]):\n",
    "            table.cell(i+1,j).text = str(df.values[i,j])\n",
    "            \n",
    "def creatTableFromDataFrameSameSize(df, table):\n",
    "    for j in range(df.shape[-1]):\n",
    "        table.cell(0,j).text = df.columns[j]\n",
    "    # add the rest of the data frame\n",
    "    for i in range(df.shape[0]):\n",
    "        for j in range(df.shape[-1]):\n",
    "            table.cell(i+1,j).text = str(df.values[i,j])\n",
    "            \n",
    "weeklyVolatility = document.add_paragraph()\n",
    "weeklyVolatility.add_run('2023年1月美国数据公布重要数据的事件与价格变化').bold = True\n",
    "document.add_paragraph('非农数据(non-farm payrolls)：')\n",
    "document.add_picture('nfpData.png', width=Inches(6.2), height=Inches(2.5))\n",
    "document.add_picture('priceAfterNfp.png', width=Inches(6.2), height=Inches(2.5))\n",
    "document.add_paragraph('本月的非农数据公布后都有小幅上涨，事件驱动策略开多进场。')\n",
    "eventTimeExcel = pd.read_excel('nfpEvent.xlsx')\n",
    "# eventTimeDf = eventTimeExcel.drop(columns = 'Unnamed: 0')\n",
    "eventTimeDf = eventTimeExcel\n",
    "eventTimeTable = document.add_table(eventTimeDf.shape[0]+1,eventTimeDf.shape[1],style = 'Light Grid Accent 1')\n",
    "creatTableFromDataFrameSameSize(eventTimeDf, eventTimeTable)\n",
    "\n",
    "document.add_paragraph('消费者物价指数(CPI)：')\n",
    "document.add_picture('cpiData.png', width=Inches(6.2), height=Inches(2.5))\n",
    "document.add_picture('priceAfterCpi.png', width=Inches(6.2), height=Inches(2.5))\n",
    "document.add_paragraph('本月的CPI数据公布后都有大幅上涨，事件驱动策略开多进场。')\n",
    "eventTimeExcel = pd.read_excel('cpiEvent.xlsx')\n",
    "\n",
    "document.add_page_break()\n",
    "\n",
    "document.save('eventDriven.docx')"
   ]
  },
  {
   "cell_type": "code",
   "execution_count": null,
   "metadata": {},
   "outputs": [],
   "source": []
  }
 ],
 "metadata": {
  "kernelspec": {
   "display_name": "Python 3",
   "language": "python",
   "name": "python3"
  },
  "language_info": {
   "codemirror_mode": {
    "name": "ipython",
    "version": 3
   },
   "file_extension": ".py",
   "mimetype": "text/x-python",
   "name": "python",
   "nbconvert_exporter": "python",
   "pygments_lexer": "ipython3",
   "version": "3.7.4"
  }
 },
 "nbformat": 4,
 "nbformat_minor": 2
}
