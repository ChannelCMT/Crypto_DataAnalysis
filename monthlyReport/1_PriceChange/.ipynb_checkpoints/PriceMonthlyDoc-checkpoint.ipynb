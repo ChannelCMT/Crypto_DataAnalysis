{
 "cells": [
  {
   "cell_type": "code",
   "execution_count": 8,
   "metadata": {},
   "outputs": [],
   "source": [
    "from docx import Document\n",
    "from docx.shared import Inches\n",
    "import pandas as pd\n",
    "from docx.enum.style import WD_STYLE_TYPE"
   ]
  },
  {
   "cell_type": "code",
   "execution_count": 18,
   "metadata": {},
   "outputs": [],
   "source": [
    "document = Document()\n",
    "styles = document.styles\n",
    "# table_styles = [s for s in styles if s.type == WD_STYLE_TYPE.TABLE]\n",
    "# for style in table_styles:\n",
    "#     print(style.name)\n",
    "document.add_heading('Weekly Report of DcBot', 0)\n",
    "\n",
    "# p = document.add_paragraph('A plain paragraph having some ')\n",
    "# p.add_run('bold').bold = True\n",
    "# p.add_run(' and some ')\n",
    "# p.add_run('italic.').italic = True\n",
    "def creatTableFromDataFrame(df, table):\n",
    "    for j in range(df.shape[-1]):\n",
    "        table.cell(0,j).text = df.columns[j]\n",
    "        if j == 0:\n",
    "            table.cell(0,j).width = Inches(3)\n",
    "        else:\n",
    "            table.cell(0,j).width = Inches(1)\n",
    "    # add the rest of the data frame\n",
    "    for i in range(df.shape[0]):\n",
    "        for j in range(df.shape[-1]):\n",
    "            table.cell(i+1,j).text = str(df.values[i,j])\n",
    "\n",
    "pVolatility = document.add_paragraph()\n",
    "pVolatility.add_run('1. 价格走势与变化率').bold = True\n",
    "document.add_paragraph('本月的价格走势与每周的变化率。')\n",
    "document.add_picture('coin1_price.png', width=Inches(6.2), height=Inches(2))\n",
    "document.add_paragraph('-上图是BTC本月的价格图')\n",
    "document.add_picture('coin2_price.png', width=Inches(6.2), height=Inches(2))\n",
    "document.add_paragraph('-上图是ETH本月的价格图')\n",
    "\n",
    "dataExcel = pd.read_excel('PricePctChange.xlsx')\n",
    "dataDf = dataExcel.rename(columns={'Unnamed: 0': 'pctChange'})\n",
    "document.add_paragraph('表格显示过去一个月中每周的价格变化率')\n",
    "dataTable = document.add_table(dataDf.shape[0]+1,dataDf.shape[1],style = 'Light Grid Accent 1')\n",
    "creatTableFromDataFrame(dataDf, dataTable)\n",
    "\n",
    "# document.add_paragraph('Intense quote', style='Intense Quote')\n",
    "# document.add_paragraph(\n",
    "#     'first item in unordered list', style='List Bullet'\n",
    "# )\n",
    "# document.add_paragraph(\n",
    "#     'first item in ordered list', style='List Number'\n",
    "# )\n",
    "\n",
    "document.add_page_break()\n",
    "\n",
    "document.save('priceChange.docx')"
   ]
  },
  {
   "cell_type": "code",
   "execution_count": null,
   "metadata": {},
   "outputs": [],
   "source": []
  }
 ],
 "metadata": {
  "kernelspec": {
   "display_name": "Python 3",
   "language": "python",
   "name": "python3"
  },
  "language_info": {
   "codemirror_mode": {
    "name": "ipython",
    "version": 3
   },
   "file_extension": ".py",
   "mimetype": "text/x-python",
   "name": "python",
   "nbconvert_exporter": "python",
   "pygments_lexer": "ipython3",
   "version": "3.7.4"
  }
 },
 "nbformat": 4,
 "nbformat_minor": 2
}
