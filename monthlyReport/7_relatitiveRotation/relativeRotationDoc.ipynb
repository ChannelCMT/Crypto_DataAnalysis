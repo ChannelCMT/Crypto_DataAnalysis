{
 "cells": [
  {
   "cell_type": "code",
   "execution_count": 2,
   "metadata": {},
   "outputs": [],
   "source": [
    "from docx import Document\n",
    "from docx.shared import Inches\n",
    "import pandas as pd\n",
    "from docx.enum.style import WD_STYLE_TYPE"
   ]
  },
  {
   "cell_type": "code",
   "execution_count": 5,
   "metadata": {},
   "outputs": [],
   "source": [
    "document = Document()\n",
    "styles = document.styles\n",
    "# table_styles = [s for s in styles if s.type == WD_STYLE_TYPE.TABLE]\n",
    "# for style in table_styles:\n",
    "#     print(style.name)\n",
    "document.add_heading('Weekly Report of DcBot', 0)\n",
    "\n",
    "# p = document.add_paragraph('A plain paragraph having some ')\n",
    "# p.add_run('bold').bold = True\n",
    "# p.add_run(' and some ')\n",
    "# p.add_run('italic.').italic = True\n",
    "def creatTableFromDataFrame(df, table):\n",
    "    for j in range(df.shape[-1]):\n",
    "        table.cell(0,j).text = df.columns[j]\n",
    "        if j == 0:\n",
    "            table.cell(0,j).width = Inches(4)\n",
    "        else:\n",
    "            table.cell(0,j).width = Inches(1)\n",
    "    # add the rest of the data frame\n",
    "    for i in range(df.shape[0]):\n",
    "        for j in range(df.shape[-1]):\n",
    "            table.cell(i+1,j).text = str(df.values[i,j])\n",
    "\n",
    "pVolatility = document.add_paragraph()\n",
    "pVolatility.add_run('6. 相对轮动图_板块热点').bold = True\n",
    "\n",
    "document.add_paragraph('分析师可以使用相对轮动图来分析几种币相对于BTC基准的相对强度趋势。')\n",
    "document.add_paragraph('指标由一周的RS与过去一个月的RS做标准化。')\n",
    "document.add_picture('mainCoin.png', width=Inches(6.2), height=Inches(6.2))\n",
    "document.add_paragraph('上图为主流币过去一周的相对轮动情况。')\n",
    "document.add_paragraph('领先象限的符号应该在你的做多清单上，因为它们显示了相对的强度。在减弱象限的符号应该在您的做空观察列表中。滞后象限中的符号应该在做多列表中，因为它们显示了相对的弱点。改善象限中的符号应该作为潜在的品种出现在你的做多清单上。')\n",
    "\n",
    "document.add_picture('gameCoin.png', width=Inches(6.2), height=Inches(6.2))\n",
    "document.add_paragraph('上图为游戏币过去一周的相对轮动情况。')\n",
    "\n",
    "buyExcel = pd.read_excel('buyDf.xlsx')\n",
    "buyDf = buyExcel.rename(columns={'Unnamed: 0': 'Game Coin'})\n",
    "document.add_paragraph('表格显示目前可以放入做多清单的品种。')\n",
    "tableBuy = document.add_table(buyDf.shape[0]+1,buyDf.shape[1],style = 'Light Grid Accent 1')\n",
    "creatTableFromDataFrame(round(buyDf, 2), tableBuy)\n",
    "\n",
    "# document.add_paragraph('Intense quote', style='Intense Quote')\n",
    "# document.add_paragraph(\n",
    "#     'first item in unordered list', style='List Bullet'\n",
    "# )\n",
    "# document.add_paragraph(\n",
    "#     'first item in ordered list', style='List Number'\n",
    "# )\n",
    "\n",
    "document.add_page_break()\n",
    "\n",
    "document.save('rrgBuy.docx')"
   ]
  },
  {
   "cell_type": "code",
   "execution_count": null,
   "metadata": {},
   "outputs": [],
   "source": []
  },
  {
   "cell_type": "code",
   "execution_count": null,
   "metadata": {},
   "outputs": [],
   "source": []
  }
 ],
 "metadata": {
  "kernelspec": {
   "display_name": "Python 3",
   "language": "python",
   "name": "python3"
  },
  "language_info": {
   "codemirror_mode": {
    "name": "ipython",
    "version": 3
   },
   "file_extension": ".py",
   "mimetype": "text/x-python",
   "name": "python",
   "nbconvert_exporter": "python",
   "pygments_lexer": "ipython3",
   "version": "3.7.4"
  }
 },
 "nbformat": 4,
 "nbformat_minor": 2
}
