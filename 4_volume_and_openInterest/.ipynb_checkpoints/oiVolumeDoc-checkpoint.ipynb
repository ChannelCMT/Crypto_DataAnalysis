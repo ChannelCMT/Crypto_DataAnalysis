{
 "cells": [
  {
   "cell_type": "code",
   "execution_count": 5,
   "metadata": {},
   "outputs": [],
   "source": [
    "from docx import Document\n",
    "from docx.shared import Inches\n",
    "import pandas as pd\n",
    "from docx.enum.style import WD_STYLE_TYPE"
   ]
  },
  {
   "cell_type": "code",
   "execution_count": 8,
   "metadata": {},
   "outputs": [],
   "source": [
    "document = Document()\n",
    "styles = document.styles\n",
    "# table_styles = [s for s in styles if s.type == WD_STYLE_TYPE.TABLE]\n",
    "# for style in table_styles:\n",
    "#     print(style.name)\n",
    "document.add_heading('Weekly Report of DcBot', 0)\n",
    "\n",
    "# p = document.add_paragraph('A plain paragraph having some ')\n",
    "# p.add_run('bold').bold = True\n",
    "# p.add_run(' and some ')\n",
    "# p.add_run('italic.').italic = True\n",
    "def creatTableFromDataFrame(df, table):\n",
    "    for j in range(df.shape[-1]):\n",
    "        table.cell(0,j).text = df.columns[j]\n",
    "        if j == 0:\n",
    "            table.cell(0,j).width = Inches(4)\n",
    "        else:\n",
    "            table.cell(0,j).width = Inches(1)\n",
    "    # add the rest of the data frame\n",
    "    for i in range(df.shape[0]):\n",
    "        for j in range(df.shape[-1]):\n",
    "            table.cell(i+1,j).text = str(df.values[i,j])\n",
    "\n",
    "pVolatility = document.add_paragraph()\n",
    "pVolatility.add_run('5. 成交量与未平仓量的值与变化率').bold = True\n",
    "document.add_paragraph('成交量越大，代表人们对该币的兴趣就越大。投资者常将成交量视为价格走势强弱与流动性的指标。')\n",
    "document.add_paragraph('不断增加的未平仓头寸表明新的交易者正在进入市场，并可能被用来确认当前的市场趋势。未平仓头寸的下降表明交易员正在平仓，目前的趋势可能正在减弱。')\n",
    "document.add_picture('oiVolumePriceBtc.png', width=Inches(6.2), height=Inches(5))\n",
    "document.add_paragraph('上图最上方BTC的价格走势，中间是BTC成交量、过去一周成交量和一个月的成交量均值，最下方是BTC未平仓量、过去一周和一个月的未平仓量均值。')\n",
    "document.add_picture('oiVolumePriceBtc.png', width=Inches(6.2), height=Inches(5))\n",
    "document.add_paragraph('上图最上方ETH的价格走势，中间是ETH成交量、过去一周成交量和一个月的成交量均值，最下方是ETH未平仓量、过去一周和一个月的未平仓量均值。')\n",
    "\n",
    "document.add_paragraph('除了成交量和未平仓量指标本身，投资者可以通过关注长短期比率的变化率来及时察觉市场的变化。')\n",
    "document.add_picture('RatioChart.png', width=Inches(6.2), height=Inches(5))\n",
    "document.add_paragraph('上图最上方BTC与ETH的过去一周价格均值与一个月的价格均值比率的走势，中间是BTC与ETH的过去一周成交量均值与一个月的成交量均值比率的走势，最下方是BTC与ETH的的过去一周未平仓量均值与一个月的未平仓量均值比率的走势。')\n",
    "\n",
    "RatioPctChangeExcel = pd.read_excel('RatioPctChange.xlsx')\n",
    "RatioPctChangeDf = RatioPctChangeExcel.rename(columns={'Unnamed: 0': 'periodPctChange'})\n",
    "document.add_paragraph('表格显示价格、成交量与未平仓量的过去一周与一个月均值的比率在不同天数的变化率。')\n",
    "tableRatio = document.add_table(RatioPctChangeDf.shape[0]+1,RatioPctChangeDf.shape[1],style = 'Light Grid Accent 1')\n",
    "creatTableFromDataFrame(round(RatioPctChangeDf, 2), tableRatio)\n",
    "\n",
    "# document.add_paragraph('Intense quote', style='Intense Quote')\n",
    "# document.add_paragraph(\n",
    "#     'first item in unordered list', style='List Bullet'\n",
    "# )\n",
    "# document.add_paragraph(\n",
    "#     'first item in ordered list', style='List Number'\n",
    "# )\n",
    "\n",
    "document.add_page_break()\n",
    "\n",
    "document.save('oiVolumePrice.docx')"
   ]
  },
  {
   "cell_type": "code",
   "execution_count": null,
   "metadata": {},
   "outputs": [],
   "source": []
  }
 ],
 "metadata": {
  "kernelspec": {
   "display_name": "Python 3",
   "language": "python",
   "name": "python3"
  },
  "language_info": {
   "codemirror_mode": {
    "name": "ipython",
    "version": 3
   },
   "file_extension": ".py",
   "mimetype": "text/x-python",
   "name": "python",
   "nbconvert_exporter": "python",
   "pygments_lexer": "ipython3",
   "version": "3.7.4"
  }
 },
 "nbformat": 4,
 "nbformat_minor": 2
}
