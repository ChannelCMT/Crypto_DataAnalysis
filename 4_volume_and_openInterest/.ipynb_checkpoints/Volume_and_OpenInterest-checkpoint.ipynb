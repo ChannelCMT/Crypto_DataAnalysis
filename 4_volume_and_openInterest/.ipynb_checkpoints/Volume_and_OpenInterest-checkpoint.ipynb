{
 "cells": [
  {
   "cell_type": "markdown",
   "metadata": {},
   "source": [
    "## 成交量与未平仓量\n"
   ]
  },
  {
   "cell_type": "code",
   "execution_count": 1,
   "metadata": {},
   "outputs": [],
   "source": [
    "import warnings\n",
    "warnings.filterwarnings(\"ignore\")"
   ]
  },
  {
   "cell_type": "code",
   "execution_count": 2,
   "metadata": {},
   "outputs": [],
   "source": [
    "import pymongo\n",
    "import pandas as pd\n",
    "from datetime import datetime, timedelta\n",
    "import matplotlib.pyplot as plt\n",
    "import talib as ta"
   ]
  },
  {
   "cell_type": "code",
   "execution_count": 3,
   "metadata": {},
   "outputs": [],
   "source": [
    "symbolList = ['btc_usdt.spot:binance', 'eth_usdt.spot:binance']\n",
    "\n",
    "client = pymongo.MongoClient('172.16.20.81', 27017)"
   ]
  },
  {
   "cell_type": "code",
   "execution_count": 4,
   "metadata": {},
   "outputs": [],
   "source": [
    "def readDb(collection, start, end):\n",
    "    return pd.DataFrame(\n",
    "        list(collection.find({\"datetime\": {'$gt': start, '$lt': end}}))\n",
    "    )"
   ]
  },
  {
   "cell_type": "code",
   "execution_count": 5,
   "metadata": {},
   "outputs": [],
   "source": [
    "startTime = datetime(2022,11,12)\n",
    "endTime = datetime(2023,1,17)\n",
    "dbClient = client['Kline_1Min_Auto_Db_Plus']\n",
    "columnsName = ['open', 'high', 'low', 'close', 'volume','datetime']"
   ]
  },
  {
   "cell_type": "code",
   "execution_count": 6,
   "metadata": {},
   "outputs": [],
   "source": [
    "crytoDict = {\n",
    "                'btc':readDb(dbClient[symbolList[0]], start=startTime , end=endTime)[columnsName],\n",
    "                'eth':readDb(dbClient[symbolList[1]], start=startTime , end=endTime)[columnsName]\n",
    "            }"
   ]
  },
  {
   "cell_type": "code",
   "execution_count": 7,
   "metadata": {},
   "outputs": [],
   "source": [
    "def resampleDf(data, freq='H'):\n",
    "#     df = data.drop('_id', axis=1)\n",
    "    dataDf = data.set_index('datetime')\n",
    "    dataHourDf = dataDf.resample(freq).agg({'open':'first', 'high': 'max', 'low': 'min', 'close': 'last', 'volume':'sum'})\n",
    "    dataResetDf = dataHourDf.reset_index()\n",
    "    return dataResetDf\n",
    "\n",
    "def resampleOiDf(data, freq='H'):\n",
    "    dataDf = data.set_index('datetime')\n",
    "    dataHourDf = dataDf.resample(freq).agg({'oi':'last'})\n",
    "    dataResetDf = dataHourDf.reset_index()\n",
    "    return dataResetDf"
   ]
  },
  {
   "cell_type": "code",
   "execution_count": 8,
   "metadata": {},
   "outputs": [],
   "source": [
    "def addSymbol(dataDf, symbolName):  \n",
    "    dataDf['symbol'] = symbolName\n",
    "    return dataDf"
   ]
  },
  {
   "cell_type": "code",
   "execution_count": 9,
   "metadata": {},
   "outputs": [],
   "source": [
    "def setIndex(dataDf):\n",
    "    dataIndex = dataDf.set_index(['datetime', 'symbol'])\n",
    "    return dataIndex"
   ]
  },
  {
   "cell_type": "code",
   "execution_count": 10,
   "metadata": {},
   "outputs": [],
   "source": [
    "multiCryptoDict = {}\n",
    "for key, df in crytoDict.items():\n",
    "    hourDf = resampleDf(df)\n",
    "    hourSymbolDf = addSymbol(hourDf, key)\n",
    "    hourIndexDf = setIndex(hourSymbolDf)\n",
    "    multiCryptoDict[key] = hourIndexDf"
   ]
  },
  {
   "cell_type": "code",
   "execution_count": 11,
   "metadata": {},
   "outputs": [],
   "source": [
    "multiDf = pd.concat(list(multiCryptoDict.values())).sort_index()"
   ]
  },
  {
   "cell_type": "code",
   "execution_count": 12,
   "metadata": {},
   "outputs": [
    {
     "data": {
      "text/html": [
       "<div>\n",
       "<style scoped>\n",
       "    .dataframe tbody tr th:only-of-type {\n",
       "        vertical-align: middle;\n",
       "    }\n",
       "\n",
       "    .dataframe tbody tr th {\n",
       "        vertical-align: top;\n",
       "    }\n",
       "\n",
       "    .dataframe thead th {\n",
       "        text-align: right;\n",
       "    }\n",
       "</style>\n",
       "<table border=\"1\" class=\"dataframe\">\n",
       "  <thead>\n",
       "    <tr style=\"text-align: right;\">\n",
       "      <th></th>\n",
       "      <th></th>\n",
       "      <th>open</th>\n",
       "      <th>high</th>\n",
       "      <th>low</th>\n",
       "      <th>close</th>\n",
       "      <th>volume</th>\n",
       "    </tr>\n",
       "    <tr>\n",
       "      <th>datetime</th>\n",
       "      <th>symbol</th>\n",
       "      <th></th>\n",
       "      <th></th>\n",
       "      <th></th>\n",
       "      <th></th>\n",
       "      <th></th>\n",
       "    </tr>\n",
       "  </thead>\n",
       "  <tbody>\n",
       "    <tr>\n",
       "      <th rowspan=\"2\" valign=\"top\">2022-11-12 00:00:00</th>\n",
       "      <th>btc</th>\n",
       "      <td>16900.78</td>\n",
       "      <td>16934.50</td>\n",
       "      <td>16543.95</td>\n",
       "      <td>16836.28</td>\n",
       "      <td>17333.46290</td>\n",
       "    </tr>\n",
       "    <tr>\n",
       "      <th>eth</th>\n",
       "      <td>1262.54</td>\n",
       "      <td>1264.00</td>\n",
       "      <td>1233.24</td>\n",
       "      <td>1250.21</td>\n",
       "      <td>60945.74360</td>\n",
       "    </tr>\n",
       "    <tr>\n",
       "      <th rowspan=\"2\" valign=\"top\">2022-11-12 01:00:00</th>\n",
       "      <th>btc</th>\n",
       "      <td>16836.28</td>\n",
       "      <td>16963.71</td>\n",
       "      <td>16750.10</td>\n",
       "      <td>16909.31</td>\n",
       "      <td>13359.05393</td>\n",
       "    </tr>\n",
       "    <tr>\n",
       "      <th>eth</th>\n",
       "      <td>1250.21</td>\n",
       "      <td>1278.87</td>\n",
       "      <td>1246.88</td>\n",
       "      <td>1274.30</td>\n",
       "      <td>49711.20880</td>\n",
       "    </tr>\n",
       "    <tr>\n",
       "      <th>2022-11-12 02:00:00</th>\n",
       "      <th>btc</th>\n",
       "      <td>16909.31</td>\n",
       "      <td>17045.09</td>\n",
       "      <td>16802.07</td>\n",
       "      <td>16837.11</td>\n",
       "      <td>12471.61035</td>\n",
       "    </tr>\n",
       "    <tr>\n",
       "      <th>...</th>\n",
       "      <th>...</th>\n",
       "      <td>...</td>\n",
       "      <td>...</td>\n",
       "      <td>...</td>\n",
       "      <td>...</td>\n",
       "      <td>...</td>\n",
       "    </tr>\n",
       "    <tr>\n",
       "      <th>2023-01-16 21:00:00</th>\n",
       "      <th>eth</th>\n",
       "      <td>1539.00</td>\n",
       "      <td>1545.96</td>\n",
       "      <td>1539.00</td>\n",
       "      <td>1544.67</td>\n",
       "      <td>16589.62920</td>\n",
       "    </tr>\n",
       "    <tr>\n",
       "      <th rowspan=\"2\" valign=\"top\">2023-01-16 22:00:00</th>\n",
       "      <th>btc</th>\n",
       "      <td>20827.47</td>\n",
       "      <td>20894.00</td>\n",
       "      <td>20756.00</td>\n",
       "      <td>20860.68</td>\n",
       "      <td>9639.46153</td>\n",
       "    </tr>\n",
       "    <tr>\n",
       "      <th>eth</th>\n",
       "      <td>1544.67</td>\n",
       "      <td>1549.27</td>\n",
       "      <td>1531.79</td>\n",
       "      <td>1542.37</td>\n",
       "      <td>18182.38440</td>\n",
       "    </tr>\n",
       "    <tr>\n",
       "      <th rowspan=\"2\" valign=\"top\">2023-01-16 23:00:00</th>\n",
       "      <th>btc</th>\n",
       "      <td>20860.68</td>\n",
       "      <td>21053.89</td>\n",
       "      <td>20611.48</td>\n",
       "      <td>20994.17</td>\n",
       "      <td>25727.65916</td>\n",
       "    </tr>\n",
       "    <tr>\n",
       "      <th>eth</th>\n",
       "      <td>1542.37</td>\n",
       "      <td>1553.38</td>\n",
       "      <td>1521.31</td>\n",
       "      <td>1549.97</td>\n",
       "      <td>40169.96930</td>\n",
       "    </tr>\n",
       "  </tbody>\n",
       "</table>\n",
       "<p>3168 rows × 5 columns</p>\n",
       "</div>"
      ],
      "text/plain": [
       "                                open      high       low     close  \\\n",
       "datetime            symbol                                           \n",
       "2022-11-12 00:00:00 btc     16900.78  16934.50  16543.95  16836.28   \n",
       "                    eth      1262.54   1264.00   1233.24   1250.21   \n",
       "2022-11-12 01:00:00 btc     16836.28  16963.71  16750.10  16909.31   \n",
       "                    eth      1250.21   1278.87   1246.88   1274.30   \n",
       "2022-11-12 02:00:00 btc     16909.31  17045.09  16802.07  16837.11   \n",
       "...                              ...       ...       ...       ...   \n",
       "2023-01-16 21:00:00 eth      1539.00   1545.96   1539.00   1544.67   \n",
       "2023-01-16 22:00:00 btc     20827.47  20894.00  20756.00  20860.68   \n",
       "                    eth      1544.67   1549.27   1531.79   1542.37   \n",
       "2023-01-16 23:00:00 btc     20860.68  21053.89  20611.48  20994.17   \n",
       "                    eth      1542.37   1553.38   1521.31   1549.97   \n",
       "\n",
       "                                 volume  \n",
       "datetime            symbol               \n",
       "2022-11-12 00:00:00 btc     17333.46290  \n",
       "                    eth     60945.74360  \n",
       "2022-11-12 01:00:00 btc     13359.05393  \n",
       "                    eth     49711.20880  \n",
       "2022-11-12 02:00:00 btc     12471.61035  \n",
       "...                                 ...  \n",
       "2023-01-16 21:00:00 eth     16589.62920  \n",
       "2023-01-16 22:00:00 btc      9639.46153  \n",
       "                    eth     18182.38440  \n",
       "2023-01-16 23:00:00 btc     25727.65916  \n",
       "                    eth     40169.96930  \n",
       "\n",
       "[3168 rows x 5 columns]"
      ]
     },
     "execution_count": 12,
     "metadata": {},
     "output_type": "execute_result"
    }
   ],
   "source": [
    "multiDf"
   ]
  },
  {
   "cell_type": "code",
   "execution_count": 13,
   "metadata": {},
   "outputs": [],
   "source": [
    "# "
   ]
  },
  {
   "cell_type": "code",
   "execution_count": 14,
   "metadata": {},
   "outputs": [],
   "source": [
    "btcOi = pd.read_csv('btcOi.csv')\n",
    "ethOi = pd.read_csv('ethOi.csv')"
   ]
  },
  {
   "cell_type": "code",
   "execution_count": 15,
   "metadata": {},
   "outputs": [
    {
     "data": {
      "text/html": [
       "<div>\n",
       "<style scoped>\n",
       "    .dataframe tbody tr th:only-of-type {\n",
       "        vertical-align: middle;\n",
       "    }\n",
       "\n",
       "    .dataframe tbody tr th {\n",
       "        vertical-align: top;\n",
       "    }\n",
       "\n",
       "    .dataframe thead th {\n",
       "        text-align: right;\n",
       "    }\n",
       "</style>\n",
       "<table border=\"1\" class=\"dataframe\">\n",
       "  <thead>\n",
       "    <tr style=\"text-align: right;\">\n",
       "      <th></th>\n",
       "      <th>Unnamed: 0</th>\n",
       "      <th>timestamp</th>\n",
       "      <th>oi</th>\n",
       "      <th>notional</th>\n",
       "      <th>datetime</th>\n",
       "    </tr>\n",
       "  </thead>\n",
       "  <tbody>\n",
       "    <tr>\n",
       "      <th>14395</th>\n",
       "      <td>14395</td>\n",
       "      <td>1669557900</td>\n",
       "      <td>126147.817</td>\n",
       "      <td>2.085349e+09</td>\n",
       "      <td>2022-11-27 22:05:00</td>\n",
       "    </tr>\n",
       "    <tr>\n",
       "      <th>14396</th>\n",
       "      <td>14396</td>\n",
       "      <td>1669557600</td>\n",
       "      <td>126088.347</td>\n",
       "      <td>2.084389e+09</td>\n",
       "      <td>2022-11-27 22:00:00</td>\n",
       "    </tr>\n",
       "    <tr>\n",
       "      <th>14397</th>\n",
       "      <td>14397</td>\n",
       "      <td>1669557300</td>\n",
       "      <td>126056.561</td>\n",
       "      <td>2.084484e+09</td>\n",
       "      <td>2022-11-27 21:55:00</td>\n",
       "    </tr>\n",
       "    <tr>\n",
       "      <th>14398</th>\n",
       "      <td>14398</td>\n",
       "      <td>1669557000</td>\n",
       "      <td>125928.530</td>\n",
       "      <td>2.080881e+09</td>\n",
       "      <td>2022-11-27 21:50:00</td>\n",
       "    </tr>\n",
       "    <tr>\n",
       "      <th>14399</th>\n",
       "      <td>14399</td>\n",
       "      <td>1669556700</td>\n",
       "      <td>126022.495</td>\n",
       "      <td>2.082673e+09</td>\n",
       "      <td>2022-11-27 21:45:00</td>\n",
       "    </tr>\n",
       "  </tbody>\n",
       "</table>\n",
       "</div>"
      ],
      "text/plain": [
       "       Unnamed: 0   timestamp          oi      notional             datetime\n",
       "14395       14395  1669557900  126147.817  2.085349e+09  2022-11-27 22:05:00\n",
       "14396       14396  1669557600  126088.347  2.084389e+09  2022-11-27 22:00:00\n",
       "14397       14397  1669557300  126056.561  2.084484e+09  2022-11-27 21:55:00\n",
       "14398       14398  1669557000  125928.530  2.080881e+09  2022-11-27 21:50:00\n",
       "14399       14399  1669556700  126022.495  2.082673e+09  2022-11-27 21:45:00"
      ]
     },
     "execution_count": 15,
     "metadata": {},
     "output_type": "execute_result"
    }
   ],
   "source": [
    "btcOi.tail()"
   ]
  },
  {
   "cell_type": "code",
   "execution_count": 16,
   "metadata": {},
   "outputs": [],
   "source": [
    "btcOiDf = btcOi[['oi', 'notional', 'datetime']]\n",
    "ethOiDf = ethOi[['oi', 'notional', 'datetime']]"
   ]
  },
  {
   "cell_type": "code",
   "execution_count": 17,
   "metadata": {},
   "outputs": [],
   "source": [
    "btcOiDf['datetime'] = list(map(lambda dt: datetime.strptime(dt, \"%Y-%m-%d %H:%M:%S\"), btcOiDf['datetime']))\n",
    "ethOiDf['datetime'] = list(map(lambda dt: datetime.strptime(dt, \"%Y-%m-%d %H:%M:%S\"), ethOiDf['datetime']))"
   ]
  },
  {
   "cell_type": "code",
   "execution_count": 18,
   "metadata": {},
   "outputs": [],
   "source": [
    "btcOi = setIndex(addSymbol(resampleOiDf(btcOiDf), 'btc'))\n",
    "ethOi = setIndex(addSymbol(resampleOiDf(ethOiDf), 'eth'))"
   ]
  },
  {
   "cell_type": "code",
   "execution_count": 19,
   "metadata": {},
   "outputs": [],
   "source": [
    "oiDf = pd.concat([btcOi, ethOi]).sort_index()"
   ]
  },
  {
   "cell_type": "code",
   "execution_count": 20,
   "metadata": {},
   "outputs": [],
   "source": [
    "oiVolumeDf = pd.concat([multiDf, oiDf], axis=1).dropna()"
   ]
  },
  {
   "cell_type": "code",
   "execution_count": 21,
   "metadata": {},
   "outputs": [
    {
     "data": {
      "text/html": [
       "<div>\n",
       "<style scoped>\n",
       "    .dataframe tbody tr th:only-of-type {\n",
       "        vertical-align: middle;\n",
       "    }\n",
       "\n",
       "    .dataframe tbody tr th {\n",
       "        vertical-align: top;\n",
       "    }\n",
       "\n",
       "    .dataframe thead th {\n",
       "        text-align: right;\n",
       "    }\n",
       "</style>\n",
       "<table border=\"1\" class=\"dataframe\">\n",
       "  <thead>\n",
       "    <tr style=\"text-align: right;\">\n",
       "      <th></th>\n",
       "      <th></th>\n",
       "      <th>open</th>\n",
       "      <th>high</th>\n",
       "      <th>low</th>\n",
       "      <th>close</th>\n",
       "      <th>volume</th>\n",
       "      <th>oi</th>\n",
       "    </tr>\n",
       "    <tr>\n",
       "      <th>datetime</th>\n",
       "      <th>symbol</th>\n",
       "      <th></th>\n",
       "      <th></th>\n",
       "      <th></th>\n",
       "      <th></th>\n",
       "      <th></th>\n",
       "      <th></th>\n",
       "    </tr>\n",
       "  </thead>\n",
       "  <tbody>\n",
       "    <tr>\n",
       "      <th rowspan=\"2\" valign=\"top\">2022-11-27 21:00:00</th>\n",
       "      <th>btc</th>\n",
       "      <td>16559.86</td>\n",
       "      <td>16565.30</td>\n",
       "      <td>16524.00</td>\n",
       "      <td>16539.51</td>\n",
       "      <td>5380.57141</td>\n",
       "      <td>126056.561</td>\n",
       "    </tr>\n",
       "    <tr>\n",
       "      <th>eth</th>\n",
       "      <td>1214.41</td>\n",
       "      <td>1215.03</td>\n",
       "      <td>1211.00</td>\n",
       "      <td>1212.58</td>\n",
       "      <td>8562.74600</td>\n",
       "      <td>1240776.321</td>\n",
       "    </tr>\n",
       "    <tr>\n",
       "      <th rowspan=\"2\" valign=\"top\">2022-11-27 22:00:00</th>\n",
       "      <th>btc</th>\n",
       "      <td>16539.51</td>\n",
       "      <td>16557.05</td>\n",
       "      <td>16520.00</td>\n",
       "      <td>16539.48</td>\n",
       "      <td>5377.51975</td>\n",
       "      <td>126156.901</td>\n",
       "    </tr>\n",
       "    <tr>\n",
       "      <th>eth</th>\n",
       "      <td>1212.58</td>\n",
       "      <td>1216.00</td>\n",
       "      <td>1210.68</td>\n",
       "      <td>1212.86</td>\n",
       "      <td>7383.78590</td>\n",
       "      <td>1236611.256</td>\n",
       "    </tr>\n",
       "    <tr>\n",
       "      <th>2022-11-27 23:00:00</th>\n",
       "      <th>btc</th>\n",
       "      <td>16539.48</td>\n",
       "      <td>16586.74</td>\n",
       "      <td>16520.26</td>\n",
       "      <td>16574.28</td>\n",
       "      <td>7318.19698</td>\n",
       "      <td>126658.426</td>\n",
       "    </tr>\n",
       "    <tr>\n",
       "      <th>...</th>\n",
       "      <th>...</th>\n",
       "      <td>...</td>\n",
       "      <td>...</td>\n",
       "      <td>...</td>\n",
       "      <td>...</td>\n",
       "      <td>...</td>\n",
       "      <td>...</td>\n",
       "    </tr>\n",
       "    <tr>\n",
       "      <th>2023-01-16 19:00:00</th>\n",
       "      <th>eth</th>\n",
       "      <td>1546.98</td>\n",
       "      <td>1548.40</td>\n",
       "      <td>1539.54</td>\n",
       "      <td>1542.32</td>\n",
       "      <td>10625.97130</td>\n",
       "      <td>1079223.391</td>\n",
       "    </tr>\n",
       "    <tr>\n",
       "      <th rowspan=\"2\" valign=\"top\">2023-01-16 20:00:00</th>\n",
       "      <th>btc</th>\n",
       "      <td>20816.63</td>\n",
       "      <td>20867.41</td>\n",
       "      <td>20777.04</td>\n",
       "      <td>20787.54</td>\n",
       "      <td>6307.52686</td>\n",
       "      <td>95390.122</td>\n",
       "    </tr>\n",
       "    <tr>\n",
       "      <th>eth</th>\n",
       "      <td>1542.31</td>\n",
       "      <td>1546.18</td>\n",
       "      <td>1537.85</td>\n",
       "      <td>1539.00</td>\n",
       "      <td>10262.42080</td>\n",
       "      <td>1084558.159</td>\n",
       "    </tr>\n",
       "    <tr>\n",
       "      <th rowspan=\"2\" valign=\"top\">2023-01-16 21:00:00</th>\n",
       "      <th>btc</th>\n",
       "      <td>20787.54</td>\n",
       "      <td>20870.00</td>\n",
       "      <td>20766.35</td>\n",
       "      <td>20827.47</td>\n",
       "      <td>6940.34226</td>\n",
       "      <td>95509.777</td>\n",
       "    </tr>\n",
       "    <tr>\n",
       "      <th>eth</th>\n",
       "      <td>1539.00</td>\n",
       "      <td>1545.96</td>\n",
       "      <td>1539.00</td>\n",
       "      <td>1544.67</td>\n",
       "      <td>16589.62920</td>\n",
       "      <td>1086907.569</td>\n",
       "    </tr>\n",
       "  </tbody>\n",
       "</table>\n",
       "<p>2402 rows × 6 columns</p>\n",
       "</div>"
      ],
      "text/plain": [
       "                                open      high       low     close  \\\n",
       "datetime            symbol                                           \n",
       "2022-11-27 21:00:00 btc     16559.86  16565.30  16524.00  16539.51   \n",
       "                    eth      1214.41   1215.03   1211.00   1212.58   \n",
       "2022-11-27 22:00:00 btc     16539.51  16557.05  16520.00  16539.48   \n",
       "                    eth      1212.58   1216.00   1210.68   1212.86   \n",
       "2022-11-27 23:00:00 btc     16539.48  16586.74  16520.26  16574.28   \n",
       "...                              ...       ...       ...       ...   \n",
       "2023-01-16 19:00:00 eth      1546.98   1548.40   1539.54   1542.32   \n",
       "2023-01-16 20:00:00 btc     20816.63  20867.41  20777.04  20787.54   \n",
       "                    eth      1542.31   1546.18   1537.85   1539.00   \n",
       "2023-01-16 21:00:00 btc     20787.54  20870.00  20766.35  20827.47   \n",
       "                    eth      1539.00   1545.96   1539.00   1544.67   \n",
       "\n",
       "                                 volume           oi  \n",
       "datetime            symbol                            \n",
       "2022-11-27 21:00:00 btc      5380.57141   126056.561  \n",
       "                    eth      8562.74600  1240776.321  \n",
       "2022-11-27 22:00:00 btc      5377.51975   126156.901  \n",
       "                    eth      7383.78590  1236611.256  \n",
       "2022-11-27 23:00:00 btc      7318.19698   126658.426  \n",
       "...                                 ...          ...  \n",
       "2023-01-16 19:00:00 eth     10625.97130  1079223.391  \n",
       "2023-01-16 20:00:00 btc      6307.52686    95390.122  \n",
       "                    eth     10262.42080  1084558.159  \n",
       "2023-01-16 21:00:00 btc      6940.34226    95509.777  \n",
       "                    eth     16589.62920  1086907.569  \n",
       "\n",
       "[2402 rows x 6 columns]"
      ]
     },
     "execution_count": 21,
     "metadata": {},
     "output_type": "execute_result"
    }
   ],
   "source": [
    "oiVolumeDf"
   ]
  },
  {
   "cell_type": "code",
   "execution_count": 22,
   "metadata": {},
   "outputs": [],
   "source": [
    "btcOiVolumeDf = oiVolumeDf.loc[:,pd.IndexSlice['btc'],:]\n",
    "ethOiVolumeDf = oiVolumeDf.loc[:,pd.IndexSlice['eth'],:]"
   ]
  },
  {
   "cell_type": "code",
   "execution_count": 23,
   "metadata": {},
   "outputs": [],
   "source": [
    "shortPeriod = 168\n",
    "longPeriod = shortPeriod*4"
   ]
  },
  {
   "cell_type": "code",
   "execution_count": 46,
   "metadata": {},
   "outputs": [
    {
     "data": {
      "image/png": "[encoded data removed]",
      "text/plain": [
       "<Figure size 1080x720 with 3 Axes>"
      ]
     },
     "metadata": {
      "needs_background": "light"
     },
     "output_type": "display_data"
    }
   ],
   "source": [
    "last7Day = 7*24\n",
    "figBtc, (axBtc, ax1Btc, ax2Btc) = plt.subplots(3,1,sharex=True, figsize=(15,10))\n",
    "# figBtc.subplots_adjust(bottom=0.5)\n",
    "axBtc.grid(True)\n",
    "axBtc.plot(btcOiVolumeDf.iloc[-last7Day:].close, label='btcPrice')\n",
    "axBtc.legend()\n",
    "ax1Btc.bar(btcOiVolumeDf.iloc[-last7Day:].index, btcOiVolumeDf.iloc[-last7Day:].volume, color='g', width=0.045, label='btcVolume')\n",
    "ax1Btc.plot(ta.MA(btcOiVolumeDf.volume, shortPeriod).iloc[-last7Day:], color='r', label='btcWeeklyVolumeMean')\n",
    "ax1Btc.plot(ta.MA(btcOiVolumeDf.volume, longPeriod).iloc[-last7Day:], color='b', label='btcMonthlyVolumeMean')\n",
    "ax1Btc.legend(loc='upper left')\n",
    "ax2Btc.bar(btcOiVolumeDf.iloc[-last7Day:].index, btcOiVolumeDf.oi.iloc[-last7Day:], color='y', width=0.045, label='btcOi')\n",
    "ax2Btc.plot(ta.MA(btcOiVolumeDf.oi, shortPeriod).iloc[-last7Day:], color='r', label='btcWeeklyOiMean')\n",
    "ax2Btc.plot(ta.MA(btcOiVolumeDf.oi, longPeriod).iloc[-last7Day:], color='b', label='btcMonthlyOiMean')\n",
    "ax2Btc.legend()\n",
    "figBtc.savefig('oiVolumePriceBtc')"
   ]
  },
  {
   "cell_type": "code",
   "execution_count": 54,
   "metadata": {},
   "outputs": [
    {
     "data": {
      "image/png": "[encoded data removed]",
      "text/plain": [
       "<Figure size 1080x720 with 3 Axes>"
      ]
     },
     "metadata": {
      "needs_background": "light"
     },
     "output_type": "display_data"
    }
   ],
   "source": [
    "last7Day = 7*24\n",
    "figEth, (axEth,ax1Eth, ax2Eth) = plt.subplots(3,1,sharex=True, figsize=(15,10))\n",
    "# figEth.subplots_adjust(bottom=0.5)\n",
    "axEth.grid(True)\n",
    "axEth.plot(ethOiVolumeDf.iloc[-last7Day:].close, label='ethPrice')\n",
    "axEth.legend(loc='upper left')\n",
    "ax1Eth.bar(ethOiVolumeDf.iloc[-last7Day:].index, ethOiVolumeDf.iloc[-last7Day:].volume, color='g', width=0.045, label='ethVolume')\n",
    "ax1Eth.plot(ta.MA(ethOiVolumeDf.volume, shortPeriod).iloc[-last7Day:], color='r', label='ethWeeklyVolumeMean')\n",
    "ax1Eth.plot(ta.MA(ethOiVolumeDf.volume, longPeriod).iloc[-last7Day:], color='b', label='ethMonthlyVolumeMean')\n",
    "ax1Eth.legend(loc='upper left')\n",
    "ax2Eth.bar(ethOiVolumeDf.iloc[-last7Day:].index, ethOiVolumeDf.oi.iloc[-last7Day:], color='y', width=0.045, label='ethOi')\n",
    "ax2Eth.plot(ta.MA(ethOiVolumeDf.oi, shortPeriod).iloc[-last7Day:], color='r', label='ethWeeklyOiMean')\n",
    "ax2Eth.plot(ta.MA(ethOiVolumeDf.oi, longPeriod).iloc[-last7Day:], color='b', label='ethWeeklyOiMean')\n",
    "ax2Eth.legend(loc='upper left')\n",
    "figEth.savefig('oiVolumePriceEth')"
   ]
  },
  {
   "cell_type": "code",
   "execution_count": 55,
   "metadata": {},
   "outputs": [],
   "source": [
    "close = oiVolumeDf.close.unstack()\n",
    "volume = oiVolumeDf.volume.unstack()\n",
    "oi = oiVolumeDf.oi.unstack()"
   ]
  },
  {
   "cell_type": "code",
   "execution_count": 56,
   "metadata": {},
   "outputs": [
    {
     "data": {
      "text/html": [
       "<div>\n",
       "<style scoped>\n",
       "    .dataframe tbody tr th:only-of-type {\n",
       "        vertical-align: middle;\n",
       "    }\n",
       "\n",
       "    .dataframe tbody tr th {\n",
       "        vertical-align: top;\n",
       "    }\n",
       "\n",
       "    .dataframe thead th {\n",
       "        text-align: right;\n",
       "    }\n",
       "</style>\n",
       "<table border=\"1\" class=\"dataframe\">\n",
       "  <thead>\n",
       "    <tr style=\"text-align: right;\">\n",
       "      <th>symbol</th>\n",
       "      <th>btc</th>\n",
       "      <th>eth</th>\n",
       "    </tr>\n",
       "    <tr>\n",
       "      <th>datetime</th>\n",
       "      <th></th>\n",
       "      <th></th>\n",
       "    </tr>\n",
       "  </thead>\n",
       "  <tbody>\n",
       "    <tr>\n",
       "      <th>2022-11-27 21:00:00</th>\n",
       "      <td>126056.561</td>\n",
       "      <td>1240776.321</td>\n",
       "    </tr>\n",
       "    <tr>\n",
       "      <th>2022-11-27 22:00:00</th>\n",
       "      <td>126156.901</td>\n",
       "      <td>1236611.256</td>\n",
       "    </tr>\n",
       "    <tr>\n",
       "      <th>2022-11-27 23:00:00</th>\n",
       "      <td>126658.426</td>\n",
       "      <td>1233427.013</td>\n",
       "    </tr>\n",
       "    <tr>\n",
       "      <th>2022-11-28 00:00:00</th>\n",
       "      <td>126752.408</td>\n",
       "      <td>1233064.116</td>\n",
       "    </tr>\n",
       "    <tr>\n",
       "      <th>2022-11-28 01:00:00</th>\n",
       "      <td>126891.030</td>\n",
       "      <td>1226476.654</td>\n",
       "    </tr>\n",
       "    <tr>\n",
       "      <th>...</th>\n",
       "      <td>...</td>\n",
       "      <td>...</td>\n",
       "    </tr>\n",
       "    <tr>\n",
       "      <th>2023-01-16 17:00:00</th>\n",
       "      <td>94683.740</td>\n",
       "      <td>1064725.175</td>\n",
       "    </tr>\n",
       "    <tr>\n",
       "      <th>2023-01-16 18:00:00</th>\n",
       "      <td>94636.981</td>\n",
       "      <td>1070122.756</td>\n",
       "    </tr>\n",
       "    <tr>\n",
       "      <th>2023-01-16 19:00:00</th>\n",
       "      <td>95006.436</td>\n",
       "      <td>1079223.391</td>\n",
       "    </tr>\n",
       "    <tr>\n",
       "      <th>2023-01-16 20:00:00</th>\n",
       "      <td>95390.122</td>\n",
       "      <td>1084558.159</td>\n",
       "    </tr>\n",
       "    <tr>\n",
       "      <th>2023-01-16 21:00:00</th>\n",
       "      <td>95509.777</td>\n",
       "      <td>1086907.569</td>\n",
       "    </tr>\n",
       "  </tbody>\n",
       "</table>\n",
       "<p>1201 rows × 2 columns</p>\n",
       "</div>"
      ],
      "text/plain": [
       "symbol                      btc          eth\n",
       "datetime                                    \n",
       "2022-11-27 21:00:00  126056.561  1240776.321\n",
       "2022-11-27 22:00:00  126156.901  1236611.256\n",
       "2022-11-27 23:00:00  126658.426  1233427.013\n",
       "2022-11-28 00:00:00  126752.408  1233064.116\n",
       "2022-11-28 01:00:00  126891.030  1226476.654\n",
       "...                         ...          ...\n",
       "2023-01-16 17:00:00   94683.740  1064725.175\n",
       "2023-01-16 18:00:00   94636.981  1070122.756\n",
       "2023-01-16 19:00:00   95006.436  1079223.391\n",
       "2023-01-16 20:00:00   95390.122  1084558.159\n",
       "2023-01-16 21:00:00   95509.777  1086907.569\n",
       "\n",
       "[1201 rows x 2 columns]"
      ]
     },
     "execution_count": 56,
     "metadata": {},
     "output_type": "execute_result"
    }
   ],
   "source": [
    "oi"
   ]
  },
  {
   "cell_type": "code",
   "execution_count": 57,
   "metadata": {},
   "outputs": [],
   "source": [
    "closeMaRatio = close.rolling(shortPeriod).mean()/close.rolling(longPeriod).mean()\n",
    "volumeMaRatio = volume.rolling(shortPeriod).mean()/volume.rolling(longPeriod).mean()\n",
    "oiMaRatio = oi.rolling(shortPeriod).mean()/oi.rolling(longPeriod).mean()"
   ]
  },
  {
   "cell_type": "code",
   "execution_count": 58,
   "metadata": {},
   "outputs": [],
   "source": [
    "def cal_pctChange(data, lastDay, periodList=[7]):\n",
    "    pctChangeDict = {}\n",
    "    for period in periodList:\n",
    "        pctChangeDict[str(period)+'Day'] = round((data.loc[lastDay]/data.loc[lastDay-timedelta(hours=period*24)]-1)*100, 2)\n",
    "    pctChangeDf = pd.Series(pctChangeDict)\n",
    "    return pctChangeDf"
   ]
  },
  {
   "cell_type": "code",
   "execution_count": 59,
   "metadata": {},
   "outputs": [],
   "source": [
    "endTime = oiMaRatio.index[-1]\n",
    "maChangeDf = pd.DataFrame({\n",
    "    'btcCloseRatioPctChange': cal_pctChange(closeMaRatio.btc, endTime, [1, 3, 5, 8, 13]),\n",
    "    'ethCloseRatioPctChange': cal_pctChange(closeMaRatio.eth, endTime, [1, 3, 5, 8, 13]),\n",
    "    'btcVolumeRatioPctChange': cal_pctChange(volumeMaRatio.btc, endTime, [1, 3, 5, 8, 13]),\n",
    "    'ethVolumeRatioPctChange': cal_pctChange(volumeMaRatio.eth, endTime, [1, 3, 5, 8, 13]),   \n",
    "    'btcOpenInterestRatioPctChange': cal_pctChange(oiMaRatio.btc, endTime, [1, 3, 5, 8, 13]),\n",
    "    'ethOpenInterestRatioPctChange': cal_pctChange(oiMaRatio.eth, endTime, [1, 3, 5, 8, 13]),\n",
    "})"
   ]
  },
  {
   "cell_type": "code",
   "execution_count": 60,
   "metadata": {},
   "outputs": [],
   "source": [
    "maChangeDfT = round(maChangeDf.T, 2)"
   ]
  },
  {
   "cell_type": "code",
   "execution_count": 61,
   "metadata": {},
   "outputs": [],
   "source": [
    "maChangeDfT['avg'] = maChangeDfT.mean(axis=1)"
   ]
  },
  {
   "cell_type": "code",
   "execution_count": 62,
   "metadata": {},
   "outputs": [
    {
     "data": {
      "text/html": [
       "<div>\n",
       "<style scoped>\n",
       "    .dataframe tbody tr th:only-of-type {\n",
       "        vertical-align: middle;\n",
       "    }\n",
       "\n",
       "    .dataframe tbody tr th {\n",
       "        vertical-align: top;\n",
       "    }\n",
       "\n",
       "    .dataframe thead th {\n",
       "        text-align: right;\n",
       "    }\n",
       "</style>\n",
       "<table border=\"1\" class=\"dataframe\">\n",
       "  <thead>\n",
       "    <tr style=\"text-align: right;\">\n",
       "      <th></th>\n",
       "      <th>1Day</th>\n",
       "      <th>3Day</th>\n",
       "      <th>5Day</th>\n",
       "      <th>8Day</th>\n",
       "      <th>13Day</th>\n",
       "      <th>avg</th>\n",
       "    </tr>\n",
       "  </thead>\n",
       "  <tbody>\n",
       "    <tr>\n",
       "      <th>btcCloseRatioPctChange</th>\n",
       "      <td>2.07</td>\n",
       "      <td>6.37</td>\n",
       "      <td>8.70</td>\n",
       "      <td>10.31</td>\n",
       "      <td>11.78</td>\n",
       "      <td>7.846</td>\n",
       "    </tr>\n",
       "    <tr>\n",
       "      <th>ethCloseRatioPctChange</th>\n",
       "      <td>1.60</td>\n",
       "      <td>5.06</td>\n",
       "      <td>7.67</td>\n",
       "      <td>11.11</td>\n",
       "      <td>14.85</td>\n",
       "      <td>8.058</td>\n",
       "    </tr>\n",
       "    <tr>\n",
       "      <th>btcVolumeRatioPctChange</th>\n",
       "      <td>-0.66</td>\n",
       "      <td>16.49</td>\n",
       "      <td>43.62</td>\n",
       "      <td>74.37</td>\n",
       "      <td>92.79</td>\n",
       "      <td>45.322</td>\n",
       "    </tr>\n",
       "    <tr>\n",
       "      <th>ethVolumeRatioPctChange</th>\n",
       "      <td>-2.01</td>\n",
       "      <td>24.52</td>\n",
       "      <td>60.23</td>\n",
       "      <td>107.55</td>\n",
       "      <td>135.70</td>\n",
       "      <td>65.198</td>\n",
       "    </tr>\n",
       "    <tr>\n",
       "      <th>btcOpenInterestRatioPctChange</th>\n",
       "      <td>-1.28</td>\n",
       "      <td>-2.91</td>\n",
       "      <td>-1.19</td>\n",
       "      <td>-0.90</td>\n",
       "      <td>-1.42</td>\n",
       "      <td>-1.540</td>\n",
       "    </tr>\n",
       "    <tr>\n",
       "      <th>ethOpenInterestRatioPctChange</th>\n",
       "      <td>-2.65</td>\n",
       "      <td>-6.42</td>\n",
       "      <td>-5.58</td>\n",
       "      <td>-0.98</td>\n",
       "      <td>5.05</td>\n",
       "      <td>-2.116</td>\n",
       "    </tr>\n",
       "  </tbody>\n",
       "</table>\n",
       "</div>"
      ],
      "text/plain": [
       "                               1Day   3Day   5Day    8Day   13Day     avg\n",
       "btcCloseRatioPctChange         2.07   6.37   8.70   10.31   11.78   7.846\n",
       "ethCloseRatioPctChange         1.60   5.06   7.67   11.11   14.85   8.058\n",
       "btcVolumeRatioPctChange       -0.66  16.49  43.62   74.37   92.79  45.322\n",
       "ethVolumeRatioPctChange       -2.01  24.52  60.23  107.55  135.70  65.198\n",
       "btcOpenInterestRatioPctChange -1.28  -2.91  -1.19   -0.90   -1.42  -1.540\n",
       "ethOpenInterestRatioPctChange -2.65  -6.42  -5.58   -0.98    5.05  -2.116"
      ]
     },
     "execution_count": 62,
     "metadata": {},
     "output_type": "execute_result"
    }
   ],
   "source": [
    "maChangeDfT"
   ]
  },
  {
   "cell_type": "code",
   "execution_count": 63,
   "metadata": {},
   "outputs": [],
   "source": [
    "maChangeDfT.to_excel('RatioPctChange.xlsx')"
   ]
  },
  {
   "cell_type": "code",
   "execution_count": 64,
   "metadata": {},
   "outputs": [
    {
     "data": {
      "image/png": "[encoded data removed]",
      "text/plain": [
       "<Figure size 1152x864 with 3 Axes>"
      ]
     },
     "metadata": {
      "needs_background": "light"
     },
     "output_type": "display_data"
    }
   ],
   "source": [
    "f2Coin, (ax1, ax2, ax3) = plt.subplots(3, 1, sharex=True, figsize=(16,12))\n",
    "ax1.plot(closeMaRatio.btc.iloc[-24*7:], 'y', label='btcCloseRatio')\n",
    "ax1.plot(closeMaRatio.eth.iloc[-24*7:], 'b', label='ethCloseRatio')\n",
    "ax1.legend()\n",
    "ax1.grid()\n",
    "ax2.plot(volumeMaRatio.btc.iloc[-24*7:], 'y', label='btcVolumeRatio')\n",
    "ax2.plot(volumeMaRatio.eth.iloc[-24*7:], 'b', label='ethVolumeRatio')\n",
    "ax2.legend()\n",
    "ax2.grid()\n",
    "ax3.plot(oiMaRatio.btc.iloc[-24*7:], 'y', label='btcOiRatio')\n",
    "ax3.plot(oiMaRatio.eth.iloc[-24*7:], 'b', label='ethOiRatio')\n",
    "ax3.legend()\n",
    "ax3.grid()\n",
    "f2Coin.savefig('RatioChart')"
   ]
  },
  {
   "cell_type": "code",
   "execution_count": null,
   "metadata": {},
   "outputs": [],
   "source": []
  },
  {
   "cell_type": "code",
   "execution_count": null,
   "metadata": {},
   "outputs": [],
   "source": []
  }
 ],
 "metadata": {
  "kernelspec": {
   "display_name": "Python 3",
   "language": "python",
   "name": "python3"
  },
  "language_info": {
   "codemirror_mode": {
    "name": "ipython",
    "version": 3
   },
   "file_extension": ".py",
   "mimetype": "text/x-python",
   "name": "python",
   "nbconvert_exporter": "python",
   "pygments_lexer": "ipython3",
   "version": "3.7.4"
  }
 },
 "nbformat": 4,
 "nbformat_minor": 2
}
