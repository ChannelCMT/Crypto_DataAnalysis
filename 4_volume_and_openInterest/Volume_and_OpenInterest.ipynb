{
 "cells": [
  {
   "cell_type": "markdown",
   "metadata": {},
   "source": [
    "## 成交量与未平仓量\n"
   ]
  },
  {
   "cell_type": "code",
   "execution_count": 1,
   "metadata": {},
   "outputs": [],
   "source": [
    "from datetime import datetime, timedelta\n",
    "\n",
    "startTime = datetime(2022,11,12)\n",
    "endTime = datetime(2023,1,19, 10)"
   ]
  },
  {
   "cell_type": "code",
   "execution_count": 2,
   "metadata": {},
   "outputs": [],
   "source": [
    "import warnings\n",
    "warnings.filterwarnings(\"ignore\")"
   ]
  },
  {
   "cell_type": "code",
   "execution_count": 3,
   "metadata": {},
   "outputs": [],
   "source": [
    "import pymongo\n",
    "import pandas as pd\n",
    "import matplotlib.pyplot as plt\n",
    "import talib as ta"
   ]
  },
  {
   "cell_type": "code",
   "execution_count": 4,
   "metadata": {},
   "outputs": [],
   "source": [
    "symbolList = ['btc_usdt.spot:binance', 'eth_usdt.spot:binance']\n",
    "\n",
    "client = pymongo.MongoClient('172.16.20.81', 27017)"
   ]
  },
  {
   "cell_type": "code",
   "execution_count": 5,
   "metadata": {},
   "outputs": [],
   "source": [
    "def readDb(collection, start, end):\n",
    "    return pd.DataFrame(\n",
    "        list(collection.find({\"datetime\": {'$gt': start, '$lt': end}}))\n",
    "    )"
   ]
  },
  {
   "cell_type": "code",
   "execution_count": 6,
   "metadata": {},
   "outputs": [],
   "source": [
    "\n",
    "dbClient = client['Kline_1Min_Auto_Db_Plus']\n",
    "columnsName = ['open', 'high', 'low', 'close', 'volume','datetime']"
   ]
  },
  {
   "cell_type": "code",
   "execution_count": 7,
   "metadata": {},
   "outputs": [],
   "source": [
    "crytoDict = {\n",
    "                'btc':readDb(dbClient[symbolList[0]], start=startTime , end=endTime)[columnsName],\n",
    "                'eth':readDb(dbClient[symbolList[1]], start=startTime , end=endTime)[columnsName]\n",
    "            }"
   ]
  },
  {
   "cell_type": "code",
   "execution_count": 8,
   "metadata": {},
   "outputs": [],
   "source": [
    "def resampleDf(data, freq='H'):\n",
    "#     df = data.drop('_id', axis=1)\n",
    "    dataDf = data.set_index('datetime')\n",
    "    dataHourDf = dataDf.resample(freq).agg({'open':'first', 'high': 'max', 'low': 'min', 'close': 'last', 'volume':'sum'})\n",
    "    dataResetDf = dataHourDf.reset_index()\n",
    "    return dataResetDf\n",
    "\n",
    "def resampleOiDf(data, freq='H'):\n",
    "    dataDf = data.set_index('datetime')\n",
    "    dataHourDf = dataDf.resample(freq).agg({'oi':'last'})\n",
    "    dataResetDf = dataHourDf.reset_index()\n",
    "    return dataResetDf"
   ]
  },
  {
   "cell_type": "code",
   "execution_count": 9,
   "metadata": {},
   "outputs": [],
   "source": [
    "def addSymbol(dataDf, symbolName):  \n",
    "    dataDf['symbol'] = symbolName\n",
    "    return dataDf"
   ]
  },
  {
   "cell_type": "code",
   "execution_count": 10,
   "metadata": {},
   "outputs": [],
   "source": [
    "def setIndex(dataDf):\n",
    "    dataIndex = dataDf.set_index(['datetime', 'symbol'])\n",
    "    return dataIndex"
   ]
  },
  {
   "cell_type": "code",
   "execution_count": 11,
   "metadata": {},
   "outputs": [],
   "source": [
    "multiCryptoDict = {}\n",
    "for key, df in crytoDict.items():\n",
    "    hourDf = resampleDf(df)\n",
    "    hourSymbolDf = addSymbol(hourDf, key)\n",
    "    hourIndexDf = setIndex(hourSymbolDf)\n",
    "    multiCryptoDict[key] = hourIndexDf"
   ]
  },
  {
   "cell_type": "code",
   "execution_count": 12,
   "metadata": {},
   "outputs": [],
   "source": [
    "multiDf = pd.concat(list(multiCryptoDict.values())).sort_index()"
   ]
  },
  {
   "cell_type": "code",
   "execution_count": 13,
   "metadata": {},
   "outputs": [
    {
     "data": {
      "text/html": [
       "<div>\n",
       "<style scoped>\n",
       "    .dataframe tbody tr th:only-of-type {\n",
       "        vertical-align: middle;\n",
       "    }\n",
       "\n",
       "    .dataframe tbody tr th {\n",
       "        vertical-align: top;\n",
       "    }\n",
       "\n",
       "    .dataframe thead th {\n",
       "        text-align: right;\n",
       "    }\n",
       "</style>\n",
       "<table border=\"1\" class=\"dataframe\">\n",
       "  <thead>\n",
       "    <tr style=\"text-align: right;\">\n",
       "      <th></th>\n",
       "      <th></th>\n",
       "      <th>open</th>\n",
       "      <th>high</th>\n",
       "      <th>low</th>\n",
       "      <th>close</th>\n",
       "      <th>volume</th>\n",
       "    </tr>\n",
       "    <tr>\n",
       "      <th>datetime</th>\n",
       "      <th>symbol</th>\n",
       "      <th></th>\n",
       "      <th></th>\n",
       "      <th></th>\n",
       "      <th></th>\n",
       "      <th></th>\n",
       "    </tr>\n",
       "  </thead>\n",
       "  <tbody>\n",
       "    <tr>\n",
       "      <th rowspan=\"2\" valign=\"top\">2022-11-12 00:00:00</th>\n",
       "      <th>btc</th>\n",
       "      <td>16900.78</td>\n",
       "      <td>16934.50</td>\n",
       "      <td>16543.95</td>\n",
       "      <td>16836.28</td>\n",
       "      <td>17333.46290</td>\n",
       "    </tr>\n",
       "    <tr>\n",
       "      <th>eth</th>\n",
       "      <td>1262.54</td>\n",
       "      <td>1264.00</td>\n",
       "      <td>1233.24</td>\n",
       "      <td>1250.21</td>\n",
       "      <td>60945.74360</td>\n",
       "    </tr>\n",
       "    <tr>\n",
       "      <th rowspan=\"2\" valign=\"top\">2022-11-12 01:00:00</th>\n",
       "      <th>btc</th>\n",
       "      <td>16836.28</td>\n",
       "      <td>16963.71</td>\n",
       "      <td>16750.10</td>\n",
       "      <td>16909.31</td>\n",
       "      <td>13359.05393</td>\n",
       "    </tr>\n",
       "    <tr>\n",
       "      <th>eth</th>\n",
       "      <td>1250.21</td>\n",
       "      <td>1278.87</td>\n",
       "      <td>1246.88</td>\n",
       "      <td>1274.30</td>\n",
       "      <td>49711.20880</td>\n",
       "    </tr>\n",
       "    <tr>\n",
       "      <th>2022-11-12 02:00:00</th>\n",
       "      <th>btc</th>\n",
       "      <td>16909.31</td>\n",
       "      <td>17045.09</td>\n",
       "      <td>16802.07</td>\n",
       "      <td>16837.11</td>\n",
       "      <td>12471.61035</td>\n",
       "    </tr>\n",
       "    <tr>\n",
       "      <th>...</th>\n",
       "      <th>...</th>\n",
       "      <td>...</td>\n",
       "      <td>...</td>\n",
       "      <td>...</td>\n",
       "      <td>...</td>\n",
       "      <td>...</td>\n",
       "    </tr>\n",
       "    <tr>\n",
       "      <th>2023-01-19 07:00:00</th>\n",
       "      <th>eth</th>\n",
       "      <td>1531.39</td>\n",
       "      <td>1533.28</td>\n",
       "      <td>1507.90</td>\n",
       "      <td>1511.43</td>\n",
       "      <td>21276.73540</td>\n",
       "    </tr>\n",
       "    <tr>\n",
       "      <th rowspan=\"2\" valign=\"top\">2023-01-19 08:00:00</th>\n",
       "      <th>btc</th>\n",
       "      <td>20677.47</td>\n",
       "      <td>20764.64</td>\n",
       "      <td>20660.15</td>\n",
       "      <td>20694.01</td>\n",
       "      <td>10081.58829</td>\n",
       "    </tr>\n",
       "    <tr>\n",
       "      <th>eth</th>\n",
       "      <td>1511.44</td>\n",
       "      <td>1523.25</td>\n",
       "      <td>1509.15</td>\n",
       "      <td>1516.26</td>\n",
       "      <td>18232.28510</td>\n",
       "    </tr>\n",
       "    <tr>\n",
       "      <th rowspan=\"2\" valign=\"top\">2023-01-19 09:00:00</th>\n",
       "      <th>btc</th>\n",
       "      <td>20694.64</td>\n",
       "      <td>20775.85</td>\n",
       "      <td>20676.32</td>\n",
       "      <td>20716.95</td>\n",
       "      <td>7992.95494</td>\n",
       "    </tr>\n",
       "    <tr>\n",
       "      <th>eth</th>\n",
       "      <td>1516.25</td>\n",
       "      <td>1523.80</td>\n",
       "      <td>1515.51</td>\n",
       "      <td>1518.14</td>\n",
       "      <td>8731.29020</td>\n",
       "    </tr>\n",
       "  </tbody>\n",
       "</table>\n",
       "<p>3284 rows × 5 columns</p>\n",
       "</div>"
      ],
      "text/plain": [
       "                                open      high       low     close  \\\n",
       "datetime            symbol                                           \n",
       "2022-11-12 00:00:00 btc     16900.78  16934.50  16543.95  16836.28   \n",
       "                    eth      1262.54   1264.00   1233.24   1250.21   \n",
       "2022-11-12 01:00:00 btc     16836.28  16963.71  16750.10  16909.31   \n",
       "                    eth      1250.21   1278.87   1246.88   1274.30   \n",
       "2022-11-12 02:00:00 btc     16909.31  17045.09  16802.07  16837.11   \n",
       "...                              ...       ...       ...       ...   \n",
       "2023-01-19 07:00:00 eth      1531.39   1533.28   1507.90   1511.43   \n",
       "2023-01-19 08:00:00 btc     20677.47  20764.64  20660.15  20694.01   \n",
       "                    eth      1511.44   1523.25   1509.15   1516.26   \n",
       "2023-01-19 09:00:00 btc     20694.64  20775.85  20676.32  20716.95   \n",
       "                    eth      1516.25   1523.80   1515.51   1518.14   \n",
       "\n",
       "                                 volume  \n",
       "datetime            symbol               \n",
       "2022-11-12 00:00:00 btc     17333.46290  \n",
       "                    eth     60945.74360  \n",
       "2022-11-12 01:00:00 btc     13359.05393  \n",
       "                    eth     49711.20880  \n",
       "2022-11-12 02:00:00 btc     12471.61035  \n",
       "...                                 ...  \n",
       "2023-01-19 07:00:00 eth     21276.73540  \n",
       "2023-01-19 08:00:00 btc     10081.58829  \n",
       "                    eth     18232.28510  \n",
       "2023-01-19 09:00:00 btc      7992.95494  \n",
       "                    eth      8731.29020  \n",
       "\n",
       "[3284 rows x 5 columns]"
      ]
     },
     "execution_count": 13,
     "metadata": {},
     "output_type": "execute_result"
    }
   ],
   "source": [
    "multiDf"
   ]
  },
  {
   "cell_type": "code",
   "execution_count": 14,
   "metadata": {},
   "outputs": [],
   "source": [
    "# "
   ]
  },
  {
   "cell_type": "code",
   "execution_count": 15,
   "metadata": {},
   "outputs": [],
   "source": [
    "btcOi = pd.read_csv('btcOi.csv')\n",
    "ethOi = pd.read_csv('ethOi.csv')"
   ]
  },
  {
   "cell_type": "code",
   "execution_count": 16,
   "metadata": {},
   "outputs": [
    {
     "data": {
      "text/html": [
       "<div>\n",
       "<style scoped>\n",
       "    .dataframe tbody tr th:only-of-type {\n",
       "        vertical-align: middle;\n",
       "    }\n",
       "\n",
       "    .dataframe tbody tr th {\n",
       "        vertical-align: top;\n",
       "    }\n",
       "\n",
       "    .dataframe thead th {\n",
       "        text-align: right;\n",
       "    }\n",
       "</style>\n",
       "<table border=\"1\" class=\"dataframe\">\n",
       "  <thead>\n",
       "    <tr style=\"text-align: right;\">\n",
       "      <th></th>\n",
       "      <th>Unnamed: 0</th>\n",
       "      <th>timestamp</th>\n",
       "      <th>oi</th>\n",
       "      <th>notional</th>\n",
       "      <th>datetime</th>\n",
       "    </tr>\n",
       "  </thead>\n",
       "  <tbody>\n",
       "    <tr>\n",
       "      <th>14395</th>\n",
       "      <td>14395</td>\n",
       "      <td>1669791000</td>\n",
       "      <td>126590.723</td>\n",
       "      <td>2.132636e+09</td>\n",
       "      <td>2022-11-30 14:50:00</td>\n",
       "    </tr>\n",
       "    <tr>\n",
       "      <th>14396</th>\n",
       "      <td>14396</td>\n",
       "      <td>1669790700</td>\n",
       "      <td>126517.513</td>\n",
       "      <td>2.132946e+09</td>\n",
       "      <td>2022-11-30 14:45:00</td>\n",
       "    </tr>\n",
       "    <tr>\n",
       "      <th>14397</th>\n",
       "      <td>14397</td>\n",
       "      <td>1669790400</td>\n",
       "      <td>126299.743</td>\n",
       "      <td>2.127774e+09</td>\n",
       "      <td>2022-11-30 14:40:00</td>\n",
       "    </tr>\n",
       "    <tr>\n",
       "      <th>14398</th>\n",
       "      <td>14398</td>\n",
       "      <td>1669790100</td>\n",
       "      <td>126273.813</td>\n",
       "      <td>2.129229e+09</td>\n",
       "      <td>2022-11-30 14:35:00</td>\n",
       "    </tr>\n",
       "    <tr>\n",
       "      <th>14399</th>\n",
       "      <td>14399</td>\n",
       "      <td>1669789800</td>\n",
       "      <td>126196.443</td>\n",
       "      <td>2.126650e+09</td>\n",
       "      <td>2022-11-30 14:30:00</td>\n",
       "    </tr>\n",
       "  </tbody>\n",
       "</table>\n",
       "</div>"
      ],
      "text/plain": [
       "       Unnamed: 0   timestamp          oi      notional             datetime\n",
       "14395       14395  1669791000  126590.723  2.132636e+09  2022-11-30 14:50:00\n",
       "14396       14396  1669790700  126517.513  2.132946e+09  2022-11-30 14:45:00\n",
       "14397       14397  1669790400  126299.743  2.127774e+09  2022-11-30 14:40:00\n",
       "14398       14398  1669790100  126273.813  2.129229e+09  2022-11-30 14:35:00\n",
       "14399       14399  1669789800  126196.443  2.126650e+09  2022-11-30 14:30:00"
      ]
     },
     "execution_count": 16,
     "metadata": {},
     "output_type": "execute_result"
    }
   ],
   "source": [
    "btcOi.tail()"
   ]
  },
  {
   "cell_type": "code",
   "execution_count": 17,
   "metadata": {},
   "outputs": [],
   "source": [
    "btcOiDf = btcOi[['oi', 'notional', 'datetime']]\n",
    "ethOiDf = ethOi[['oi', 'notional', 'datetime']]"
   ]
  },
  {
   "cell_type": "code",
   "execution_count": 18,
   "metadata": {},
   "outputs": [],
   "source": [
    "btcOiDf['datetime'] = list(map(lambda dt: datetime.strptime(dt, \"%Y-%m-%d %H:%M:%S\"), btcOiDf['datetime']))\n",
    "ethOiDf['datetime'] = list(map(lambda dt: datetime.strptime(dt, \"%Y-%m-%d %H:%M:%S\"), ethOiDf['datetime']))"
   ]
  },
  {
   "cell_type": "code",
   "execution_count": 19,
   "metadata": {},
   "outputs": [],
   "source": [
    "btcOi = setIndex(addSymbol(resampleOiDf(btcOiDf), 'btc'))\n",
    "ethOi = setIndex(addSymbol(resampleOiDf(ethOiDf), 'eth'))"
   ]
  },
  {
   "cell_type": "code",
   "execution_count": 20,
   "metadata": {},
   "outputs": [],
   "source": [
    "oiDf = pd.concat([btcOi, ethOi]).sort_index()"
   ]
  },
  {
   "cell_type": "code",
   "execution_count": 21,
   "metadata": {},
   "outputs": [],
   "source": [
    "oiVolumeDf = pd.concat([multiDf, oiDf], axis=1).dropna()"
   ]
  },
  {
   "cell_type": "code",
   "execution_count": 22,
   "metadata": {},
   "outputs": [
    {
     "data": {
      "text/html": [
       "<div>\n",
       "<style scoped>\n",
       "    .dataframe tbody tr th:only-of-type {\n",
       "        vertical-align: middle;\n",
       "    }\n",
       "\n",
       "    .dataframe tbody tr th {\n",
       "        vertical-align: top;\n",
       "    }\n",
       "\n",
       "    .dataframe thead th {\n",
       "        text-align: right;\n",
       "    }\n",
       "</style>\n",
       "<table border=\"1\" class=\"dataframe\">\n",
       "  <thead>\n",
       "    <tr style=\"text-align: right;\">\n",
       "      <th></th>\n",
       "      <th></th>\n",
       "      <th>open</th>\n",
       "      <th>high</th>\n",
       "      <th>low</th>\n",
       "      <th>close</th>\n",
       "      <th>volume</th>\n",
       "      <th>oi</th>\n",
       "    </tr>\n",
       "    <tr>\n",
       "      <th>datetime</th>\n",
       "      <th>symbol</th>\n",
       "      <th></th>\n",
       "      <th></th>\n",
       "      <th></th>\n",
       "      <th></th>\n",
       "      <th></th>\n",
       "      <th></th>\n",
       "    </tr>\n",
       "  </thead>\n",
       "  <tbody>\n",
       "    <tr>\n",
       "      <th rowspan=\"2\" valign=\"top\">2022-11-30 14:00:00</th>\n",
       "      <th>btc</th>\n",
       "      <td>16863.45</td>\n",
       "      <td>16870.77</td>\n",
       "      <td>16830.38</td>\n",
       "      <td>16860.80</td>\n",
       "      <td>7974.01943</td>\n",
       "      <td>126636.130</td>\n",
       "    </tr>\n",
       "    <tr>\n",
       "      <th>eth</th>\n",
       "      <td>1271.28</td>\n",
       "      <td>1271.98</td>\n",
       "      <td>1267.19</td>\n",
       "      <td>1269.18</td>\n",
       "      <td>14776.07880</td>\n",
       "      <td>1321408.056</td>\n",
       "    </tr>\n",
       "    <tr>\n",
       "      <th rowspan=\"2\" valign=\"top\">2022-11-30 15:00:00</th>\n",
       "      <th>btc</th>\n",
       "      <td>16860.61</td>\n",
       "      <td>16920.16</td>\n",
       "      <td>16858.90</td>\n",
       "      <td>16883.56</td>\n",
       "      <td>8579.91183</td>\n",
       "      <td>127232.510</td>\n",
       "    </tr>\n",
       "    <tr>\n",
       "      <th>eth</th>\n",
       "      <td>1269.17</td>\n",
       "      <td>1274.39</td>\n",
       "      <td>1268.16</td>\n",
       "      <td>1272.62</td>\n",
       "      <td>14222.15800</td>\n",
       "      <td>1328240.044</td>\n",
       "    </tr>\n",
       "    <tr>\n",
       "      <th>2022-11-30 16:00:00</th>\n",
       "      <th>btc</th>\n",
       "      <td>16883.87</td>\n",
       "      <td>16930.66</td>\n",
       "      <td>16874.02</td>\n",
       "      <td>16890.65</td>\n",
       "      <td>7447.79347</td>\n",
       "      <td>127476.486</td>\n",
       "    </tr>\n",
       "    <tr>\n",
       "      <th>...</th>\n",
       "      <th>...</th>\n",
       "      <td>...</td>\n",
       "      <td>...</td>\n",
       "      <td>...</td>\n",
       "      <td>...</td>\n",
       "      <td>...</td>\n",
       "      <td>...</td>\n",
       "    </tr>\n",
       "    <tr>\n",
       "      <th>2023-01-19 07:00:00</th>\n",
       "      <th>eth</th>\n",
       "      <td>1531.39</td>\n",
       "      <td>1533.28</td>\n",
       "      <td>1507.90</td>\n",
       "      <td>1511.43</td>\n",
       "      <td>21276.73540</td>\n",
       "      <td>1117460.074</td>\n",
       "    </tr>\n",
       "    <tr>\n",
       "      <th rowspan=\"2\" valign=\"top\">2023-01-19 08:00:00</th>\n",
       "      <th>btc</th>\n",
       "      <td>20677.47</td>\n",
       "      <td>20764.64</td>\n",
       "      <td>20660.15</td>\n",
       "      <td>20694.01</td>\n",
       "      <td>10081.58829</td>\n",
       "      <td>102198.456</td>\n",
       "    </tr>\n",
       "    <tr>\n",
       "      <th>eth</th>\n",
       "      <td>1511.44</td>\n",
       "      <td>1523.25</td>\n",
       "      <td>1509.15</td>\n",
       "      <td>1516.26</td>\n",
       "      <td>18232.28510</td>\n",
       "      <td>1126707.224</td>\n",
       "    </tr>\n",
       "    <tr>\n",
       "      <th rowspan=\"2\" valign=\"top\">2023-01-19 09:00:00</th>\n",
       "      <th>btc</th>\n",
       "      <td>20694.64</td>\n",
       "      <td>20775.85</td>\n",
       "      <td>20676.32</td>\n",
       "      <td>20716.95</td>\n",
       "      <td>7992.95494</td>\n",
       "      <td>102137.039</td>\n",
       "    </tr>\n",
       "    <tr>\n",
       "      <th>eth</th>\n",
       "      <td>1516.25</td>\n",
       "      <td>1523.80</td>\n",
       "      <td>1515.51</td>\n",
       "      <td>1518.14</td>\n",
       "      <td>8731.29020</td>\n",
       "      <td>1129257.525</td>\n",
       "    </tr>\n",
       "  </tbody>\n",
       "</table>\n",
       "<p>2392 rows × 6 columns</p>\n",
       "</div>"
      ],
      "text/plain": [
       "                                open      high       low     close  \\\n",
       "datetime            symbol                                           \n",
       "2022-11-30 14:00:00 btc     16863.45  16870.77  16830.38  16860.80   \n",
       "                    eth      1271.28   1271.98   1267.19   1269.18   \n",
       "2022-11-30 15:00:00 btc     16860.61  16920.16  16858.90  16883.56   \n",
       "                    eth      1269.17   1274.39   1268.16   1272.62   \n",
       "2022-11-30 16:00:00 btc     16883.87  16930.66  16874.02  16890.65   \n",
       "...                              ...       ...       ...       ...   \n",
       "2023-01-19 07:00:00 eth      1531.39   1533.28   1507.90   1511.43   \n",
       "2023-01-19 08:00:00 btc     20677.47  20764.64  20660.15  20694.01   \n",
       "                    eth      1511.44   1523.25   1509.15   1516.26   \n",
       "2023-01-19 09:00:00 btc     20694.64  20775.85  20676.32  20716.95   \n",
       "                    eth      1516.25   1523.80   1515.51   1518.14   \n",
       "\n",
       "                                 volume           oi  \n",
       "datetime            symbol                            \n",
       "2022-11-30 14:00:00 btc      7974.01943   126636.130  \n",
       "                    eth     14776.07880  1321408.056  \n",
       "2022-11-30 15:00:00 btc      8579.91183   127232.510  \n",
       "                    eth     14222.15800  1328240.044  \n",
       "2022-11-30 16:00:00 btc      7447.79347   127476.486  \n",
       "...                                 ...          ...  \n",
       "2023-01-19 07:00:00 eth     21276.73540  1117460.074  \n",
       "2023-01-19 08:00:00 btc     10081.58829   102198.456  \n",
       "                    eth     18232.28510  1126707.224  \n",
       "2023-01-19 09:00:00 btc      7992.95494   102137.039  \n",
       "                    eth      8731.29020  1129257.525  \n",
       "\n",
       "[2392 rows x 6 columns]"
      ]
     },
     "execution_count": 22,
     "metadata": {},
     "output_type": "execute_result"
    }
   ],
   "source": [
    "oiVolumeDf"
   ]
  },
  {
   "cell_type": "code",
   "execution_count": 23,
   "metadata": {},
   "outputs": [],
   "source": [
    "btcOiVolumeDf = oiVolumeDf.loc[:,pd.IndexSlice['btc'],:]\n",
    "ethOiVolumeDf = oiVolumeDf.loc[:,pd.IndexSlice['eth'],:]"
   ]
  },
  {
   "cell_type": "code",
   "execution_count": 24,
   "metadata": {},
   "outputs": [],
   "source": [
    "shortPeriod = 168\n",
    "longPeriod = shortPeriod*4"
   ]
  },
  {
   "cell_type": "code",
   "execution_count": 25,
   "metadata": {},
   "outputs": [
    {
     "data": {
      "image/png": "[encoded data removed]",
      "text/plain": [
       "<Figure size 1080x720 with 3 Axes>"
      ]
     },
     "metadata": {
      "needs_background": "light"
     },
     "output_type": "display_data"
    }
   ],
   "source": [
    "last7Day = 7*24\n",
    "figBtc, (axBtc, ax1Btc, ax2Btc) = plt.subplots(3,1,sharex=True, figsize=(15,10))\n",
    "# figBtc.subplots_adjust(bottom=0.5)\n",
    "axBtc.grid(True)\n",
    "axBtc.plot(btcOiVolumeDf.iloc[-last7Day:].close, label='btcPrice')\n",
    "axBtc.legend()\n",
    "ax1Btc.bar(btcOiVolumeDf.iloc[-last7Day:].index, btcOiVolumeDf.iloc[-last7Day:].volume, color='g', width=0.045, label='btcVolume')\n",
    "ax1Btc.plot(ta.MA(btcOiVolumeDf.volume, shortPeriod).iloc[-last7Day:], color='r', label='btcWeeklyVolumeMean')\n",
    "ax1Btc.plot(ta.MA(btcOiVolumeDf.volume, longPeriod).iloc[-last7Day:], color='b', label='btcMonthlyVolumeMean')\n",
    "ax1Btc.legend(loc='upper left')\n",
    "ax2Btc.bar(btcOiVolumeDf.iloc[-last7Day:].index, btcOiVolumeDf.oi.iloc[-last7Day:], color='y', width=0.045, label='btcOi')\n",
    "ax2Btc.plot(ta.MA(btcOiVolumeDf.oi, shortPeriod).iloc[-last7Day:], color='r', label='btcWeeklyOiMean')\n",
    "ax2Btc.plot(ta.MA(btcOiVolumeDf.oi, longPeriod).iloc[-last7Day:], color='b', label='btcMonthlyOiMean')\n",
    "ax2Btc.legend()\n",
    "figBtc.savefig('oiVolumePriceBtc')"
   ]
  },
  {
   "cell_type": "code",
   "execution_count": 26,
   "metadata": {},
   "outputs": [
    {
     "data": {
      "image/png": "[encoded data removed]",
      "text/plain": [
       "<Figure size 1080x720 with 3 Axes>"
      ]
     },
     "metadata": {
      "needs_background": "light"
     },
     "output_type": "display_data"
    }
   ],
   "source": [
    "last7Day = 7*24\n",
    "figEth, (axEth,ax1Eth, ax2Eth) = plt.subplots(3,1,sharex=True, figsize=(15,10))\n",
    "# figEth.subplots_adjust(bottom=0.5)\n",
    "axEth.grid(True)\n",
    "axEth.plot(ethOiVolumeDf.iloc[-last7Day:].close, label='ethPrice')\n",
    "axEth.legend(loc='upper left')\n",
    "ax1Eth.bar(ethOiVolumeDf.iloc[-last7Day:].index, ethOiVolumeDf.iloc[-last7Day:].volume, color='g', width=0.045, label='ethVolume')\n",
    "ax1Eth.plot(ta.MA(ethOiVolumeDf.volume, shortPeriod).iloc[-last7Day:], color='r', label='ethWeeklyVolumeMean')\n",
    "ax1Eth.plot(ta.MA(ethOiVolumeDf.volume, longPeriod).iloc[-last7Day:], color='b', label='ethMonthlyVolumeMean')\n",
    "ax1Eth.legend(loc='upper left')\n",
    "ax2Eth.bar(ethOiVolumeDf.iloc[-last7Day:].index, ethOiVolumeDf.oi.iloc[-last7Day:], color='y', width=0.045, label='ethOi')\n",
    "ax2Eth.plot(ta.MA(ethOiVolumeDf.oi, shortPeriod).iloc[-last7Day:], color='r', label='ethWeeklyOiMean')\n",
    "ax2Eth.plot(ta.MA(ethOiVolumeDf.oi, longPeriod).iloc[-last7Day:], color='b', label='ethWeeklyOiMean')\n",
    "ax2Eth.legend(loc='upper left')\n",
    "figEth.savefig('oiVolumePriceEth')"
   ]
  },
  {
   "cell_type": "code",
   "execution_count": 27,
   "metadata": {},
   "outputs": [],
   "source": [
    "close = oiVolumeDf.close.unstack()\n",
    "volume = oiVolumeDf.volume.unstack()\n",
    "oi = oiVolumeDf.oi.unstack()"
   ]
  },
  {
   "cell_type": "code",
   "execution_count": 28,
   "metadata": {},
   "outputs": [
    {
     "data": {
      "text/html": [
       "<div>\n",
       "<style scoped>\n",
       "    .dataframe tbody tr th:only-of-type {\n",
       "        vertical-align: middle;\n",
       "    }\n",
       "\n",
       "    .dataframe tbody tr th {\n",
       "        vertical-align: top;\n",
       "    }\n",
       "\n",
       "    .dataframe thead th {\n",
       "        text-align: right;\n",
       "    }\n",
       "</style>\n",
       "<table border=\"1\" class=\"dataframe\">\n",
       "  <thead>\n",
       "    <tr style=\"text-align: right;\">\n",
       "      <th>symbol</th>\n",
       "      <th>btc</th>\n",
       "      <th>eth</th>\n",
       "    </tr>\n",
       "    <tr>\n",
       "      <th>datetime</th>\n",
       "      <th></th>\n",
       "      <th></th>\n",
       "    </tr>\n",
       "  </thead>\n",
       "  <tbody>\n",
       "    <tr>\n",
       "      <th>2022-11-30 14:00:00</th>\n",
       "      <td>126636.130</td>\n",
       "      <td>1321408.056</td>\n",
       "    </tr>\n",
       "    <tr>\n",
       "      <th>2022-11-30 15:00:00</th>\n",
       "      <td>127232.510</td>\n",
       "      <td>1328240.044</td>\n",
       "    </tr>\n",
       "    <tr>\n",
       "      <th>2022-11-30 16:00:00</th>\n",
       "      <td>127476.486</td>\n",
       "      <td>1330002.645</td>\n",
       "    </tr>\n",
       "    <tr>\n",
       "      <th>2022-11-30 17:00:00</th>\n",
       "      <td>127248.730</td>\n",
       "      <td>1324703.774</td>\n",
       "    </tr>\n",
       "    <tr>\n",
       "      <th>2022-11-30 18:00:00</th>\n",
       "      <td>127505.182</td>\n",
       "      <td>1317478.617</td>\n",
       "    </tr>\n",
       "    <tr>\n",
       "      <th>...</th>\n",
       "      <td>...</td>\n",
       "      <td>...</td>\n",
       "    </tr>\n",
       "    <tr>\n",
       "      <th>2023-01-19 05:00:00</th>\n",
       "      <td>100960.990</td>\n",
       "      <td>1121865.028</td>\n",
       "    </tr>\n",
       "    <tr>\n",
       "      <th>2023-01-19 06:00:00</th>\n",
       "      <td>101163.455</td>\n",
       "      <td>1123228.423</td>\n",
       "    </tr>\n",
       "    <tr>\n",
       "      <th>2023-01-19 07:00:00</th>\n",
       "      <td>101584.811</td>\n",
       "      <td>1117460.074</td>\n",
       "    </tr>\n",
       "    <tr>\n",
       "      <th>2023-01-19 08:00:00</th>\n",
       "      <td>102198.456</td>\n",
       "      <td>1126707.224</td>\n",
       "    </tr>\n",
       "    <tr>\n",
       "      <th>2023-01-19 09:00:00</th>\n",
       "      <td>102137.039</td>\n",
       "      <td>1129257.525</td>\n",
       "    </tr>\n",
       "  </tbody>\n",
       "</table>\n",
       "<p>1196 rows × 2 columns</p>\n",
       "</div>"
      ],
      "text/plain": [
       "symbol                      btc          eth\n",
       "datetime                                    \n",
       "2022-11-30 14:00:00  126636.130  1321408.056\n",
       "2022-11-30 15:00:00  127232.510  1328240.044\n",
       "2022-11-30 16:00:00  127476.486  1330002.645\n",
       "2022-11-30 17:00:00  127248.730  1324703.774\n",
       "2022-11-30 18:00:00  127505.182  1317478.617\n",
       "...                         ...          ...\n",
       "2023-01-19 05:00:00  100960.990  1121865.028\n",
       "2023-01-19 06:00:00  101163.455  1123228.423\n",
       "2023-01-19 07:00:00  101584.811  1117460.074\n",
       "2023-01-19 08:00:00  102198.456  1126707.224\n",
       "2023-01-19 09:00:00  102137.039  1129257.525\n",
       "\n",
       "[1196 rows x 2 columns]"
      ]
     },
     "execution_count": 28,
     "metadata": {},
     "output_type": "execute_result"
    }
   ],
   "source": [
    "oi"
   ]
  },
  {
   "cell_type": "code",
   "execution_count": 29,
   "metadata": {},
   "outputs": [],
   "source": [
    "closeMaRatio = close.rolling(shortPeriod).mean()/close.rolling(longPeriod).mean()\n",
    "volumeMaRatio = volume.rolling(shortPeriod).mean()/volume.rolling(longPeriod).mean()\n",
    "oiMaRatio = oi.rolling(shortPeriod).mean()/oi.rolling(longPeriod).mean()"
   ]
  },
  {
   "cell_type": "code",
   "execution_count": 30,
   "metadata": {},
   "outputs": [],
   "source": [
    "def cal_pctChange(data, lastDay, periodList=[7]):\n",
    "    pctChangeDict = {}\n",
    "    for period in periodList:\n",
    "        pctChangeDict[str(period)+'Day'] = round((data.loc[lastDay]/data.loc[lastDay-timedelta(hours=period*24)]-1)*100, 2)\n",
    "    pctChangeDf = pd.Series(pctChangeDict)\n",
    "    return pctChangeDf"
   ]
  },
  {
   "cell_type": "code",
   "execution_count": 31,
   "metadata": {},
   "outputs": [],
   "source": [
    "endTime = oiMaRatio.index[-1]\n",
    "maChangeDf = pd.DataFrame({\n",
    "    'btcCloseRatioPctChange': cal_pctChange(closeMaRatio.btc, endTime, [1, 3, 5, 8, 13]),\n",
    "    'ethCloseRatioPctChange': cal_pctChange(closeMaRatio.eth, endTime, [1, 3, 5, 8, 13]),\n",
    "    'btcVolumeRatioPctChange': cal_pctChange(volumeMaRatio.btc, endTime, [1, 3, 5, 8, 13]),\n",
    "    'ethVolumeRatioPctChange': cal_pctChange(volumeMaRatio.eth, endTime, [1, 3, 5, 8, 13]),   \n",
    "    'btcOpenInterestRatioPctChange': cal_pctChange(oiMaRatio.btc, endTime, [1, 3, 5, 8, 13]),\n",
    "    'ethOpenInterestRatioPctChange': cal_pctChange(oiMaRatio.eth, endTime, [1, 3, 5, 8, 13]),\n",
    "})"
   ]
  },
  {
   "cell_type": "code",
   "execution_count": 32,
   "metadata": {},
   "outputs": [],
   "source": [
    "maChangeDfT = round(maChangeDf.T, 2)"
   ]
  },
  {
   "cell_type": "code",
   "execution_count": 33,
   "metadata": {},
   "outputs": [],
   "source": [
    "maChangeDfT['avg'] = maChangeDfT.mean(axis=1)"
   ]
  },
  {
   "cell_type": "code",
   "execution_count": 34,
   "metadata": {},
   "outputs": [
    {
     "data": {
      "text/html": [
       "<div>\n",
       "<style scoped>\n",
       "    .dataframe tbody tr th:only-of-type {\n",
       "        vertical-align: middle;\n",
       "    }\n",
       "\n",
       "    .dataframe tbody tr th {\n",
       "        vertical-align: top;\n",
       "    }\n",
       "\n",
       "    .dataframe thead th {\n",
       "        text-align: right;\n",
       "    }\n",
       "</style>\n",
       "<table border=\"1\" class=\"dataframe\">\n",
       "  <thead>\n",
       "    <tr style=\"text-align: right;\">\n",
       "      <th></th>\n",
       "      <th>1Day</th>\n",
       "      <th>3Day</th>\n",
       "      <th>5Day</th>\n",
       "      <th>8Day</th>\n",
       "      <th>13Day</th>\n",
       "      <th>avg</th>\n",
       "    </tr>\n",
       "  </thead>\n",
       "  <tbody>\n",
       "    <tr>\n",
       "      <th>btcCloseRatioPctChange</th>\n",
       "      <td>1.67</td>\n",
       "      <td>5.71</td>\n",
       "      <td>10.42</td>\n",
       "      <td>14.12</td>\n",
       "      <td>16.49</td>\n",
       "      <td>9.682</td>\n",
       "    </tr>\n",
       "    <tr>\n",
       "      <th>ethCloseRatioPctChange</th>\n",
       "      <td>1.11</td>\n",
       "      <td>3.85</td>\n",
       "      <td>7.70</td>\n",
       "      <td>11.55</td>\n",
       "      <td>16.87</td>\n",
       "      <td>8.216</td>\n",
       "    </tr>\n",
       "    <tr>\n",
       "      <th>btcVolumeRatioPctChange</th>\n",
       "      <td>-1.09</td>\n",
       "      <td>0.21</td>\n",
       "      <td>8.48</td>\n",
       "      <td>43.29</td>\n",
       "      <td>85.01</td>\n",
       "      <td>27.180</td>\n",
       "    </tr>\n",
       "    <tr>\n",
       "      <th>ethVolumeRatioPctChange</th>\n",
       "      <td>-1.48</td>\n",
       "      <td>-3.07</td>\n",
       "      <td>10.71</td>\n",
       "      <td>51.60</td>\n",
       "      <td>116.29</td>\n",
       "      <td>34.810</td>\n",
       "    </tr>\n",
       "    <tr>\n",
       "      <th>btcOpenInterestRatioPctChange</th>\n",
       "      <td>-1.69</td>\n",
       "      <td>-4.00</td>\n",
       "      <td>-6.43</td>\n",
       "      <td>-3.94</td>\n",
       "      <td>-4.70</td>\n",
       "      <td>-4.152</td>\n",
       "    </tr>\n",
       "    <tr>\n",
       "      <th>ethOpenInterestRatioPctChange</th>\n",
       "      <td>-2.86</td>\n",
       "      <td>-8.48</td>\n",
       "      <td>-12.81</td>\n",
       "      <td>-11.79</td>\n",
       "      <td>-4.58</td>\n",
       "      <td>-8.104</td>\n",
       "    </tr>\n",
       "  </tbody>\n",
       "</table>\n",
       "</div>"
      ],
      "text/plain": [
       "                               1Day  3Day   5Day   8Day   13Day     avg\n",
       "btcCloseRatioPctChange         1.67  5.71  10.42  14.12   16.49   9.682\n",
       "ethCloseRatioPctChange         1.11  3.85   7.70  11.55   16.87   8.216\n",
       "btcVolumeRatioPctChange       -1.09  0.21   8.48  43.29   85.01  27.180\n",
       "ethVolumeRatioPctChange       -1.48 -3.07  10.71  51.60  116.29  34.810\n",
       "btcOpenInterestRatioPctChange -1.69 -4.00  -6.43  -3.94   -4.70  -4.152\n",
       "ethOpenInterestRatioPctChange -2.86 -8.48 -12.81 -11.79   -4.58  -8.104"
      ]
     },
     "execution_count": 34,
     "metadata": {},
     "output_type": "execute_result"
    }
   ],
   "source": [
    "maChangeDfT"
   ]
  },
  {
   "cell_type": "code",
   "execution_count": 35,
   "metadata": {},
   "outputs": [],
   "source": [
    "maChangeDfT.to_excel('RatioPctChange.xlsx')"
   ]
  },
  {
   "cell_type": "code",
   "execution_count": 36,
   "metadata": {},
   "outputs": [
    {
     "data": {
      "image/png": "[encoded data removed]",
      "text/plain": [
       "<Figure size 1152x864 with 3 Axes>"
      ]
     },
     "metadata": {
      "needs_background": "light"
     },
     "output_type": "display_data"
    }
   ],
   "source": [
    "f2Coin, (ax1, ax2, ax3) = plt.subplots(3, 1, sharex=True, figsize=(16,12))\n",
    "ax1.plot(closeMaRatio.btc.iloc[-24*7:], 'y', label='btcCloseRatio')\n",
    "ax1.plot(closeMaRatio.eth.iloc[-24*7:], 'b', label='ethCloseRatio')\n",
    "ax1.legend(loc='upper left')\n",
    "ax1.grid()\n",
    "ax2.plot(volumeMaRatio.btc.iloc[-24*7:], 'y', label='btcVolumeRatio')\n",
    "ax2.plot(volumeMaRatio.eth.iloc[-24*7:], 'b', label='ethVolumeRatio')\n",
    "ax2.legend(loc='upper left')\n",
    "ax2.grid()\n",
    "ax3.plot(oiMaRatio.btc.iloc[-24*7:], 'y', label='btcOiRatio')\n",
    "ax3.plot(oiMaRatio.eth.iloc[-24*7:], 'b', label='ethOiRatio')\n",
    "ax3.legend(loc='upper left')\n",
    "ax3.grid()\n",
    "f2Coin.savefig('RatioChart')"
   ]
  },
  {
   "cell_type": "code",
   "execution_count": null,
   "metadata": {},
   "outputs": [],
   "source": []
  },
  {
   "cell_type": "code",
   "execution_count": null,
   "metadata": {},
   "outputs": [],
   "source": []
  }
 ],
 "metadata": {
  "kernelspec": {
   "display_name": "Python 3",
   "language": "python",
   "name": "python3"
  },
  "language_info": {
   "codemirror_mode": {
    "name": "ipython",
    "version": 3
   },
   "file_extension": ".py",
   "mimetype": "text/x-python",
   "name": "python",
   "nbconvert_exporter": "python",
   "pygments_lexer": "ipython3",
   "version": "3.7.4"
  }
 },
 "nbformat": 4,
 "nbformat_minor": 2
}
